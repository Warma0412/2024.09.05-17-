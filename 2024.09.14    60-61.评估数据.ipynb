{
 "cells": [
  {
   "cell_type": "markdown",
   "id": "7940073a-a6ea-474b-a5ab-57109110b1a3",
   "metadata": {},
   "source": [
    "#### 2024.9.14\n",
    "\n",
    "**今日学习：\n",
    "（60）评估数据（61）实际上手**"
   ]
  },
  {
   "cell_type": "code",
   "execution_count": 1,
   "id": "8883ff70-6f76-47e7-a5ae-c8fa7f7c5e3d",
   "metadata": {},
   "outputs": [],
   "source": [
    "import pandas as pd"
   ]
  },
  {
   "cell_type": "markdown",
   "id": "3732af7c-7685-4a99-a303-35e0de4b7c43",
   "metadata": {},
   "source": [
    "#### 一、评估数据\n",
    "\n",
    "**（1）评估数据介绍:**\n",
    "\n",
    "        在分析数据之前，先对数据进行评估（以后再清洗）\n",
    "        包括两个方面：1.结构：根据结构清晰程度分为 乱数据——整洁数据\n",
    "                           整洁数据三个特点：每列是一个变量、每行是一个观察值、每个单元格是一个值\n",
    "                                   但整洁数据更多是为了方便数据分析，而不是方便人类来直观观察\n",
    "                                   如不同季度的GDP数据，列名不应该为Q1、Q2、Q3、Q4，而是用quarter来表示，其值为Q1、Q2···\n",
    "                    2.内容：根据内容是否需要清理分为 脏数据——干净数据\n",
    "                           如存在数据丢失、重复数据、不一致数据（指代同一数据的表示不同，如1班与一班）、无效或错误数据"
   ]
  },
  {
   "cell_type": "markdown",
   "id": "c27fbfab-0b01-4455-8a1d-96e2e4f4ff9d",
   "metadata": {},
   "source": [
    "==============================================================================="
   ]
  },
  {
   "cell_type": "markdown",
   "id": "5e8f7e09-62aa-4b4c-8328-e8131862df86",
   "metadata": {},
   "source": [
    "#### 二、实际上手\n",
    "\n",
    "**（1）快速了解数据概况:**\n",
    "\n",
    "        df.info()可以快速查看DataFrame数据的概况\n",
    "        df.sample(n)可以获取随机n行数据----如果数据中列数过多or值太长时，可以通过pd.set_option(\"display.max_columns&colwidth\", n)调整"
   ]
  },
  {
   "cell_type": "markdown",
   "id": "ec24d962-5714-4668-9594-2cee92a0b087",
   "metadata": {},
   "source": [
    "**（2）如何发现空缺值:**\n",
    "\n",
    "        通过df.info()查看Non-Null Count数据数量，就能看出是否有缺失值\n",
    "\n",
    "        也可以通过调用.isnull()方法检查值是否为空缺值，在Series和DataFrame都能使用----返回True即为空缺值"
   ]
  },
  {
   "cell_type": "code",
   "execution_count": 2,
   "id": "1064202c-55e5-452a-94a6-fc504eef6a0d",
   "metadata": {},
   "outputs": [
    {
     "name": "stderr",
     "output_type": "stream",
     "text": [
      "/var/folders/nm/k6xd7m5j5_n5tkt_d9xcbflh0000gn/T/ipykernel_68811/1194350206.py:1: DtypeWarning: Columns (22,105) have mixed types. Specify dtype option on import or set low_memory=False.\n",
      "  df_fifa = pd.read_csv(\"/Users/warma/Downloads/fifa_players_2022.csv\")\n"
     ]
    }
   ],
   "source": [
    "df_fifa = pd.read_csv(\"/Users/warma/Downloads/fifa_players_2022.csv\")   "
   ]
  },
  {
   "cell_type": "code",
   "execution_count": 3,
   "id": "b1752b0f-c10b-4ab3-871d-ac12e50873eb",
   "metadata": {},
   "outputs": [
    {
     "name": "stdout",
     "output_type": "stream",
     "text": [
      "<class 'pandas.core.frame.DataFrame'>\n",
      "RangeIndex: 19239 entries, 0 to 19238\n",
      "Columns: 107 entries, sofifa_id to nation_flag_url\n",
      "dtypes: float64(12), int64(45), object(50)\n",
      "memory usage: 15.7+ MB\n"
     ]
    }
   ],
   "source": [
    "df_fifa.info()    # 由于列数太多在这无法显示"
   ]
  },
  {
   "cell_type": "code",
   "execution_count": 4,
   "id": "c9ad4cef-09a8-40ca-9407-7e825e1bc360",
   "metadata": {},
   "outputs": [
    {
     "data": {
      "text/html": [
       "<div>\n",
       "<style scoped>\n",
       "    .dataframe tbody tr th:only-of-type {\n",
       "        vertical-align: middle;\n",
       "    }\n",
       "\n",
       "    .dataframe tbody tr th {\n",
       "        vertical-align: top;\n",
       "    }\n",
       "\n",
       "    .dataframe thead th {\n",
       "        text-align: right;\n",
       "    }\n",
       "</style>\n",
       "<table border=\"1\" class=\"dataframe\">\n",
       "  <thead>\n",
       "    <tr style=\"text-align: right;\">\n",
       "      <th></th>\n",
       "      <th>sofifa_id</th>\n",
       "      <th>player_url</th>\n",
       "      <th>short_name</th>\n",
       "      <th>long_name</th>\n",
       "      <th>player_positions</th>\n",
       "      <th>overall</th>\n",
       "      <th>potential</th>\n",
       "      <th>value_eur</th>\n",
       "      <th>wage_eur</th>\n",
       "      <th>age</th>\n",
       "      <th>...</th>\n",
       "      <th>lcb</th>\n",
       "      <th>cb</th>\n",
       "      <th>rcb</th>\n",
       "      <th>rb</th>\n",
       "      <th>gk</th>\n",
       "      <th>player_face_url</th>\n",
       "      <th>club_logo_url</th>\n",
       "      <th>club_flag_url</th>\n",
       "      <th>nation_logo_url</th>\n",
       "      <th>nation_flag_url</th>\n",
       "    </tr>\n",
       "  </thead>\n",
       "  <tbody>\n",
       "    <tr>\n",
       "      <th>0</th>\n",
       "      <td>False</td>\n",
       "      <td>False</td>\n",
       "      <td>False</td>\n",
       "      <td>False</td>\n",
       "      <td>False</td>\n",
       "      <td>False</td>\n",
       "      <td>False</td>\n",
       "      <td>False</td>\n",
       "      <td>False</td>\n",
       "      <td>False</td>\n",
       "      <td>...</td>\n",
       "      <td>False</td>\n",
       "      <td>False</td>\n",
       "      <td>False</td>\n",
       "      <td>False</td>\n",
       "      <td>False</td>\n",
       "      <td>False</td>\n",
       "      <td>False</td>\n",
       "      <td>False</td>\n",
       "      <td>False</td>\n",
       "      <td>False</td>\n",
       "    </tr>\n",
       "    <tr>\n",
       "      <th>1</th>\n",
       "      <td>False</td>\n",
       "      <td>False</td>\n",
       "      <td>False</td>\n",
       "      <td>False</td>\n",
       "      <td>False</td>\n",
       "      <td>False</td>\n",
       "      <td>False</td>\n",
       "      <td>False</td>\n",
       "      <td>False</td>\n",
       "      <td>False</td>\n",
       "      <td>...</td>\n",
       "      <td>False</td>\n",
       "      <td>False</td>\n",
       "      <td>False</td>\n",
       "      <td>False</td>\n",
       "      <td>False</td>\n",
       "      <td>False</td>\n",
       "      <td>False</td>\n",
       "      <td>False</td>\n",
       "      <td>False</td>\n",
       "      <td>False</td>\n",
       "    </tr>\n",
       "    <tr>\n",
       "      <th>2</th>\n",
       "      <td>False</td>\n",
       "      <td>False</td>\n",
       "      <td>False</td>\n",
       "      <td>False</td>\n",
       "      <td>False</td>\n",
       "      <td>False</td>\n",
       "      <td>False</td>\n",
       "      <td>False</td>\n",
       "      <td>False</td>\n",
       "      <td>False</td>\n",
       "      <td>...</td>\n",
       "      <td>False</td>\n",
       "      <td>False</td>\n",
       "      <td>False</td>\n",
       "      <td>False</td>\n",
       "      <td>False</td>\n",
       "      <td>False</td>\n",
       "      <td>False</td>\n",
       "      <td>False</td>\n",
       "      <td>False</td>\n",
       "      <td>False</td>\n",
       "    </tr>\n",
       "    <tr>\n",
       "      <th>3</th>\n",
       "      <td>False</td>\n",
       "      <td>False</td>\n",
       "      <td>False</td>\n",
       "      <td>False</td>\n",
       "      <td>False</td>\n",
       "      <td>False</td>\n",
       "      <td>False</td>\n",
       "      <td>False</td>\n",
       "      <td>False</td>\n",
       "      <td>False</td>\n",
       "      <td>...</td>\n",
       "      <td>False</td>\n",
       "      <td>False</td>\n",
       "      <td>False</td>\n",
       "      <td>False</td>\n",
       "      <td>False</td>\n",
       "      <td>False</td>\n",
       "      <td>False</td>\n",
       "      <td>False</td>\n",
       "      <td>True</td>\n",
       "      <td>False</td>\n",
       "    </tr>\n",
       "    <tr>\n",
       "      <th>4</th>\n",
       "      <td>False</td>\n",
       "      <td>False</td>\n",
       "      <td>False</td>\n",
       "      <td>False</td>\n",
       "      <td>False</td>\n",
       "      <td>False</td>\n",
       "      <td>False</td>\n",
       "      <td>False</td>\n",
       "      <td>False</td>\n",
       "      <td>False</td>\n",
       "      <td>...</td>\n",
       "      <td>False</td>\n",
       "      <td>False</td>\n",
       "      <td>False</td>\n",
       "      <td>False</td>\n",
       "      <td>False</td>\n",
       "      <td>False</td>\n",
       "      <td>False</td>\n",
       "      <td>False</td>\n",
       "      <td>False</td>\n",
       "      <td>False</td>\n",
       "    </tr>\n",
       "    <tr>\n",
       "      <th>...</th>\n",
       "      <td>...</td>\n",
       "      <td>...</td>\n",
       "      <td>...</td>\n",
       "      <td>...</td>\n",
       "      <td>...</td>\n",
       "      <td>...</td>\n",
       "      <td>...</td>\n",
       "      <td>...</td>\n",
       "      <td>...</td>\n",
       "      <td>...</td>\n",
       "      <td>...</td>\n",
       "      <td>...</td>\n",
       "      <td>...</td>\n",
       "      <td>...</td>\n",
       "      <td>...</td>\n",
       "      <td>...</td>\n",
       "      <td>...</td>\n",
       "      <td>...</td>\n",
       "      <td>...</td>\n",
       "      <td>...</td>\n",
       "      <td>...</td>\n",
       "    </tr>\n",
       "    <tr>\n",
       "      <th>19234</th>\n",
       "      <td>False</td>\n",
       "      <td>False</td>\n",
       "      <td>False</td>\n",
       "      <td>False</td>\n",
       "      <td>False</td>\n",
       "      <td>False</td>\n",
       "      <td>False</td>\n",
       "      <td>False</td>\n",
       "      <td>False</td>\n",
       "      <td>False</td>\n",
       "      <td>...</td>\n",
       "      <td>False</td>\n",
       "      <td>False</td>\n",
       "      <td>False</td>\n",
       "      <td>False</td>\n",
       "      <td>False</td>\n",
       "      <td>False</td>\n",
       "      <td>False</td>\n",
       "      <td>False</td>\n",
       "      <td>True</td>\n",
       "      <td>False</td>\n",
       "    </tr>\n",
       "    <tr>\n",
       "      <th>19235</th>\n",
       "      <td>False</td>\n",
       "      <td>False</td>\n",
       "      <td>False</td>\n",
       "      <td>False</td>\n",
       "      <td>False</td>\n",
       "      <td>False</td>\n",
       "      <td>False</td>\n",
       "      <td>False</td>\n",
       "      <td>False</td>\n",
       "      <td>False</td>\n",
       "      <td>...</td>\n",
       "      <td>False</td>\n",
       "      <td>False</td>\n",
       "      <td>False</td>\n",
       "      <td>False</td>\n",
       "      <td>False</td>\n",
       "      <td>False</td>\n",
       "      <td>False</td>\n",
       "      <td>False</td>\n",
       "      <td>True</td>\n",
       "      <td>False</td>\n",
       "    </tr>\n",
       "    <tr>\n",
       "      <th>19236</th>\n",
       "      <td>False</td>\n",
       "      <td>False</td>\n",
       "      <td>False</td>\n",
       "      <td>False</td>\n",
       "      <td>False</td>\n",
       "      <td>False</td>\n",
       "      <td>False</td>\n",
       "      <td>False</td>\n",
       "      <td>False</td>\n",
       "      <td>False</td>\n",
       "      <td>...</td>\n",
       "      <td>False</td>\n",
       "      <td>False</td>\n",
       "      <td>False</td>\n",
       "      <td>False</td>\n",
       "      <td>False</td>\n",
       "      <td>False</td>\n",
       "      <td>False</td>\n",
       "      <td>False</td>\n",
       "      <td>True</td>\n",
       "      <td>False</td>\n",
       "    </tr>\n",
       "    <tr>\n",
       "      <th>19237</th>\n",
       "      <td>False</td>\n",
       "      <td>False</td>\n",
       "      <td>False</td>\n",
       "      <td>False</td>\n",
       "      <td>False</td>\n",
       "      <td>False</td>\n",
       "      <td>False</td>\n",
       "      <td>False</td>\n",
       "      <td>False</td>\n",
       "      <td>False</td>\n",
       "      <td>...</td>\n",
       "      <td>False</td>\n",
       "      <td>False</td>\n",
       "      <td>False</td>\n",
       "      <td>False</td>\n",
       "      <td>False</td>\n",
       "      <td>False</td>\n",
       "      <td>False</td>\n",
       "      <td>False</td>\n",
       "      <td>True</td>\n",
       "      <td>False</td>\n",
       "    </tr>\n",
       "    <tr>\n",
       "      <th>19238</th>\n",
       "      <td>False</td>\n",
       "      <td>False</td>\n",
       "      <td>False</td>\n",
       "      <td>False</td>\n",
       "      <td>False</td>\n",
       "      <td>False</td>\n",
       "      <td>False</td>\n",
       "      <td>False</td>\n",
       "      <td>False</td>\n",
       "      <td>False</td>\n",
       "      <td>...</td>\n",
       "      <td>False</td>\n",
       "      <td>False</td>\n",
       "      <td>False</td>\n",
       "      <td>False</td>\n",
       "      <td>False</td>\n",
       "      <td>False</td>\n",
       "      <td>False</td>\n",
       "      <td>False</td>\n",
       "      <td>True</td>\n",
       "      <td>False</td>\n",
       "    </tr>\n",
       "  </tbody>\n",
       "</table>\n",
       "<p>19239 rows × 107 columns</p>\n",
       "</div>"
      ],
      "text/plain": [
       "       sofifa_id  player_url  short_name  long_name  player_positions  \\\n",
       "0          False       False       False      False             False   \n",
       "1          False       False       False      False             False   \n",
       "2          False       False       False      False             False   \n",
       "3          False       False       False      False             False   \n",
       "4          False       False       False      False             False   \n",
       "...          ...         ...         ...        ...               ...   \n",
       "19234      False       False       False      False             False   \n",
       "19235      False       False       False      False             False   \n",
       "19236      False       False       False      False             False   \n",
       "19237      False       False       False      False             False   \n",
       "19238      False       False       False      False             False   \n",
       "\n",
       "       overall  potential  value_eur  wage_eur    age  ...    lcb     cb  \\\n",
       "0        False      False      False     False  False  ...  False  False   \n",
       "1        False      False      False     False  False  ...  False  False   \n",
       "2        False      False      False     False  False  ...  False  False   \n",
       "3        False      False      False     False  False  ...  False  False   \n",
       "4        False      False      False     False  False  ...  False  False   \n",
       "...        ...        ...        ...       ...    ...  ...    ...    ...   \n",
       "19234    False      False      False     False  False  ...  False  False   \n",
       "19235    False      False      False     False  False  ...  False  False   \n",
       "19236    False      False      False     False  False  ...  False  False   \n",
       "19237    False      False      False     False  False  ...  False  False   \n",
       "19238    False      False      False     False  False  ...  False  False   \n",
       "\n",
       "         rcb     rb     gk  player_face_url  club_logo_url  club_flag_url  \\\n",
       "0      False  False  False            False          False          False   \n",
       "1      False  False  False            False          False          False   \n",
       "2      False  False  False            False          False          False   \n",
       "3      False  False  False            False          False          False   \n",
       "4      False  False  False            False          False          False   \n",
       "...      ...    ...    ...              ...            ...            ...   \n",
       "19234  False  False  False            False          False          False   \n",
       "19235  False  False  False            False          False          False   \n",
       "19236  False  False  False            False          False          False   \n",
       "19237  False  False  False            False          False          False   \n",
       "19238  False  False  False            False          False          False   \n",
       "\n",
       "       nation_logo_url  nation_flag_url  \n",
       "0                False            False  \n",
       "1                False            False  \n",
       "2                False            False  \n",
       "3                 True            False  \n",
       "4                False            False  \n",
       "...                ...              ...  \n",
       "19234             True            False  \n",
       "19235             True            False  \n",
       "19236             True            False  \n",
       "19237             True            False  \n",
       "19238             True            False  \n",
       "\n",
       "[19239 rows x 107 columns]"
      ]
     },
     "execution_count": 4,
     "metadata": {},
     "output_type": "execute_result"
    }
   ],
   "source": [
    "df_fifa.isnull()"
   ]
  },
  {
   "cell_type": "code",
   "execution_count": 5,
   "id": "88f3c983-aa8e-4b74-9179-2a0787013c1d",
   "metadata": {},
   "outputs": [
    {
     "data": {
      "text/plain": [
       "sofifa_id               0\n",
       "player_url              0\n",
       "short_name              0\n",
       "long_name               0\n",
       "player_positions        0\n",
       "                    ...  \n",
       "player_face_url         0\n",
       "club_logo_url          61\n",
       "club_flag_url          61\n",
       "nation_logo_url     18480\n",
       "nation_flag_url         0\n",
       "Length: 107, dtype: int64"
      ]
     },
     "execution_count": 5,
     "metadata": {},
     "output_type": "execute_result"
    }
   ],
   "source": [
    "df_fifa.isnull().sum()    # 得到各列中空缺值的数量----True在计算里被视为1，False视为0"
   ]
  },
  {
   "cell_type": "code",
   "execution_count": 6,
   "id": "b844debc-0427-4b85-8ad2-4a2c1a9b5fae",
   "metadata": {},
   "outputs": [
    {
     "data": {
      "text/plain": [
       "2"
      ]
     },
     "execution_count": 6,
     "metadata": {},
     "output_type": "execute_result"
    }
   ],
   "source": [
    "True + 1"
   ]
  },
  {
   "cell_type": "markdown",
   "id": "0036c590-8b05-444d-a055-4ec05f8018a7",
   "metadata": {},
   "source": [
    " **（3）提取存在空缺值的行:**\n",
    "\n",
    "        Series：调用Series[Series[\"列名\"].isnull()]可以提取出Series中指定列存在空缺值的行\n",
    "                因为Series[\"列名\"].isnull()会返回关于制定列的bool列表，仅提取其中值为True的行\n",
    "        DataFrame也同理"
   ]
  },
  {
   "cell_type": "code",
   "execution_count": 7,
   "id": "148f219f-8b1f-49da-91da-ac5d3059db80",
   "metadata": {},
   "outputs": [
    {
     "data": {
      "text/html": [
       "<div>\n",
       "<style scoped>\n",
       "    .dataframe tbody tr th:only-of-type {\n",
       "        vertical-align: middle;\n",
       "    }\n",
       "\n",
       "    .dataframe tbody tr th {\n",
       "        vertical-align: top;\n",
       "    }\n",
       "\n",
       "    .dataframe thead th {\n",
       "        text-align: right;\n",
       "    }\n",
       "</style>\n",
       "<table border=\"1\" class=\"dataframe\">\n",
       "  <thead>\n",
       "    <tr style=\"text-align: right;\">\n",
       "      <th></th>\n",
       "      <th>sofifa_id</th>\n",
       "      <th>player_url</th>\n",
       "      <th>short_name</th>\n",
       "      <th>long_name</th>\n",
       "      <th>player_positions</th>\n",
       "      <th>overall</th>\n",
       "      <th>potential</th>\n",
       "      <th>value_eur</th>\n",
       "      <th>wage_eur</th>\n",
       "      <th>age</th>\n",
       "      <th>...</th>\n",
       "      <th>lcb</th>\n",
       "      <th>cb</th>\n",
       "      <th>rcb</th>\n",
       "      <th>rb</th>\n",
       "      <th>gk</th>\n",
       "      <th>player_face_url</th>\n",
       "      <th>club_logo_url</th>\n",
       "      <th>club_flag_url</th>\n",
       "      <th>nation_logo_url</th>\n",
       "      <th>nation_flag_url</th>\n",
       "    </tr>\n",
       "  </thead>\n",
       "  <tbody>\n",
       "  </tbody>\n",
       "</table>\n",
       "<p>0 rows × 107 columns</p>\n",
       "</div>"
      ],
      "text/plain": [
       "Empty DataFrame\n",
       "Columns: [sofifa_id, player_url, short_name, long_name, player_positions, overall, potential, value_eur, wage_eur, age, dob, height_cm, weight_kg, club_name, league_name, league_level, club_position, club_jersey_number, club_loaned_from, club_joined, club_contract_valid_until, nationality, nation_position, nation_jersey_number, preferred_foot, weak_foot, skill_moves, international_reputation, work_rate, body_type, real_face, release_clause_eur, player_tags, player_traits, pace, shooting, passing, dribbling, defending, physic, attacking_crossing, attacking_finishing, attacking_heading_accuracy, attacking_short_passing, attacking_volleys, skill_dribbling, skill_curve, skill_fk_accuracy, skill_long_passing, skill_ball_control, movement_acceleration, movement_sprint_speed, movement_agility, movement_reactions, movement_balance, power_shot_power, power_jumping, power_stamina, power_strength, power_long_shots, mentality_aggression, mentality_interceptions, mentality_positioning, mentality_vision, mentality_penalties, mentality_composure, defending_marking_awareness, defending_standing_tackle, defending_sliding_tackle, goalkeeping_diving, goalkeeping_handling, goalkeeping_kicking, goalkeeping_positioning, goalkeeping_reflexes, goalkeeping_speed, ls, st, rs, lw, lf, cf, rf, rw, lam, cam, ram, lm, lcm, cm, rcm, rm, lwb, ldm, cdm, rdm, rwb, lb, lcb, cb, rcb, ...]\n",
       "Index: []\n",
       "\n",
       "[0 rows x 107 columns]"
      ]
     },
     "execution_count": 7,
     "metadata": {},
     "output_type": "execute_result"
    }
   ],
   "source": [
    "df_fifa[df_fifa[\"sofifa_id\"].isnull()]    # 不返回具体行，说明\"sofifa_id\"行没有空缺值"
   ]
  },
  {
   "cell_type": "markdown",
   "id": "563263f4-689f-4e2d-a909-f457c9ab01f4",
   "metadata": {},
   "source": [
    " **（4）评估重复值:**\n",
    "\n",
    "        Series和DataFrame都可以调用.duplicated()方法来检查值或行是否重复"
   ]
  },
  {
   "cell_type": "code",
   "execution_count": 8,
   "id": "5bed7d42-7619-43d5-88c1-4b946000756e",
   "metadata": {},
   "outputs": [
    {
     "data": {
      "text/plain": [
       "0        False\n",
       "1        False\n",
       "2        False\n",
       "3        False\n",
       "4        False\n",
       "         ...  \n",
       "19234    False\n",
       "19235    False\n",
       "19236    False\n",
       "19237    False\n",
       "19238    False\n",
       "Name: sofifa_id, Length: 19239, dtype: bool"
      ]
     },
     "execution_count": 8,
     "metadata": {},
     "output_type": "execute_result"
    }
   ],
   "source": [
    "df_fifa[\"sofifa_id\"].duplicated()    # 当\"sofifa_id\"行不存在重复值时返回False"
   ]
  },
  {
   "cell_type": "code",
   "execution_count": 9,
   "id": "f6ecb8c5-4bad-4d0c-80e2-17c92727ebbd",
   "metadata": {},
   "outputs": [
    {
     "data": {
      "text/plain": [
       "np.int64(0)"
      ]
     },
     "execution_count": 9,
     "metadata": {},
     "output_type": "execute_result"
    }
   ],
   "source": [
    "df_fifa[\"sofifa_id\"].duplicated().sum()    # 统计重复值的个数据"
   ]
  },
  {
   "cell_type": "code",
   "execution_count": 10,
   "id": "c4effebc-e048-4e24-a302-200d4157f145",
   "metadata": {},
   "outputs": [
    {
     "data": {
      "text/plain": [
       "0        False\n",
       "1        False\n",
       "2        False\n",
       "3        False\n",
       "4        False\n",
       "         ...  \n",
       "19234    False\n",
       "19235    False\n",
       "19236    False\n",
       "19237    False\n",
       "19238    False\n",
       "Length: 19239, dtype: bool"
      ]
     },
     "execution_count": 10,
     "metadata": {},
     "output_type": "execute_result"
    }
   ],
   "source": [
    "df_fifa.duplicated()    # 不指定列时，即当整个行实例完全一样时，才会返回True"
   ]
  },
  {
   "cell_type": "code",
   "execution_count": 11,
   "id": "feca27f7-4145-4927-80c5-369dddccf431",
   "metadata": {},
   "outputs": [
    {
     "data": {
      "text/plain": [
       "0        False\n",
       "1        False\n",
       "2        False\n",
       "3        False\n",
       "4        False\n",
       "         ...  \n",
       "19234    False\n",
       "19235    False\n",
       "19236    False\n",
       "19237    False\n",
       "19238    False\n",
       "Length: 19239, dtype: bool"
      ]
     },
     "execution_count": 11,
     "metadata": {},
     "output_type": "execute_result"
    }
   ],
   "source": [
    "df_fifa.duplicated(subset=[\"sofifa_id\", \"player_url\"])    # subset=[\"列1\", \"列2\"]，即只有列1与列2完全重复时，才会返回 True"
   ]
  },
  {
   "cell_type": "code",
   "execution_count": 12,
   "id": "e52ecf49-93a6-4eb7-beaf-80b497e5524d",
   "metadata": {},
   "outputs": [
    {
     "data": {
      "text/html": [
       "<div>\n",
       "<style scoped>\n",
       "    .dataframe tbody tr th:only-of-type {\n",
       "        vertical-align: middle;\n",
       "    }\n",
       "\n",
       "    .dataframe tbody tr th {\n",
       "        vertical-align: top;\n",
       "    }\n",
       "\n",
       "    .dataframe thead th {\n",
       "        text-align: right;\n",
       "    }\n",
       "</style>\n",
       "<table border=\"1\" class=\"dataframe\">\n",
       "  <thead>\n",
       "    <tr style=\"text-align: right;\">\n",
       "      <th></th>\n",
       "      <th>sofifa_id</th>\n",
       "      <th>player_url</th>\n",
       "      <th>short_name</th>\n",
       "      <th>long_name</th>\n",
       "      <th>player_positions</th>\n",
       "      <th>overall</th>\n",
       "      <th>potential</th>\n",
       "      <th>value_eur</th>\n",
       "      <th>wage_eur</th>\n",
       "      <th>age</th>\n",
       "      <th>...</th>\n",
       "      <th>lcb</th>\n",
       "      <th>cb</th>\n",
       "      <th>rcb</th>\n",
       "      <th>rb</th>\n",
       "      <th>gk</th>\n",
       "      <th>player_face_url</th>\n",
       "      <th>club_logo_url</th>\n",
       "      <th>club_flag_url</th>\n",
       "      <th>nation_logo_url</th>\n",
       "      <th>nation_flag_url</th>\n",
       "    </tr>\n",
       "  </thead>\n",
       "  <tbody>\n",
       "  </tbody>\n",
       "</table>\n",
       "<p>0 rows × 107 columns</p>\n",
       "</div>"
      ],
      "text/plain": [
       "Empty DataFrame\n",
       "Columns: [sofifa_id, player_url, short_name, long_name, player_positions, overall, potential, value_eur, wage_eur, age, dob, height_cm, weight_kg, club_name, league_name, league_level, club_position, club_jersey_number, club_loaned_from, club_joined, club_contract_valid_until, nationality, nation_position, nation_jersey_number, preferred_foot, weak_foot, skill_moves, international_reputation, work_rate, body_type, real_face, release_clause_eur, player_tags, player_traits, pace, shooting, passing, dribbling, defending, physic, attacking_crossing, attacking_finishing, attacking_heading_accuracy, attacking_short_passing, attacking_volleys, skill_dribbling, skill_curve, skill_fk_accuracy, skill_long_passing, skill_ball_control, movement_acceleration, movement_sprint_speed, movement_agility, movement_reactions, movement_balance, power_shot_power, power_jumping, power_stamina, power_strength, power_long_shots, mentality_aggression, mentality_interceptions, mentality_positioning, mentality_vision, mentality_penalties, mentality_composure, defending_marking_awareness, defending_standing_tackle, defending_sliding_tackle, goalkeeping_diving, goalkeeping_handling, goalkeeping_kicking, goalkeeping_positioning, goalkeeping_reflexes, goalkeeping_speed, ls, st, rs, lw, lf, cf, rf, rw, lam, cam, ram, lm, lcm, cm, rcm, rm, lwb, ldm, cdm, rdm, rwb, lb, lcb, cb, rcb, ...]\n",
       "Index: []\n",
       "\n",
       "[0 rows x 107 columns]"
      ]
     },
     "execution_count": 12,
     "metadata": {},
     "output_type": "execute_result"
    }
   ],
   "source": [
    "df_fifa[df_fifa.duplicated(subset=[\"sofifa_id\", \"player_url\"])]    # 再加上 df_fifa[*] 即可调出存在重复值的行"
   ]
  },
  {
   "cell_type": "markdown",
   "id": "2b408bea-27d1-481b-bb85-79258e34c199",
   "metadata": {},
   "source": [
    " **（5）评估不一致数据:**\n",
    "\n",
    "        借用Series[\"列名\"].value_counts()方法，会返回Series指定列中各个值的个数\n",
    "\n",
    "        但很多情况下，我们不能直接根据.value_counts()来进行评估，如身高不小心打成1720，此时可以采取其他方法来评估\n",
    "                如.sort_values()方法来自行查看\n",
    "                  .describe()方法来查看min和max值"
   ]
  },
  {
   "cell_type": "code",
   "execution_count": 13,
   "id": "0008c333-0530-4295-b7f8-e03172fa1640",
   "metadata": {},
   "outputs": [
    {
     "data": {
      "text/plain": [
       "sofifa_id\n",
       "158023    1\n",
       "242947    1\n",
       "242748    1\n",
       "242710    1\n",
       "242684    1\n",
       "         ..\n",
       "155524    1\n",
       "150106    1\n",
       "148696    1\n",
       "145996    1\n",
       "264540    1\n",
       "Name: count, Length: 19239, dtype: int64"
      ]
     },
     "execution_count": 13,
     "metadata": {},
     "output_type": "execute_result"
    }
   ],
   "source": [
    "df_fifa[\"sofifa_id\"].value_counts()    # 均返回 1，即表示各个值都是独特的----主要用来鉴别类似 \"1班\"、\"一班\"这样的不一致数据"
   ]
  }
 ],
 "metadata": {
  "kernelspec": {
   "display_name": "Python 3 (ipykernel)",
   "language": "python",
   "name": "python3"
  },
  "language_info": {
   "codemirror_mode": {
    "name": "ipython",
    "version": 3
   },
   "file_extension": ".py",
   "mimetype": "text/x-python",
   "name": "python",
   "nbconvert_exporter": "python",
   "pygments_lexer": "ipython3",
   "version": "3.12.1"
  }
 },
 "nbformat": 4,
 "nbformat_minor": 5
}
