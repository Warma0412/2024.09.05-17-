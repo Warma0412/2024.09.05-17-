{
 "cells": [
  {
   "cell_type": "markdown",
   "id": "a96d585e-9fe2-4312-a9b1-3dad7f602892",
   "metadata": {},
   "source": [
    "#### 2024.9.8\n",
    "\n",
    "**今日学习：\n",
    "（42）NumPy入门-探索更多数组、（43）小测试、（44）Pandas入门-Series**"
   ]
  },
  {
   "cell_type": "code",
   "execution_count": 1,
   "id": "c655ef20-bdb2-49e5-bba6-01abb1af6a5e",
   "metadata": {},
   "outputs": [],
   "source": [
    "import numpy as np"
   ]
  },
  {
   "cell_type": "markdown",
   "id": "7378a50e-4e52-4314-a8f7-327bd8c3122c",
   "metadata": {},
   "source": [
    "一、NumPy入门-探索更多数组\n",
    "\n",
    "**（1）拼接一维数组:**\n",
    "\n",
    "        如果想在一维数组中添加新的元素，可使用np.concatenate([])\n",
    "\n",
    "        便会将列表中的元素拼接起来"
   ]
  },
  {
   "cell_type": "code",
   "execution_count": 2,
   "id": "ff3ef71a-c405-452e-bafc-23ba70de6b5b",
   "metadata": {},
   "outputs": [],
   "source": [
    "array_1 = np.array([1, 2, 3])\n",
    "array_2 = np.array([4, 5, 6])\n",
    "array_3 = np.zeros(3)"
   ]
  },
  {
   "cell_type": "code",
   "execution_count": 3,
   "id": "3c31720b-5fb6-4d51-89e6-a3150353ea12",
   "metadata": {},
   "outputs": [
    {
     "data": {
      "text/plain": [
       "array([1, 2, 3, 4, 5, 6])"
      ]
     },
     "execution_count": 3,
     "metadata": {},
     "output_type": "execute_result"
    }
   ],
   "source": [
    "np.concatenate([array_1, array_2])    # concatenate可以接受的参数为列表，即参数为[array_1, array_2]，其中两个array数组为元素（实际上使用括号为元组也可以）"
   ]
  },
  {
   "cell_type": "code",
   "execution_count": 4,
   "id": "80813671-a03f-41e8-9a66-ec2280f88498",
   "metadata": {},
   "outputs": [
    {
     "data": {
      "text/plain": [
       "array([1., 2., 3., 0., 0., 0.])"
      ]
     },
     "execution_count": 4,
     "metadata": {},
     "output_type": "execute_result"
    }
   ],
   "source": [
    "combined_1with3 = np.concatenate([array_1, array_3])\n",
    "combined_1with3                       # 输出的结果都是浮点数，是因为array_1和array_3两者的数据类型不一致，被强制转换了"
   ]
  },
  {
   "cell_type": "markdown",
   "id": "5f555ba7-020c-4e00-ba14-8ec3d849c99d",
   "metadata": {},
   "source": [
    "**（2）数组排序:**\n",
    "\n",
    "        类似于python中的sorted()和.sort()，前者不改变原始排序，借用此生成一个新的排序；而后者则直接将改变原始排序，不生成新的\n",
    "\n",
    "        np.sort()就类似与sorted，不改变原始排序"
   ]
  },
  {
   "cell_type": "code",
   "execution_count": 31,
   "id": "59212aab-cb19-4ce5-aa93-ffd566db21e5",
   "metadata": {},
   "outputs": [
    {
     "name": "stdout",
     "output_type": "stream",
     "text": [
      "[1 2 3 4 5]\n",
      "[3 1 5 4 2]\n"
     ]
    }
   ],
   "source": [
    "array_4 = np.array([3, 1, 5, 4, 2])\n",
    "array_4sort = np.sort(array_4)        # 和sorted()一样，不改变原始排序\n",
    "print(array_4sort)\n",
    "print(array_4)                        # 保留元素排序"
   ]
  },
  {
   "cell_type": "code",
   "execution_count": 30,
   "id": "cffe0e36-175c-417d-a055-3575b11b4888",
   "metadata": {},
   "outputs": [
    {
     "name": "stdout",
     "output_type": "stream",
     "text": [
      "None\n",
      "[1 2 3 4 5 6 7]\n"
     ]
    }
   ],
   "source": [
    "array_5 = np.array([3, 1, 5, 4, 7, 2, 6])\n",
    "print(array_5.sort())                 # 不生成新的array，什么都不返回，即返回None----但直接改变排序\n",
    "print(array_5)"
   ]
  },
  {
   "cell_type": "markdown",
   "id": "5c12d6da-e35a-4131-be81-363e1eff8ca4",
   "metadata": {},
   "source": [
    "**（3）索引获得元素:**\n",
    "\n",
    "        类似于python中的索引，同样通过[]获取array中的元素"
   ]
  },
  {
   "cell_type": "code",
   "execution_count": 7,
   "id": "71b1c4ca-8c3d-4e71-b327-01579e24006d",
   "metadata": {},
   "outputs": [
    {
     "name": "stdout",
     "output_type": "stream",
     "text": [
      "1\n",
      "3\n"
     ]
    }
   ],
   "source": [
    "print(array_1[0])\n",
    "print(array_1[-1])"
   ]
  },
  {
   "cell_type": "code",
   "execution_count": 8,
   "id": "3f9efa09-86b7-4a1d-b0f9-a865daf31bda",
   "metadata": {},
   "outputs": [
    {
     "data": {
      "text/plain": [
       "array([1, 2])"
      ]
     },
     "execution_count": 8,
     "metadata": {},
     "output_type": "execute_result"
    }
   ],
   "source": [
    "array_1[0:2]    # 获取切片，从[0]元素开始，不包括[2]元素----记住切片使用："
   ]
  },
  {
   "cell_type": "markdown",
   "id": "15931d56-949d-4512-bd45-a684ab75e5fd",
   "metadata": {},
   "source": [
    "**（4）数组运算:**\n",
    "\n",
    "        如形状相同的两个一维数组相加，便会返回一个相同位置元素相加后的数组\n",
    "        加+、减-、乘*、除/"
   ]
  },
  {
   "cell_type": "code",
   "execution_count": 9,
   "id": "973d1fdc-22e7-4a53-bfe2-ca5c80cd930d",
   "metadata": {},
   "outputs": [
    {
     "name": "stdout",
     "output_type": "stream",
     "text": [
      "[5 7 9]\n",
      "[-3 -3 -3]\n",
      "[ 4 10 18]\n",
      "[0.25 0.4  0.5 ]\n"
     ]
    }
   ],
   "source": [
    "print(array_1 + array_2)\n",
    "print(array_1 - array_2)\n",
    "print(array_1 * array_2)\n",
    "print(array_1 / array_2)"
   ]
  },
  {
   "cell_type": "code",
   "execution_count": 10,
   "id": "83fb49f5-bc9f-4517-aa88-d17010e5e4cf",
   "metadata": {},
   "outputs": [
    {
     "data": {
      "text/plain": [
       "array([2, 4, 6])"
      ]
     },
     "execution_count": 10,
     "metadata": {},
     "output_type": "execute_result"
    }
   ],
   "source": [
    "array_1 * 2    # 数组和单个数字之间也能执行运算----称之为广播机制，即数字影响array数组中的每一个元素"
   ]
  },
  {
   "cell_type": "markdown",
   "id": "df3da64a-ab20-46e6-ad5b-91d6f036fd53",
   "metadata": {},
   "source": [
    "**（5）聚合运算方法:**\n",
    "\n",
    "        之所以叫聚合操作，是因为它们都是通过一组值来得到一个值"
   ]
  },
  {
   "cell_type": "code",
   "execution_count": 11,
   "id": "1e5068a2-2a20-4285-8eaa-61d177388056",
   "metadata": {},
   "outputs": [
    {
     "name": "stdout",
     "output_type": "stream",
     "text": [
      "3\n",
      "1\n",
      "2.0\n",
      "6\n"
     ]
    }
   ],
   "source": [
    "print(array_1.max())\n",
    "print(array_1.min())\n",
    "print(array_1.mean())\n",
    "print(array_1.sum())"
   ]
  },
  {
   "cell_type": "markdown",
   "id": "ddae2535-4348-4525-8e8f-6970c2a3f777",
   "metadata": {},
   "source": [
    "**（6）根据条件筛选数组元素:**\n",
    "\n",
    "        属于数组和数字之间的操作\n",
    "        同时也可以结合逻辑符号 & | ~"
   ]
  },
  {
   "cell_type": "code",
   "execution_count": 12,
   "id": "2b163131-545f-4780-aa43-ff2a25e727af",
   "metadata": {},
   "outputs": [
    {
     "data": {
      "text/plain": [
       "array([False, False,  True])"
      ]
     },
     "execution_count": 12,
     "metadata": {},
     "output_type": "execute_result"
    }
   ],
   "source": [
    "array_1 > 2             # 结果反应了数组和数字之间操作的结果，只有 3 > 2，因此治只有元素3返回True，此时结果是一个由True和False组成的布尔值数组"
   ]
  },
  {
   "cell_type": "code",
   "execution_count": 13,
   "id": "fc42feb7-d7f3-4798-8fd4-997585245e06",
   "metadata": {},
   "outputs": [
    {
     "data": {
      "text/plain": [
       "array([3])"
      ]
     },
     "execution_count": 13,
     "metadata": {},
     "output_type": "execute_result"
    }
   ],
   "source": [
    "array_1[array_1 > 2]    # 布尔值数组可以用来对形状相同的数组进行索引，[]中布尔值为True的数组会被筛选出来"
   ]
  },
  {
   "cell_type": "code",
   "execution_count": 14,
   "id": "fdeea4f8-94eb-4ad8-843b-8ac2681de0ec",
   "metadata": {},
   "outputs": [
    {
     "data": {
      "text/plain": [
       "array([2, 3])"
      ]
     },
     "execution_count": 14,
     "metadata": {},
     "output_type": "execute_result"
    }
   ],
   "source": [
    "array_1[(array_1 > 1) & (array_1 < 4)]    # 运用逻辑符号 & 表示并且； | 表示或者； ~表示相反"
   ]
  },
  {
   "cell_type": "markdown",
   "id": "38d5326c-58bf-4817-ab0c-7ea7210a9a37",
   "metadata": {},
   "source": [
    "======================================================"
   ]
  },
  {
   "cell_type": "code",
   "execution_count": 3,
   "id": "d26e03fe-47e8-4f74-bda3-92356d840626",
   "metadata": {},
   "outputs": [],
   "source": [
    "import pandas as pd"
   ]
  },
  {
   "cell_type": "markdown",
   "id": "6313561a-176b-402b-8fa1-9b8f2f5a79b8",
   "metadata": {},
   "source": [
    "二、Pands入门-Series更强大的数组形态\n",
    "\n",
    "**（1）介绍:**\n",
    "\n",
    "        pandas是继承在numpy的基础上，不仅继承了numpy高性能的数组计算功能，还提供了很多复杂精细的数据处理功能"
   ]
  },
  {
   "cell_type": "markdown",
   "id": "3782c1a9-c923-40fb-b8d3-63b6e916146c",
   "metadata": {},
   "source": [
    "**（2）Series数据结构:**\n",
    "\n",
    "        Series是pandas的一个数据结构，类似于numpy的一个数组"
   ]
  },
  {
   "cell_type": "code",
   "execution_count": 16,
   "id": "cf682f39-9312-47b7-b53c-db1bafe9cee7",
   "metadata": {},
   "outputs": [
    {
     "data": {
      "text/plain": [
       "0    1\n",
       "1    3\n",
       "2    5\n",
       "3    7\n",
       "4    9\n",
       "dtype: int64"
      ]
     },
     "execution_count": 16,
     "metadata": {},
     "output_type": "execute_result"
    }
   ],
   "source": [
    "s1 = pd.Series([1, 3, 5, 7, 9])    # 注意：传入的 Series 的首字母需要大写！\n",
    "s1                                 # 从输出结果可以看到，与numpy只输出数据结果不同，pandas还输出了元素对应的索引index，以及最后输出数据类型dtype"
   ]
  },
  {
   "cell_type": "code",
   "execution_count": 17,
   "id": "d7d45ef2-a07e-450d-9ee1-2fb797488524",
   "metadata": {},
   "outputs": [
    {
     "name": "stdout",
     "output_type": "stream",
     "text": [
      "[1 3 5 7 9]\n",
      "RangeIndex(start=0, stop=5, step=1)\n"
     ]
    }
   ],
   "source": [
    "print(s1.values)    # 使用.values返回数组的元素\n",
    "print(s1.index)     # 使用.index返回数组的索引----结果：从0开始，到5结束，步长为1；即一共五个数"
   ]
  },
  {
   "cell_type": "code",
   "execution_count": 18,
   "id": "9dcb7e50-e435-44f6-8b62-533c672a39dc",
   "metadata": {},
   "outputs": [
    {
     "name": "stdout",
     "output_type": "stream",
     "text": [
      "3\n",
      "1    3\n",
      "2    5\n",
      "dtype: int64\n"
     ]
    }
   ],
   "source": [
    "print(s1[1])       # 返回单个元素\n",
    "print(s1[1:3])     # 返回切片----返回结果同样是Series格式"
   ]
  },
  {
   "cell_type": "markdown",
   "id": "1884e7eb-6b0b-4048-ba27-926d816a533e",
   "metadata": {},
   "source": [
    " **（3）Series的索引:**\n",
    "\n",
    "        不同于numpy数组的index固定从0开始，Series的索引可以自定义，如从a开始···"
   ]
  },
  {
   "cell_type": "code",
   "execution_count": 4,
   "id": "e84b5508-dfd7-4a13-8e79-0b4323a3c25e",
   "metadata": {},
   "outputs": [
    {
     "name": "stdout",
     "output_type": "stream",
     "text": [
      "a    1\n",
      "b    2\n",
      "c    3\n",
      "dtype: int64\n",
      "1\n"
     ]
    }
   ],
   "source": [
    "s3 = pd.Series([1, 2, 3], index=[\"a\", \"b\", \"c\"])    # 这里将索引设定为\"a\"、\"b\"、\"c\"\n",
    "print(s3)\n",
    "print(s3[\"a\"])                                      # 此时数字索引仍然可用，为了区分，将默认的数字索引称为“位置索引”，自定义的索引为“标签索引”"
   ]
  },
  {
   "cell_type": "code",
   "execution_count": 20,
   "id": "2fb22a8d-d30c-4488-aa54-318851da3831",
   "metadata": {},
   "outputs": [
    {
     "data": {
      "text/plain": [
       "a    1\n",
       "b    2\n",
       "c    3\n",
       "dtype: int64"
      ]
     },
     "execution_count": 20,
     "metadata": {},
     "output_type": "execute_result"
    }
   ],
   "source": [
    "s3[\"a\":\"c\"]    # 不同于位置索引之类的常规索引，切片中的标签索引是包括索引结束元素的！这一点区别需牢记！"
   ]
  },
  {
   "cell_type": "code",
   "execution_count": 21,
   "id": "de1a876d-c91a-4832-82fd-bd44b198858b",
   "metadata": {},
   "outputs": [
    {
     "data": {
      "text/plain": [
       "a    1\n",
       "c    3\n",
       "dtype: int64"
      ]
     },
     "execution_count": 21,
     "metadata": {},
     "output_type": "execute_result"
    }
   ],
   "source": [
    "s3[[\"a\", \"c\"]]    # 也可以在索引的[]中再放入一个[\"a\", \"c\"]，此时可以通过索引获取任意位置的元素，位置索引也适用"
   ]
  },
  {
   "cell_type": "markdown",
   "id": "8462ab20-9cc1-49eb-8feb-2dca3bf471fb",
   "metadata": {},
   "source": [
    "        注意：如果我们自定义标签也为数字时，在使用索引单个元素时，遵循标签索引；但在索引切片时，遵循位置索引\n",
    "             因此pandas给我们提供了两个更好的索引取值&切片方法：loc和iloc"
   ]
  },
  {
   "cell_type": "markdown",
   "id": "b9411006-af1e-4f63-a4e8-6fac686f852a",
   "metadata": {},
   "source": [
    " **（4）pandas中更好的索引方法:**\n",
    "\n",
    "        loc：表示用标签索引去取值or切片\n",
    "        iloc：表示用位置索引去取值or切片"
   ]
  },
  {
   "cell_type": "code",
   "execution_count": 22,
   "id": "3f77a409-555d-4360-a34b-75a9ae70bb17",
   "metadata": {},
   "outputs": [
    {
     "name": "stdout",
     "output_type": "stream",
     "text": [
      "1\n",
      "1\n"
     ]
    }
   ],
   "source": [
    "print(s3.loc[\"a\"])\n",
    "print(s3.iloc[0])"
   ]
  },
  {
   "cell_type": "markdown",
   "id": "9cf132d3-c9c6-4c44-b987-23c91667b5ef",
   "metadata": {},
   "source": [
    " **（5）创建Series的另一种方式:**\n",
    "\n",
    "        给Series这个构造函数直接传入一个字典，字典的键key会自动变成对应的标签索引"
   ]
  },
  {
   "cell_type": "code",
   "execution_count": 23,
   "id": "14cdb0d3-0c3f-4692-b4a6-b79902fd7070",
   "metadata": {},
   "outputs": [
    {
     "data": {
      "text/plain": [
       "沃玛    18\n",
       "憨色    20\n",
       "冷鸟    22\n",
       "dtype: int64"
      ]
     },
     "execution_count": 23,
     "metadata": {},
     "output_type": "execute_result"
    }
   ],
   "source": [
    "s4 = pd.Series({\"沃玛\":18, \"憨色\":20, \"冷鸟\":22})    # 这里的值为18、20、22，对应的标签索引即为\"沃玛\"、\"憨色\"、\"冷鸟\"\n",
    "s4"
   ]
  },
  {
   "cell_type": "code",
   "execution_count": 24,
   "id": "644530ac-bc82-41f1-a76c-de908c7d148f",
   "metadata": {},
   "outputs": [
    {
     "data": {
      "text/plain": [
       "True"
      ]
     },
     "execution_count": 24,
     "metadata": {},
     "output_type": "execute_result"
    }
   ],
   "source": [
    "\"冷鸟\" in s4    # 查看标签是否在 Series中，若返回 True则说明在"
   ]
  },
  {
   "cell_type": "code",
   "execution_count": 25,
   "id": "928a4662-be7b-48e0-9f44-e8f8feb107eb",
   "metadata": {},
   "outputs": [
    {
     "data": {
      "text/plain": [
       "沃玛    18\n",
       "憨色    20\n",
       "冷鸟    21\n",
       "dtype: int64"
      ]
     },
     "execution_count": 25,
     "metadata": {},
     "output_type": "execute_result"
    }
   ],
   "source": [
    "s4[\"冷鸟\"] = 21    # 更改某个标签对应的值，可以像字典那样通过 array[index] = value 去更新\n",
    "s4                # 但正如之前所说，如果标签索引也是数字，则难以判断[]中的是标签索引还是位置索引，最好还是使用 s4.loc[\"冷鸟\"] = 20"
   ]
  },
  {
   "cell_type": "markdown",
   "id": "859de1f9-1014-41d9-8a3a-09ed9844adae",
   "metadata": {},
   "source": [
    "**（6）筛选Series元素:**\n",
    "\n",
    "        正如之前array数组通过布尔组数组筛选出符合条件的值，Series数组也可以\n",
    "        同时也可以结合逻辑符号 & | ~"
   ]
  },
  {
   "cell_type": "code",
   "execution_count": 26,
   "id": "2edec827-8751-414b-a1c6-e465b020f9a8",
   "metadata": {},
   "outputs": [
    {
     "data": {
      "text/plain": [
       "沃玛    False\n",
       "憨色     True\n",
       "冷鸟     True\n",
       "dtype: bool"
      ]
     },
     "execution_count": 26,
     "metadata": {},
     "output_type": "execute_result"
    }
   ],
   "source": [
    "s4 > 19    # 返回bool数组"
   ]
  },
  {
   "cell_type": "code",
   "execution_count": 27,
   "id": "d98bedda-b491-4211-ba40-6683a2137554",
   "metadata": {},
   "outputs": [
    {
     "data": {
      "text/plain": [
       "憨色    20\n",
       "冷鸟    21\n",
       "dtype: int64"
      ]
     },
     "execution_count": 27,
     "metadata": {},
     "output_type": "execute_result"
    }
   ],
   "source": [
    "s4[s4 > 19]    # 通过布尔数组选出对应值"
   ]
  },
  {
   "cell_type": "code",
   "execution_count": 28,
   "id": "7f863e6f-1c65-44b4-9d0a-3db53d650e4f",
   "metadata": {},
   "outputs": [
    {
     "data": {
      "text/plain": [
       "沃玛    18\n",
       "冷鸟    21\n",
       "dtype: int64"
      ]
     },
     "execution_count": 28,
     "metadata": {},
     "output_type": "execute_result"
    }
   ],
   "source": [
    "s4[(s4 < 19) | (s4 > 20)]    # 这里使用了逻辑运算符 | 或者 ，其中两个条件都要被()括住，表示条件的优先级高于或运算"
   ]
  }
 ],
 "metadata": {
  "kernelspec": {
   "display_name": "Python 3 (ipykernel)",
   "language": "python",
   "name": "python3"
  },
  "language_info": {
   "codemirror_mode": {
    "name": "ipython",
    "version": 3
   },
   "file_extension": ".py",
   "mimetype": "text/x-python",
   "name": "python",
   "nbconvert_exporter": "python",
   "pygments_lexer": "ipython3",
   "version": "3.12.1"
  }
 },
 "nbformat": 4,
 "nbformat_minor": 5
}
