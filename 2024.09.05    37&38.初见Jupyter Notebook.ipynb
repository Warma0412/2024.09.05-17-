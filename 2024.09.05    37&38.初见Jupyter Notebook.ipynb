{
 "cells": [
  {
   "cell_type": "code",
   "execution_count": 3,
   "id": "f9e667ca-2085-4311-9e1c-37cfe05b779e",
   "metadata": {},
   "outputs": [
    {
     "name": "stdout",
     "output_type": "stream",
     "text": [
      "原神，启动！\n"
     ]
    }
   ],
   "source": [
    "print(\"原神，启动！\")"
   ]
  },
  {
   "cell_type": "code",
   "execution_count": 13,
   "id": "452f6a1c-9b5b-4679-83f4-4a1c4ec1967a",
   "metadata": {},
   "outputs": [
    {
     "data": {
      "text/plain": [
       "'原神，启动！'"
      ]
     },
     "execution_count": 13,
     "metadata": {},
     "output_type": "execute_result"
    }
   ],
   "source": [
    "\"原神，启动！\""
   ]
  },
  {
   "cell_type": "code",
   "execution_count": 9,
   "id": "ccda0064-fa8d-420b-bc1c-9df99a2cf93d",
   "metadata": {},
   "outputs": [],
   "source": [
    "a = 1"
   ]
  },
  {
   "cell_type": "code",
   "execution_count": 10,
   "id": "fc6accbd-faba-4ca0-ae11-c2c5e4f50d81",
   "metadata": {},
   "outputs": [
    {
     "data": {
      "text/plain": [
       "1"
      ]
     },
     "execution_count": 10,
     "metadata": {},
     "output_type": "execute_result"
    }
   ],
   "source": [
    "a"
   ]
  },
  {
   "cell_type": "code",
   "execution_count": 14,
   "id": "e45ac2f6-fc9d-4881-919e-169b330484d7",
   "metadata": {},
   "outputs": [
    {
     "data": {
      "text/plain": [
       "4"
      ]
     },
     "execution_count": 14,
     "metadata": {},
     "output_type": "execute_result"
    }
   ],
   "source": [
    "1+3"
   ]
  },
  {
   "cell_type": "code",
   "execution_count": null,
   "id": "f8e6f91d-00fd-4a86-8843-e6681ab546a1",
   "metadata": {},
   "outputs": [],
   "source": [
    "# code类型的注释不会识别其为Markdown"
   ]
  },
  {
   "cell_type": "markdown",
   "id": "b9a97d28-383b-4077-8be2-8a9b65381087",
   "metadata": {},
   "source": [
    "# 注释"
   ]
  },
  {
   "cell_type": "markdown",
   "id": "554d5e4f-5433-4cee-8517-882f72e0fd10",
   "metadata": {},
   "source": [
    "## 二级注释，即使用两个##，以此类推"
   ]
  },
  {
   "cell_type": "markdown",
   "id": "b59cb1bd-fa41-4719-91b3-51bf93aefc66",
   "metadata": {},
   "source": [
    "###### 最多可以到六级注释"
   ]
  },
  {
   "cell_type": "markdown",
   "id": "db866a1d-2c5e-49f8-8e7d-5ada3d1d1deb",
   "metadata": {},
   "source": [
    "# [以及可以插入链接样式的注释·点击转入bilibili](https://www.bilibili.com)"
   ]
  },
  {
   "cell_type": "markdown",
   "id": "503edf06-b3e2-46fb-af68-2a47ac7c47e1",
   "metadata": {},
   "source": [
    "# 这是一个数学公式：$x^2 + y^2 = 1$"
   ]
  },
  {
   "cell_type": "markdown",
   "id": "65eaeda0-84ff-44a9-a671-beccff51477d",
   "metadata": {},
   "source": [
    "## 独占一行的数学公式：$$x^2 + y^2 =1$$"
   ]
  }
 ],
 "metadata": {
  "kernelspec": {
   "display_name": "Python 3 (ipykernel)",
   "language": "python",
   "name": "python3"
  },
  "language_info": {
   "codemirror_mode": {
    "name": "ipython",
    "version": 3
   },
   "file_extension": ".py",
   "mimetype": "text/x-python",
   "name": "python",
   "nbconvert_exporter": "python",
   "pygments_lexer": "ipython3",
   "version": "3.12.1"
  }
 },
 "nbformat": 4,
 "nbformat_minor": 5
}
