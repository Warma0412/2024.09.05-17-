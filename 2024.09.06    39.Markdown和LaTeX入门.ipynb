{
 "cells": [
  {
   "cell_type": "markdown",
   "id": "c2e40341-7493-4cca-98f1-eb1b04660dc5",
   "metadata": {},
   "source": [
    "# 我是一级标题"
   ]
  },
  {
   "cell_type": "markdown",
   "id": "0e7bbbca-1283-42aa-8569-c1e8b8ed8b6e",
   "metadata": {},
   "source": [
    "## 我是二级标题"
   ]
  },
  {
   "cell_type": "markdown",
   "id": "601d05ac-39a2-443c-bd10-849f85e377ec",
   "metadata": {},
   "source": [
    "### 我是三级标题"
   ]
  },
  {
   "cell_type": "markdown",
   "id": "8c4dbf3c-f33f-4c9a-82e3-8f13cd0cf10f",
   "metadata": {},
   "source": [
    "#### 我是四级标题"
   ]
  },
  {
   "cell_type": "markdown",
   "id": "954a5258-3e49-49d5-8371-d62c2f14b55b",
   "metadata": {},
   "source": [
    "##### 我是五级标题"
   ]
  },
  {
   "cell_type": "markdown",
   "id": "cbcb2da4-d825-415a-9916-6fed89ce7486",
   "metadata": {},
   "source": [
    "###### 我是六级标题"
   ]
  },
  {
   "cell_type": "markdown",
   "id": "44e13ff5-d6e9-4b03-8b2d-e041a5af2979",
   "metadata": {},
   "source": [
    "## 我是粗体二级标题"
   ]
  },
  {
   "cell_type": "markdown",
   "id": "81d6da0b-19f3-4a1c-9fc1-a1df3e00c33e",
   "metadata": {},
   "source": [
    "## 我是*斜体二级标题*"
   ]
  },
  {
   "cell_type": "markdown",
   "id": "813286bd-72ed-468c-bdde-51688ee244be",
   "metadata": {},
   "source": [
    "**我是粗字体**"
   ]
  },
  {
   "cell_type": "markdown",
   "id": "fc9f3d67-0a2d-48b2-98d9-ea58fad0f252",
   "metadata": {},
   "source": [
    "我是**粗字体**"
   ]
  },
  {
   "cell_type": "markdown",
   "id": "b441bf9e-ab0b-4c66-8736-5c24f08a4d56",
   "metadata": {},
   "source": [
    "~~我是被删除的内容~~"
   ]
  },
  {
   "cell_type": "markdown",
   "id": "47ce5bea-e3fe-4ecf-81bb-51a7d49b93e5",
   "metadata": {},
   "source": [
    "我是普通注释文本 噢耶～"
   ]
  },
  {
   "cell_type": "markdown",
   "id": "c5aa0418-f038-4d5c-8a01-ce008c51576d",
   "metadata": {},
   "source": [
    "我是普通注释文本\n",
    "\n",
    "换行文本"
   ]
  },
  {
   "cell_type": "markdown",
   "id": "0bb05935-5211-4325-ade0-d5b49fc9a5dd",
   "metadata": {},
   "source": [
    "我是普通注释文本  换行文本"
   ]
  },
  {
   "cell_type": "markdown",
   "id": "be98bb9b-c2f1-4b1c-9080-632315a78ecc",
   "metadata": {},
   "source": [
    "- 无序列表（在列表元素前输入\"- \"即可)"
   ]
  },
  {
   "cell_type": "markdown",
   "id": "981467dc-c029-4f2d-8fb6-28732d07f818",
   "metadata": {},
   "source": [
    "- 无序列表"
   ]
  },
  {
   "cell_type": "markdown",
   "id": "d0b211a8-2438-4b24-8d2c-52fb0ecfcfe7",
   "metadata": {},
   "source": [
    "1. 有序列表（在列表元素前输入\"1. \"即可）"
   ]
  },
  {
   "cell_type": "markdown",
   "id": "6f11aa97-572f-4b66-8b41-8b8d860d8618",
   "metadata": {},
   "source": [
    "3. 有序列表"
   ]
  },
  {
   "cell_type": "markdown",
   "id": "fcbfe231-530d-4666-a6a9-38344eb46b42",
   "metadata": {},
   "source": [
    "https://www.bilibili.com"
   ]
  },
  {
   "cell_type": "markdown",
   "id": "8e0212b1-ca22-406a-88e1-4f20a7541db1",
   "metadata": {},
   "source": [
    "[b站链接](https://www.bilibili.com)"
   ]
  },
  {
   "cell_type": "markdown",
   "id": "3ab0392a-b428-4dd3-87eb-71c2c6303c70",
   "metadata": {},
   "source": [
    "[一张城市夜景图片](https://img0.baidu.com/it/u=25183460,870873689&fm=253)"
   ]
  },
  {
   "cell_type": "markdown",
   "id": "3ede9a6c-010b-4096-9ab9-fdd34cd2bad7",
   "metadata": {},
   "source": [
    "![一张城市夜景图片](https://img0.baidu.com/it/u=25183460,870873689&fm=253)"
   ]
  },
  {
   "cell_type": "markdown",
   "id": "a8ab8c60-d326-4969-af65-96179201a10b",
   "metadata": {},
   "source": [
    "> 引用内容1\n",
    ">\n",
    "> 引用内容2"
   ]
  },
  {
   "cell_type": "markdown",
   "id": "6ce59f57-bbeb-4d72-b4e0-10735b9f0555",
   "metadata": {},
   "source": [
    "```import pandas```"
   ]
  },
  {
   "cell_type": "markdown",
   "id": "f8c090cb-506d-49ee-a603-0bf96f70e63b",
   "metadata": {},
   "source": [
    "```python\n",
    "import math\n",
    "import seaborn\n",
    "print(\"Hello Word!\")\n",
    "```"
   ]
  },
  {
   "cell_type": "markdown",
   "id": "fc59bde1-6661-4ef5-b69a-d0bb47974f9a",
   "metadata": {},
   "source": [
    "$x^2 + y^2 = 1$"
   ]
  },
  {
   "cell_type": "markdown",
   "id": "51c62ea7-30f1-4162-ba9f-cd5be94b7ad6",
   "metadata": {},
   "source": [
    "$$x_{male} + y_{male} = 1$$"
   ]
  },
  {
   "cell_type": "markdown",
   "id": "54b4fe96-50e0-4aa8-88f8-b669cc5399e9",
   "metadata": {},
   "source": [
    "$$3\\times3=9$$"
   ]
  },
  {
   "cell_type": "markdown",
   "id": "c9887c38-6bca-44df-a956-a99a50c2f16c",
   "metadata": {},
   "source": [
    "$$3\\div3=1$$"
   ]
  },
  {
   "cell_type": "markdown",
   "id": "64235a0c-eaa2-47bd-9ad6-dd2b878bd563",
   "metadata": {},
   "source": [
    "$$\\sum(x^2+y^2)$$"
   ]
  },
  {
   "cell_type": "markdown",
   "id": "7744872a-5b08-4249-8905-1cd1e782da61",
   "metadata": {},
   "source": [
    "$$\\sqrt[3]x$$"
   ]
  },
  {
   "cell_type": "markdown",
   "id": "39a2e21f-3b10-4fdd-9705-18b4e10a697b",
   "metadata": {},
   "source": [
    " $$\\sqrt[3]{a^2m^3}$$"
   ]
  },
  {
   "cell_type": "markdown",
   "id": "ccfb10aa-a060-4277-8338-b38e52d75432",
   "metadata": {},
   "source": [
    "$$\\sqrt[3]a^2m^3$$"
   ]
  },
  {
   "cell_type": "markdown",
   "id": "38e62fac-d575-4f67-90b6-b4a937142822",
   "metadata": {},
   "source": [
    "$$\\frac{x+y}{x-y}$$"
   ]
  }
 ],
 "metadata": {
  "kernelspec": {
   "display_name": "Python 3 (ipykernel)",
   "language": "python",
   "name": "python3"
  },
  "language_info": {
   "codemirror_mode": {
    "name": "ipython",
    "version": 3
   },
   "file_extension": ".py",
   "mimetype": "text/x-python",
   "name": "python",
   "nbconvert_exporter": "python",
   "pygments_lexer": "ipython3",
   "version": "3.12.1"
  }
 },
 "nbformat": 4,
 "nbformat_minor": 5
}
