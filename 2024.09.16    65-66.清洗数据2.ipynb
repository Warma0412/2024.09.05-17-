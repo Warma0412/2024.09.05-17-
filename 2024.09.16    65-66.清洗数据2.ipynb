{
 "cells": [
  {
   "cell_type": "markdown",
   "id": "3a01f59d-9e4c-4eba-9294-8f358bea393b",
   "metadata": {},
   "source": [
    "#### 2024.9.16\n",
    "\n",
    "**今日学习：\n",
    "（65）清洗数据内容·脏（66）清洗数据·保存干净数据**"
   ]
  },
  {
   "cell_type": "code",
   "execution_count": 1,
   "id": "15c36199-7079-4cbb-b948-af1a293822e3",
   "metadata": {},
   "outputs": [],
   "source": [
    "import pandas as pd"
   ]
  },
  {
   "cell_type": "markdown",
   "id": "6de849bf-9f85-43ca-9307-b60af552f064",
   "metadata": {},
   "source": [
    "#### 一、清洗数据·脏数据\n",
    "\n",
    "**（1）数据内容·分类:**\n",
    "\n",
    "        根据数据的内容划分为 脏数据&干净数据"
   ]
  },
  {
   "cell_type": "markdown",
   "id": "5f875efe-5987-402b-bbdb-2a4ee5a5df43",
   "metadata": {},
   "source": [
    "**（2）对整列缺失值进行填充:**\n",
    "\n",
    "        若想填入一个统一值，则可针对列的赋值操作直接搞定"
   ]
  },
  {
   "cell_type": "code",
   "execution_count": 2,
   "id": "bead042f-770b-48c8-b60f-19c1c47beedd",
   "metadata": {},
   "outputs": [
    {
     "data": {
      "text/html": [
       "<div>\n",
       "<style scoped>\n",
       "    .dataframe tbody tr th:only-of-type {\n",
       "        vertical-align: middle;\n",
       "    }\n",
       "\n",
       "    .dataframe tbody tr th {\n",
       "        vertical-align: top;\n",
       "    }\n",
       "\n",
       "    .dataframe thead th {\n",
       "        text-align: right;\n",
       "    }\n",
       "</style>\n",
       "<table border=\"1\" class=\"dataframe\">\n",
       "  <thead>\n",
       "    <tr style=\"text-align: right;\">\n",
       "      <th></th>\n",
       "      <th>姓名</th>\n",
       "      <th>性别</th>\n",
       "      <th>身高</th>\n",
       "      <th>成绩</th>\n",
       "      <th>国家</th>\n",
       "    </tr>\n",
       "  </thead>\n",
       "  <tbody>\n",
       "    <tr>\n",
       "      <th>01</th>\n",
       "      <td>沃玛</td>\n",
       "      <td>女</td>\n",
       "      <td>160.0</td>\n",
       "      <td>100</td>\n",
       "      <td></td>\n",
       "    </tr>\n",
       "    <tr>\n",
       "      <th>02</th>\n",
       "      <td>憨色</td>\n",
       "      <td>女</td>\n",
       "      <td>158.5</td>\n",
       "      <td>90</td>\n",
       "      <td></td>\n",
       "    </tr>\n",
       "    <tr>\n",
       "      <th>03</th>\n",
       "      <td>冷鸟</td>\n",
       "      <td>女</td>\n",
       "      <td>162.2</td>\n",
       "      <td>80</td>\n",
       "      <td></td>\n",
       "    </tr>\n",
       "    <tr>\n",
       "      <th>04</th>\n",
       "      <td>吴优</td>\n",
       "      <td>男</td>\n",
       "      <td>172.5</td>\n",
       "      <td>66</td>\n",
       "      <td></td>\n",
       "    </tr>\n",
       "  </tbody>\n",
       "</table>\n",
       "</div>"
      ],
      "text/plain": [
       "    姓名 性别     身高   成绩 国家\n",
       "01  沃玛  女  160.0  100   \n",
       "02  憨色  女  158.5   90   \n",
       "03  冷鸟  女  162.2   80   \n",
       "04  吴优  男  172.5   66   "
      ]
     },
     "execution_count": 2,
     "metadata": {},
     "output_type": "execute_result"
    }
   ],
   "source": [
    "s_name = pd.Series([\"沃玛\", \"憨色\", \"冷鸟\", \"吴优\"], index=[\"01\", \"02\", \"03\", \"04\"])\n",
    "s_sex = pd.Series([\"女\", \"女\", \"女\", \"男\"], index=[\"01\", \"02\", \"03\", \"04\"])\n",
    "s_height = pd.Series([160.0, 158.5, 162.2, 172.5], index=[\"01\", \"02\", \"03\", \"04\"])\n",
    "s_grade = pd.Series([100, 90, 80, 66], index=[\"01\", \"02\", \"03\", \"04\"])\n",
    "\n",
    "df_1 = pd.DataFrame({\"姓名\":s_name, \"性别\":s_sex, \"身高\":s_height, \"成绩\":s_grade, \"国家\":\"\"})\n",
    "df_1"
   ]
  },
  {
   "cell_type": "code",
   "execution_count": 3,
   "id": "d742a130-fa7b-47fa-bee0-7d548cf1918c",
   "metadata": {},
   "outputs": [
    {
     "data": {
      "text/html": [
       "<div>\n",
       "<style scoped>\n",
       "    .dataframe tbody tr th:only-of-type {\n",
       "        vertical-align: middle;\n",
       "    }\n",
       "\n",
       "    .dataframe tbody tr th {\n",
       "        vertical-align: top;\n",
       "    }\n",
       "\n",
       "    .dataframe thead th {\n",
       "        text-align: right;\n",
       "    }\n",
       "</style>\n",
       "<table border=\"1\" class=\"dataframe\">\n",
       "  <thead>\n",
       "    <tr style=\"text-align: right;\">\n",
       "      <th></th>\n",
       "      <th>姓名</th>\n",
       "      <th>性别</th>\n",
       "      <th>身高</th>\n",
       "      <th>成绩</th>\n",
       "      <th>国家</th>\n",
       "    </tr>\n",
       "  </thead>\n",
       "  <tbody>\n",
       "    <tr>\n",
       "      <th>01</th>\n",
       "      <td>沃玛</td>\n",
       "      <td>女</td>\n",
       "      <td>160.0</td>\n",
       "      <td>100</td>\n",
       "      <td>中国</td>\n",
       "    </tr>\n",
       "    <tr>\n",
       "      <th>02</th>\n",
       "      <td>憨色</td>\n",
       "      <td>女</td>\n",
       "      <td>158.5</td>\n",
       "      <td>90</td>\n",
       "      <td>中国</td>\n",
       "    </tr>\n",
       "    <tr>\n",
       "      <th>03</th>\n",
       "      <td>冷鸟</td>\n",
       "      <td>女</td>\n",
       "      <td>162.2</td>\n",
       "      <td>80</td>\n",
       "      <td>中国</td>\n",
       "    </tr>\n",
       "    <tr>\n",
       "      <th>04</th>\n",
       "      <td>吴优</td>\n",
       "      <td>男</td>\n",
       "      <td>172.5</td>\n",
       "      <td>66</td>\n",
       "      <td>中国</td>\n",
       "    </tr>\n",
       "  </tbody>\n",
       "</table>\n",
       "</div>"
      ],
      "text/plain": [
       "    姓名 性别     身高   成绩  国家\n",
       "01  沃玛  女  160.0  100  中国\n",
       "02  憨色  女  158.5   90  中国\n",
       "03  冷鸟  女  162.2   80  中国\n",
       "04  吴优  男  172.5   66  中国"
      ]
     },
     "execution_count": 3,
     "metadata": {},
     "output_type": "execute_result"
    }
   ],
   "source": [
    "df_1[\"国家\"] = \"中国\"\n",
    "df_1"
   ]
  },
  {
   "cell_type": "markdown",
   "id": "8355839a-535a-45d2-aaae-31a656e1c458",
   "metadata": {},
   "source": [
    "**（3）对某个缺失值进行填充:**\n",
    "\n",
    "        使用loc或iloc先去定位到那个值----loc()根据标签位置"
   ]
  },
  {
   "cell_type": "code",
   "execution_count": 4,
   "id": "e6253922-5162-4854-98b8-b3f3de07469b",
   "metadata": {},
   "outputs": [
    {
     "data": {
      "text/html": [
       "<div>\n",
       "<style scoped>\n",
       "    .dataframe tbody tr th:only-of-type {\n",
       "        vertical-align: middle;\n",
       "    }\n",
       "\n",
       "    .dataframe tbody tr th {\n",
       "        vertical-align: top;\n",
       "    }\n",
       "\n",
       "    .dataframe thead th {\n",
       "        text-align: right;\n",
       "    }\n",
       "</style>\n",
       "<table border=\"1\" class=\"dataframe\">\n",
       "  <thead>\n",
       "    <tr style=\"text-align: right;\">\n",
       "      <th></th>\n",
       "      <th>姓名</th>\n",
       "      <th>性别</th>\n",
       "      <th>身高</th>\n",
       "      <th>成绩</th>\n",
       "      <th>国家</th>\n",
       "    </tr>\n",
       "  </thead>\n",
       "  <tbody>\n",
       "    <tr>\n",
       "      <th>01</th>\n",
       "      <td>沃玛</td>\n",
       "      <td>女</td>\n",
       "      <td>160.0</td>\n",
       "      <td>100</td>\n",
       "      <td>中国</td>\n",
       "    </tr>\n",
       "    <tr>\n",
       "      <th>02</th>\n",
       "      <td>憨色</td>\n",
       "      <td>女</td>\n",
       "      <td>158.5</td>\n",
       "      <td>95</td>\n",
       "      <td>中国</td>\n",
       "    </tr>\n",
       "    <tr>\n",
       "      <th>03</th>\n",
       "      <td>冷鸟</td>\n",
       "      <td>女</td>\n",
       "      <td>162.2</td>\n",
       "      <td>80</td>\n",
       "      <td>中国</td>\n",
       "    </tr>\n",
       "    <tr>\n",
       "      <th>04</th>\n",
       "      <td>吴优</td>\n",
       "      <td>男</td>\n",
       "      <td>172.5</td>\n",
       "      <td>66</td>\n",
       "      <td>中国</td>\n",
       "    </tr>\n",
       "  </tbody>\n",
       "</table>\n",
       "</div>"
      ],
      "text/plain": [
       "    姓名 性别     身高   成绩  国家\n",
       "01  沃玛  女  160.0  100  中国\n",
       "02  憨色  女  158.5   95  中国\n",
       "03  冷鸟  女  162.2   80  中国\n",
       "04  吴优  男  172.5   66  中国"
      ]
     },
     "execution_count": 4,
     "metadata": {},
     "output_type": "execute_result"
    }
   ],
   "source": [
    "df_1.loc[\"02\", \"成绩\"] = 95    # df_1.loc[\"标签索引 \", \"列名 \"]\n",
    "df_1"
   ]
  },
  {
   "cell_type": "markdown",
   "id": "24172b82-de90-46d6-bfe6-ade839be790e",
   "metadata": {},
   "source": [
    "**（4）对部分缺失值进行填充:**\n",
    "\n",
    "        也是使用loc或iloc提取那一部分----.loc[\"起点行 \":\"终点行 \", \"列名 \"]"
   ]
  },
  {
   "cell_type": "code",
   "execution_count": 5,
   "id": "7d608b13-930e-490c-a2e7-16a97371dc78",
   "metadata": {},
   "outputs": [
    {
     "data": {
      "text/html": [
       "<div>\n",
       "<style scoped>\n",
       "    .dataframe tbody tr th:only-of-type {\n",
       "        vertical-align: middle;\n",
       "    }\n",
       "\n",
       "    .dataframe tbody tr th {\n",
       "        vertical-align: top;\n",
       "    }\n",
       "\n",
       "    .dataframe thead th {\n",
       "        text-align: right;\n",
       "    }\n",
       "</style>\n",
       "<table border=\"1\" class=\"dataframe\">\n",
       "  <thead>\n",
       "    <tr style=\"text-align: right;\">\n",
       "      <th></th>\n",
       "      <th>姓名</th>\n",
       "      <th>性别</th>\n",
       "      <th>身高</th>\n",
       "      <th>成绩</th>\n",
       "      <th>国家</th>\n",
       "    </tr>\n",
       "  </thead>\n",
       "  <tbody>\n",
       "    <tr>\n",
       "      <th>01</th>\n",
       "      <td>沃玛</td>\n",
       "      <td>女</td>\n",
       "      <td>160.0</td>\n",
       "      <td>100</td>\n",
       "      <td>中国</td>\n",
       "    </tr>\n",
       "    <tr>\n",
       "      <th>02</th>\n",
       "      <td>憨色</td>\n",
       "      <td>女</td>\n",
       "      <td>158.5</td>\n",
       "      <td>95</td>\n",
       "      <td>中国</td>\n",
       "    </tr>\n",
       "    <tr>\n",
       "      <th>03</th>\n",
       "      <td>冷鸟</td>\n",
       "      <td>女</td>\n",
       "      <td>162.2</td>\n",
       "      <td>90</td>\n",
       "      <td>中国</td>\n",
       "    </tr>\n",
       "    <tr>\n",
       "      <th>04</th>\n",
       "      <td>吴优</td>\n",
       "      <td>男</td>\n",
       "      <td>172.5</td>\n",
       "      <td>80</td>\n",
       "      <td>中国</td>\n",
       "    </tr>\n",
       "  </tbody>\n",
       "</table>\n",
       "</div>"
      ],
      "text/plain": [
       "    姓名 性别     身高   成绩  国家\n",
       "01  沃玛  女  160.0  100  中国\n",
       "02  憨色  女  158.5   95  中国\n",
       "03  冷鸟  女  162.2   90  中国\n",
       "04  吴优  男  172.5   80  中国"
      ]
     },
     "execution_count": 5,
     "metadata": {},
     "output_type": "execute_result"
    }
   ],
   "source": [
    "df_1.loc[\"03\":\"04\", \"成绩\"] = [90, 80]    # df_1.loc[\"起点·序列 \":\"终点·序列 \", \"列名 \"]\n",
    "df_1"
   ]
  },
  {
   "cell_type": "markdown",
   "id": "20f336e6-08c2-487e-9cc3-6252a946e609",
   "metadata": {},
   "source": [
    "**（5）自动找到缺失值进行填充:**\n",
    "\n",
    "        调用.fillna()方法自动找到全部的NaN的值并进行填充----填充缺失值是None"
   ]
  },
  {
   "cell_type": "code",
   "execution_count": 6,
   "id": "748efc3b-b498-40ca-9833-b77001f2dfd8",
   "metadata": {},
   "outputs": [
    {
     "data": {
      "text/html": [
       "<div>\n",
       "<style scoped>\n",
       "    .dataframe tbody tr th:only-of-type {\n",
       "        vertical-align: middle;\n",
       "    }\n",
       "\n",
       "    .dataframe tbody tr th {\n",
       "        vertical-align: top;\n",
       "    }\n",
       "\n",
       "    .dataframe thead th {\n",
       "        text-align: right;\n",
       "    }\n",
       "</style>\n",
       "<table border=\"1\" class=\"dataframe\">\n",
       "  <thead>\n",
       "    <tr style=\"text-align: right;\">\n",
       "      <th></th>\n",
       "      <th>姓名</th>\n",
       "      <th>性别</th>\n",
       "      <th>身高</th>\n",
       "      <th>成绩</th>\n",
       "      <th>国家</th>\n",
       "    </tr>\n",
       "  </thead>\n",
       "  <tbody>\n",
       "    <tr>\n",
       "      <th>01</th>\n",
       "      <td>沃玛</td>\n",
       "      <td>女</td>\n",
       "      <td>160.0</td>\n",
       "      <td>100</td>\n",
       "      <td>中国</td>\n",
       "    </tr>\n",
       "    <tr>\n",
       "      <th>02</th>\n",
       "      <td>憨色</td>\n",
       "      <td>女</td>\n",
       "      <td>158.5</td>\n",
       "      <td>90</td>\n",
       "      <td>None</td>\n",
       "    </tr>\n",
       "    <tr>\n",
       "      <th>03</th>\n",
       "      <td>冷鸟</td>\n",
       "      <td>女</td>\n",
       "      <td>162.2</td>\n",
       "      <td>80</td>\n",
       "      <td>None</td>\n",
       "    </tr>\n",
       "    <tr>\n",
       "      <th>04</th>\n",
       "      <td>吴优</td>\n",
       "      <td>男</td>\n",
       "      <td>172.5</td>\n",
       "      <td>66</td>\n",
       "      <td>None</td>\n",
       "    </tr>\n",
       "  </tbody>\n",
       "</table>\n",
       "</div>"
      ],
      "text/plain": [
       "    姓名 性别     身高   成绩    国家\n",
       "01  沃玛  女  160.0  100    中国\n",
       "02  憨色  女  158.5   90  None\n",
       "03  冷鸟  女  162.2   80  None\n",
       "04  吴优  男  172.5   66  None"
      ]
     },
     "execution_count": 6,
     "metadata": {},
     "output_type": "execute_result"
    }
   ],
   "source": [
    "s_name = pd.Series([\"沃玛\", \"憨色\", \"冷鸟\", \"吴优\"], index=[\"01\", \"02\", \"03\", \"04\"])\n",
    "s_sex = pd.Series([\"女\", \"女\", \"女\", \"男\"], index=[\"01\", \"02\", \"03\", \"04\"])\n",
    "s_height = pd.Series([160.0, 158.5, 162.2, 172.5], index=[\"01\", \"02\", \"03\", \"04\"])\n",
    "s_grade = pd.Series([100, 90, 80, 66], index=[\"01\", \"02\", \"03\", \"04\"])\n",
    "s_nation = pd.Series([\"中国\", None, None, None], index=[\"01\", \"02\", \"03\", \"04\"])\n",
    "\n",
    "df_2 = pd.DataFrame({\"姓名\":s_name, \"性别\":s_sex, \"身高\":s_height, \"成绩\":s_grade, \"国家\":s_nation})\n",
    "df_2"
   ]
  },
  {
   "cell_type": "code",
   "execution_count": 7,
   "id": "523535db-6d5a-483a-bdec-fb62d65b9b85",
   "metadata": {},
   "outputs": [
    {
     "data": {
      "text/plain": [
       "01     中国\n",
       "02    111\n",
       "03    111\n",
       "04    111\n",
       "Name: 国家, dtype: object"
      ]
     },
     "execution_count": 7,
     "metadata": {},
     "output_type": "execute_result"
    }
   ],
   "source": [
    "df_2[\"国家\"].fillna(111)    # 在\"国家 \"列中，通过调用fillna()将空缺值改为 111，便可知道空缺值在哪"
   ]
  },
  {
   "cell_type": "markdown",
   "id": "22428e71-2a78-4a33-98a6-d6d829032c14",
   "metadata": {},
   "source": [
    "        如果想在空缺值内填入并非提前知道的值，如填充成绩的平均值，则可根据df自定义填充内容"
   ]
  },
  {
   "cell_type": "code",
   "execution_count": 8,
   "id": "4cfc107b-951f-4204-bbd2-6d9feaee3d3d",
   "metadata": {},
   "outputs": [
    {
     "data": {
      "text/plain": [
       "01      中国\n",
       "02    84.0\n",
       "03    84.0\n",
       "04    84.0\n",
       "Name: 国家, dtype: object"
      ]
     },
     "execution_count": 8,
     "metadata": {},
     "output_type": "execute_result"
    }
   ],
   "source": [
    "df_2[\"国家\"].fillna(df_2[\"成绩\"].mean())    # 此处将国家列填充为数字仅当测试使用"
   ]
  },
  {
   "cell_type": "code",
   "execution_count": 9,
   "id": "484c3a61-296b-49d6-8bfa-3fea12dcd8ea",
   "metadata": {},
   "outputs": [
    {
     "data": {
      "text/html": [
       "<div>\n",
       "<style scoped>\n",
       "    .dataframe tbody tr th:only-of-type {\n",
       "        vertical-align: middle;\n",
       "    }\n",
       "\n",
       "    .dataframe tbody tr th {\n",
       "        vertical-align: top;\n",
       "    }\n",
       "\n",
       "    .dataframe thead th {\n",
       "        text-align: right;\n",
       "    }\n",
       "</style>\n",
       "<table border=\"1\" class=\"dataframe\">\n",
       "  <thead>\n",
       "    <tr style=\"text-align: right;\">\n",
       "      <th></th>\n",
       "      <th>姓名</th>\n",
       "      <th>性别</th>\n",
       "      <th>身高</th>\n",
       "      <th>成绩</th>\n",
       "      <th>国家</th>\n",
       "    </tr>\n",
       "  </thead>\n",
       "  <tbody>\n",
       "    <tr>\n",
       "      <th>01</th>\n",
       "      <td>沃玛</td>\n",
       "      <td>女</td>\n",
       "      <td>160.0</td>\n",
       "      <td>100</td>\n",
       "      <td>中国</td>\n",
       "    </tr>\n",
       "    <tr>\n",
       "      <th>02</th>\n",
       "      <td>憨色</td>\n",
       "      <td>女</td>\n",
       "      <td>158.5</td>\n",
       "      <td>90</td>\n",
       "      <td>None</td>\n",
       "    </tr>\n",
       "    <tr>\n",
       "      <th>03</th>\n",
       "      <td>冷鸟</td>\n",
       "      <td>女</td>\n",
       "      <td>162.2</td>\n",
       "      <td>80</td>\n",
       "      <td>None</td>\n",
       "    </tr>\n",
       "    <tr>\n",
       "      <th>04</th>\n",
       "      <td>吴优</td>\n",
       "      <td>男</td>\n",
       "      <td>172.5</td>\n",
       "      <td>66</td>\n",
       "      <td>None</td>\n",
       "    </tr>\n",
       "  </tbody>\n",
       "</table>\n",
       "</div>"
      ],
      "text/plain": [
       "    姓名 性别     身高   成绩    国家\n",
       "01  沃玛  女  160.0  100    中国\n",
       "02  憨色  女  158.5   90  None\n",
       "03  冷鸟  女  162.2   80  None\n",
       "04  吴优  男  172.5   66  None"
      ]
     },
     "execution_count": 9,
     "metadata": {},
     "output_type": "execute_result"
    }
   ],
   "source": [
    "df_2    # 此类操作同样不会改变原始DataFrame----若想自动改变原始df，调用参数 inplace=True"
   ]
  },
  {
   "cell_type": "markdown",
   "id": "8940bc51-10e6-44cb-8dde-eefdb2a0f486",
   "metadata": {},
   "source": [
    "df_2.fillna({\"列1\":2, \"列2\":3, \"列3\":4})    \n",
    "\n",
    "即将列1中的缺失值改为2···以此类推"
   ]
  },
  {
   "cell_type": "markdown",
   "id": "fa9c0897-99b4-4d78-afa5-8081f001ce9e",
   "metadata": {},
   "source": [
    "**（6）删除有缺失值的行:**\n",
    "\n",
    "        调用.dropna()即删除存在缺失值的行----默认是axis=0，即删除有缺失值的行；删除列时即调用axis=1"
   ]
  },
  {
   "cell_type": "code",
   "execution_count": 10,
   "id": "af777ead-8cfa-44a8-a87e-9f7528a6927d",
   "metadata": {},
   "outputs": [
    {
     "data": {
      "text/html": [
       "<div>\n",
       "<style scoped>\n",
       "    .dataframe tbody tr th:only-of-type {\n",
       "        vertical-align: middle;\n",
       "    }\n",
       "\n",
       "    .dataframe tbody tr th {\n",
       "        vertical-align: top;\n",
       "    }\n",
       "\n",
       "    .dataframe thead th {\n",
       "        text-align: right;\n",
       "    }\n",
       "</style>\n",
       "<table border=\"1\" class=\"dataframe\">\n",
       "  <thead>\n",
       "    <tr style=\"text-align: right;\">\n",
       "      <th></th>\n",
       "      <th>姓名</th>\n",
       "      <th>性别</th>\n",
       "      <th>身高</th>\n",
       "      <th>成绩</th>\n",
       "      <th>国家</th>\n",
       "    </tr>\n",
       "  </thead>\n",
       "  <tbody>\n",
       "    <tr>\n",
       "      <th>01</th>\n",
       "      <td>沃玛</td>\n",
       "      <td>女</td>\n",
       "      <td>160.0</td>\n",
       "      <td>100</td>\n",
       "      <td>中国</td>\n",
       "    </tr>\n",
       "  </tbody>\n",
       "</table>\n",
       "</div>"
      ],
      "text/plain": [
       "    姓名 性别     身高   成绩  国家\n",
       "01  沃玛  女  160.0  100  中国"
      ]
     },
     "execution_count": 10,
     "metadata": {},
     "output_type": "execute_result"
    }
   ],
   "source": [
    "df_2.dropna()    # 删除存在缺失值的行，只要任意列存在缺失值便删除"
   ]
  },
  {
   "cell_type": "code",
   "execution_count": 11,
   "id": "8fa7a563-29fc-45ff-9d6a-c8f40ee81508",
   "metadata": {},
   "outputs": [
    {
     "data": {
      "text/html": [
       "<div>\n",
       "<style scoped>\n",
       "    .dataframe tbody tr th:only-of-type {\n",
       "        vertical-align: middle;\n",
       "    }\n",
       "\n",
       "    .dataframe tbody tr th {\n",
       "        vertical-align: top;\n",
       "    }\n",
       "\n",
       "    .dataframe thead th {\n",
       "        text-align: right;\n",
       "    }\n",
       "</style>\n",
       "<table border=\"1\" class=\"dataframe\">\n",
       "  <thead>\n",
       "    <tr style=\"text-align: right;\">\n",
       "      <th></th>\n",
       "      <th>姓名</th>\n",
       "      <th>性别</th>\n",
       "      <th>身高</th>\n",
       "      <th>成绩</th>\n",
       "      <th>国家</th>\n",
       "    </tr>\n",
       "  </thead>\n",
       "  <tbody>\n",
       "    <tr>\n",
       "      <th>01</th>\n",
       "      <td>沃玛</td>\n",
       "      <td>女</td>\n",
       "      <td>160.0</td>\n",
       "      <td>100</td>\n",
       "      <td>中国</td>\n",
       "    </tr>\n",
       "  </tbody>\n",
       "</table>\n",
       "</div>"
      ],
      "text/plain": [
       "    姓名 性别     身高   成绩  国家\n",
       "01  沃玛  女  160.0  100  中国"
      ]
     },
     "execution_count": 11,
     "metadata": {},
     "output_type": "execute_result"
    }
   ],
   "source": [
    "df_2.dropna(subset=[\"国家\"])    # 调用subset=[\"列名 \"]参数后，仅删除 \"国家 \"列中有缺失值的行"
   ]
  },
  {
   "cell_type": "markdown",
   "id": "6a6dad51-daaa-4533-9a9c-6cd7aea8b567",
   "metadata": {},
   "source": [
    "**（7）删除重复数据:**\n",
    "\n",
    "        调用.drop_duplicates()删除重复数据----对于Series即删除重复值；对于DataFrame即删除全部值相同的行"
   ]
  },
  {
   "cell_type": "code",
   "execution_count": 12,
   "id": "0262f491-1592-411c-b759-f97625b4b7cb",
   "metadata": {},
   "outputs": [
    {
     "data": {
      "text/plain": [
       "01    女\n",
       "04    男\n",
       "Name: 性别, dtype: object"
      ]
     },
     "execution_count": 12,
     "metadata": {},
     "output_type": "execute_result"
    }
   ],
   "source": [
    "df_2[\"性别\"].drop_duplicates()    # 对Seires进行调用，仅返回了男女两个独特值----其中01、02、03都是\"女\"，但只保留第一个"
   ]
  },
  {
   "cell_type": "code",
   "execution_count": 13,
   "id": "a850581d-28ec-45cc-afa2-87ffeb1353cb",
   "metadata": {},
   "outputs": [
    {
     "data": {
      "text/html": [
       "<div>\n",
       "<style scoped>\n",
       "    .dataframe tbody tr th:only-of-type {\n",
       "        vertical-align: middle;\n",
       "    }\n",
       "\n",
       "    .dataframe tbody tr th {\n",
       "        vertical-align: top;\n",
       "    }\n",
       "\n",
       "    .dataframe thead th {\n",
       "        text-align: right;\n",
       "    }\n",
       "</style>\n",
       "<table border=\"1\" class=\"dataframe\">\n",
       "  <thead>\n",
       "    <tr style=\"text-align: right;\">\n",
       "      <th></th>\n",
       "      <th>姓名</th>\n",
       "      <th>性别</th>\n",
       "      <th>身高</th>\n",
       "      <th>成绩</th>\n",
       "      <th>国家</th>\n",
       "    </tr>\n",
       "  </thead>\n",
       "  <tbody>\n",
       "    <tr>\n",
       "      <th>01</th>\n",
       "      <td>沃玛</td>\n",
       "      <td>女</td>\n",
       "      <td>160.0</td>\n",
       "      <td>100</td>\n",
       "      <td>中国</td>\n",
       "    </tr>\n",
       "    <tr>\n",
       "      <th>02</th>\n",
       "      <td>憨色</td>\n",
       "      <td>女</td>\n",
       "      <td>158.5</td>\n",
       "      <td>90</td>\n",
       "      <td>None</td>\n",
       "    </tr>\n",
       "    <tr>\n",
       "      <th>03</th>\n",
       "      <td>冷鸟</td>\n",
       "      <td>女</td>\n",
       "      <td>162.2</td>\n",
       "      <td>80</td>\n",
       "      <td>None</td>\n",
       "    </tr>\n",
       "    <tr>\n",
       "      <th>04</th>\n",
       "      <td>吴优</td>\n",
       "      <td>男</td>\n",
       "      <td>172.5</td>\n",
       "      <td>66</td>\n",
       "      <td>None</td>\n",
       "    </tr>\n",
       "  </tbody>\n",
       "</table>\n",
       "</div>"
      ],
      "text/plain": [
       "    姓名 性别     身高   成绩    国家\n",
       "01  沃玛  女  160.0  100    中国\n",
       "02  憨色  女  158.5   90  None\n",
       "03  冷鸟  女  162.2   80  None\n",
       "04  吴优  男  172.5   66  None"
      ]
     },
     "execution_count": 13,
     "metadata": {},
     "output_type": "execute_result"
    }
   ],
   "source": [
    "df_2.drop_duplicates()    # 没有行完全重复，因此不删除任何行"
   ]
  },
  {
   "cell_type": "code",
   "execution_count": 14,
   "id": "af7f478c-85d4-4fdd-86e7-3a728c538fdd",
   "metadata": {},
   "outputs": [
    {
     "data": {
      "text/html": [
       "<div>\n",
       "<style scoped>\n",
       "    .dataframe tbody tr th:only-of-type {\n",
       "        vertical-align: middle;\n",
       "    }\n",
       "\n",
       "    .dataframe tbody tr th {\n",
       "        vertical-align: top;\n",
       "    }\n",
       "\n",
       "    .dataframe thead th {\n",
       "        text-align: right;\n",
       "    }\n",
       "</style>\n",
       "<table border=\"1\" class=\"dataframe\">\n",
       "  <thead>\n",
       "    <tr style=\"text-align: right;\">\n",
       "      <th></th>\n",
       "      <th>姓名</th>\n",
       "      <th>性别</th>\n",
       "      <th>身高</th>\n",
       "      <th>成绩</th>\n",
       "      <th>国家</th>\n",
       "    </tr>\n",
       "  </thead>\n",
       "  <tbody>\n",
       "    <tr>\n",
       "      <th>01</th>\n",
       "      <td>沃玛</td>\n",
       "      <td>女</td>\n",
       "      <td>160.0</td>\n",
       "      <td>100</td>\n",
       "      <td>中国</td>\n",
       "    </tr>\n",
       "    <tr>\n",
       "      <th>02</th>\n",
       "      <td>憨色</td>\n",
       "      <td>女</td>\n",
       "      <td>158.5</td>\n",
       "      <td>90</td>\n",
       "      <td>None</td>\n",
       "    </tr>\n",
       "    <tr>\n",
       "      <th>03</th>\n",
       "      <td>冷鸟</td>\n",
       "      <td>女</td>\n",
       "      <td>162.2</td>\n",
       "      <td>80</td>\n",
       "      <td>None</td>\n",
       "    </tr>\n",
       "    <tr>\n",
       "      <th>04</th>\n",
       "      <td>吴优</td>\n",
       "      <td>男</td>\n",
       "      <td>172.5</td>\n",
       "      <td>66</td>\n",
       "      <td>None</td>\n",
       "    </tr>\n",
       "  </tbody>\n",
       "</table>\n",
       "</div>"
      ],
      "text/plain": [
       "    姓名 性别     身高   成绩    国家\n",
       "01  沃玛  女  160.0  100    中国\n",
       "02  憨色  女  158.5   90  None\n",
       "03  冷鸟  女  162.2   80  None\n",
       "04  吴优  男  172.5   66  None"
      ]
     },
     "execution_count": 14,
     "metadata": {},
     "output_type": "execute_result"
    }
   ],
   "source": [
    "df_2.drop_duplicates(subset=[\"性别\", \"成绩\"])    # 调用subset()参数删除 \"性别 \", \"成绩 \" 两行数据完全重复的行----默认axis=0"
   ]
  },
  {
   "cell_type": "markdown",
   "id": "a351a19a-c05a-4969-ae52-b71ce8751fd2",
   "metadata": {},
   "source": [
    "        注意：正如尚文提到，出现重复行时，默认删除后者出现的重复值（即保留第一个）\n",
    "             但也可以通过调用参数 keep=\"last\" 保留最后一个重复值"
   ]
  },
  {
   "cell_type": "markdown",
   "id": "b530f0ca-94c5-446e-994a-e5d83a7152c2",
   "metadata": {},
   "source": [
    "**（8）对值进行替换:**\n",
    "\n",
    "        调用.repalce(\"老值\"，\"新值\")，将表达同一意思的\"1班\"替换为\"一班\"\n",
    "           .repalce([\"老值1\", \"老值2\", \"老值3\"]，\"新值\")，即将列表中的值均替换为后值\n",
    "\n",
    "           同时也可以传入一个字典，表明替换的值{1:2, 3:4, 5:6}"
   ]
  },
  {
   "cell_type": "markdown",
   "id": "8e1df9b7-4d33-4dc7-bf7e-534cc4d59e13",
   "metadata": {},
   "source": [
    "**（9）对值的类型进行转换:**\n",
    "\n",
    "        因为例如求平均只能不能用于字符串数据类型等\n",
    "        调用.astype(数据类型)\n",
    "\n",
    "        注意：Pandas中存在一种数据类型，叫category，意思为分类数据\n",
    "             数据可分为两种类型：1.分类数据：包含有限数量的不同类别的数据----如男女的性别，是有限的\n",
    "                              2.数值数据：具体测量的数据，无限的----如0-1之间就有无限个数据"
   ]
  },
  {
   "cell_type": "code",
   "execution_count": 15,
   "id": "83ca7394-2cbf-4211-b316-5b35726052cb",
   "metadata": {},
   "outputs": [
    {
     "data": {
      "text/plain": [
       "01    160.0\n",
       "02    158.5\n",
       "03    162.2\n",
       "04    172.5\n",
       "Name: 身高, dtype: float64"
      ]
     },
     "execution_count": 15,
     "metadata": {},
     "output_type": "execute_result"
    }
   ],
   "source": [
    "df_2[\"身高\"].astype(float)    # 将身高列的数据转换为浮点数"
   ]
  },
  {
   "cell_type": "code",
   "execution_count": 16,
   "id": "8da91448-3c81-408e-a7c8-d372f0eefb4a",
   "metadata": {},
   "outputs": [
    {
     "data": {
      "text/plain": [
       "pandas.core.series.Series"
      ]
     },
     "execution_count": 16,
     "metadata": {},
     "output_type": "execute_result"
    }
   ],
   "source": [
    "type(df_2[\"身高\"])    # 返回一个Series的type"
   ]
  },
  {
   "cell_type": "code",
   "execution_count": 17,
   "id": "26028777-a242-4ad3-a81a-a28cc5244a4e",
   "metadata": {},
   "outputs": [
    {
     "name": "stderr",
     "output_type": "stream",
     "text": [
      "/var/folders/nm/k6xd7m5j5_n5tkt_d9xcbflh0000gn/T/ipykernel_74718/4099642616.py:1: FutureWarning: Series.__getitem__ treating keys as positions is deprecated. In a future version, integer keys will always be treated as labels (consistent with DataFrame behavior). To access a value by position, use `ser.iloc[pos]`\n",
      "  type(df_2[\"身高\"][0])    # 返回具体一个元素的type\n"
     ]
    },
    {
     "data": {
      "text/plain": [
       "numpy.float64"
      ]
     },
     "execution_count": 17,
     "metadata": {},
     "output_type": "execute_result"
    }
   ],
   "source": [
    "type(df_2[\"身高\"][0])    # 返回具体一个元素的type"
   ]
  },
  {
   "cell_type": "code",
   "execution_count": 18,
   "id": "ab658669-2a97-4711-8015-ad788de034a7",
   "metadata": {},
   "outputs": [
    {
     "data": {
      "text/plain": [
       "0    女\n",
       "1    男\n",
       "dtype: category\n",
       "Categories (2, object): ['女', '男']"
      ]
     },
     "execution_count": 18,
     "metadata": {},
     "output_type": "execute_result"
    }
   ],
   "source": [
    "s_sex = pd.Series([\"女\", \"男\"])\n",
    "s_sex.astype(\"category\")    # 设定s_sex为分类数据----有利于后续pandas自动分析\n",
    "                            #                      以及category数据类型不是python自带的，而是pandas库中的，因此需要加上\"\""
   ]
  },
  {
   "cell_type": "markdown",
   "id": "9574974f-aba2-4d3e-9258-00be5093ff58",
   "metadata": {},
   "source": [
    "======================================================================================="
   ]
  },
  {
   "cell_type": "markdown",
   "id": "1c49e2c0-7aea-47d5-977f-329f75f2c549",
   "metadata": {},
   "source": [
    "#### 二、清洗数据·保存干净数据\n",
    "\n",
    "**（1）保存清洗后数据:**\n",
    "\n",
    "        在对数据进行清洗后，需要对干净数据进行保存，方便后续处理\n",
    "        本质就是将清洗好后的DataFrame保存到一个新建的空白文件里\n",
    "                之前介绍过通过调用pd.read_scv()方法来读取scv文件\n",
    "                现在可以通过调用 df.to_csv(\"文件路径\") 写入csv文件----便能将DataFrame保存到scv文件中，文件路径存在则覆盖，否则为新建"
   ]
  },
  {
   "cell_type": "code",
   "execution_count": 19,
   "id": "13572cd0-18b4-4485-81d8-d7ce15980c4d",
   "metadata": {},
   "outputs": [
    {
     "data": {
      "text/html": [
       "<div>\n",
       "<style scoped>\n",
       "    .dataframe tbody tr th:only-of-type {\n",
       "        vertical-align: middle;\n",
       "    }\n",
       "\n",
       "    .dataframe tbody tr th {\n",
       "        vertical-align: top;\n",
       "    }\n",
       "\n",
       "    .dataframe thead th {\n",
       "        text-align: right;\n",
       "    }\n",
       "</style>\n",
       "<table border=\"1\" class=\"dataframe\">\n",
       "  <thead>\n",
       "    <tr style=\"text-align: right;\">\n",
       "      <th></th>\n",
       "      <th>姓名</th>\n",
       "      <th>性别</th>\n",
       "      <th>身高</th>\n",
       "      <th>成绩</th>\n",
       "      <th>国家</th>\n",
       "    </tr>\n",
       "  </thead>\n",
       "  <tbody>\n",
       "    <tr>\n",
       "      <th>01</th>\n",
       "      <td>沃玛</td>\n",
       "      <td>女</td>\n",
       "      <td>160.0</td>\n",
       "      <td>100</td>\n",
       "      <td>中国</td>\n",
       "    </tr>\n",
       "    <tr>\n",
       "      <th>02</th>\n",
       "      <td>憨色</td>\n",
       "      <td>女</td>\n",
       "      <td>158.5</td>\n",
       "      <td>90</td>\n",
       "      <td>None</td>\n",
       "    </tr>\n",
       "    <tr>\n",
       "      <th>03</th>\n",
       "      <td>冷鸟</td>\n",
       "      <td>女</td>\n",
       "      <td>162.2</td>\n",
       "      <td>80</td>\n",
       "      <td>None</td>\n",
       "    </tr>\n",
       "    <tr>\n",
       "      <th>04</th>\n",
       "      <td>吴优</td>\n",
       "      <td>男</td>\n",
       "      <td>172.5</td>\n",
       "      <td>66</td>\n",
       "      <td>None</td>\n",
       "    </tr>\n",
       "  </tbody>\n",
       "</table>\n",
       "</div>"
      ],
      "text/plain": [
       "    姓名 性别     身高   成绩    国家\n",
       "01  沃玛  女  160.0  100    中国\n",
       "02  憨色  女  158.5   90  None\n",
       "03  冷鸟  女  162.2   80  None\n",
       "04  吴优  男  172.5   66  None"
      ]
     },
     "execution_count": 19,
     "metadata": {},
     "output_type": "execute_result"
    }
   ],
   "source": [
    "df_2"
   ]
  },
  {
   "cell_type": "code",
   "execution_count": 20,
   "id": "d0095394-5cca-44f4-8962-c4a033b77635",
   "metadata": {},
   "outputs": [
    {
     "data": {
      "text/html": [
       "<div>\n",
       "<style scoped>\n",
       "    .dataframe tbody tr th:only-of-type {\n",
       "        vertical-align: middle;\n",
       "    }\n",
       "\n",
       "    .dataframe tbody tr th {\n",
       "        vertical-align: top;\n",
       "    }\n",
       "\n",
       "    .dataframe thead th {\n",
       "        text-align: right;\n",
       "    }\n",
       "</style>\n",
       "<table border=\"1\" class=\"dataframe\">\n",
       "  <thead>\n",
       "    <tr style=\"text-align: right;\">\n",
       "      <th></th>\n",
       "      <th>Unnamed: 0</th>\n",
       "      <th>姓名</th>\n",
       "      <th>性别</th>\n",
       "      <th>身高</th>\n",
       "    </tr>\n",
       "  </thead>\n",
       "  <tbody>\n",
       "    <tr>\n",
       "      <th>0</th>\n",
       "      <td>1</td>\n",
       "      <td>沃玛</td>\n",
       "      <td>女</td>\n",
       "      <td>160.0</td>\n",
       "    </tr>\n",
       "    <tr>\n",
       "      <th>1</th>\n",
       "      <td>2</td>\n",
       "      <td>憨色</td>\n",
       "      <td>女</td>\n",
       "      <td>158.5</td>\n",
       "    </tr>\n",
       "    <tr>\n",
       "      <th>2</th>\n",
       "      <td>3</td>\n",
       "      <td>冷鸟</td>\n",
       "      <td>女</td>\n",
       "      <td>162.2</td>\n",
       "    </tr>\n",
       "    <tr>\n",
       "      <th>3</th>\n",
       "      <td>4</td>\n",
       "      <td>吴优</td>\n",
       "      <td>男</td>\n",
       "      <td>172.5</td>\n",
       "    </tr>\n",
       "  </tbody>\n",
       "</table>\n",
       "</div>"
      ],
      "text/plain": [
       "   Unnamed: 0  姓名 性别     身高\n",
       "0           1  沃玛  女  160.0\n",
       "1           2  憨色  女  158.5\n",
       "2           3  冷鸟  女  162.2\n",
       "3           4  吴优  男  172.5"
      ]
     },
     "execution_count": 20,
     "metadata": {},
     "output_type": "execute_result"
    }
   ],
   "source": [
    "pd.read_csv(\"/Users/warma/Downloads/2024.09.16学习CSV文件.csv\")    # 进行读取，发现第一列怪怪的\n",
    "                                                                  # to_csv会将索引列进行保存，但read_csv读取时，pd不知道那个是索引"
   ]
  },
  {
   "cell_type": "code",
   "execution_count": 21,
   "id": "69993a41-95d2-4d29-9c7a-a95030e7abbf",
   "metadata": {},
   "outputs": [],
   "source": [
    "df_2.to_csv(\"/Users/warma/Downloads/2024.09.16学习CSV文件1.csv\")    # 已保存到下载文件夹中"
   ]
  },
  {
   "cell_type": "code",
   "execution_count": 22,
   "id": "40f94e58-eca7-4345-908d-67c16bacfb5f",
   "metadata": {},
   "outputs": [
    {
     "data": {
      "text/html": [
       "<div>\n",
       "<style scoped>\n",
       "    .dataframe tbody tr th:only-of-type {\n",
       "        vertical-align: middle;\n",
       "    }\n",
       "\n",
       "    .dataframe tbody tr th {\n",
       "        vertical-align: top;\n",
       "    }\n",
       "\n",
       "    .dataframe thead th {\n",
       "        text-align: right;\n",
       "    }\n",
       "</style>\n",
       "<table border=\"1\" class=\"dataframe\">\n",
       "  <thead>\n",
       "    <tr style=\"text-align: right;\">\n",
       "      <th></th>\n",
       "      <th>Unnamed: 0</th>\n",
       "      <th>姓名</th>\n",
       "      <th>性别</th>\n",
       "      <th>身高</th>\n",
       "      <th>成绩</th>\n",
       "      <th>国家</th>\n",
       "    </tr>\n",
       "  </thead>\n",
       "  <tbody>\n",
       "    <tr>\n",
       "      <th>0</th>\n",
       "      <td>1</td>\n",
       "      <td>沃玛</td>\n",
       "      <td>女</td>\n",
       "      <td>160.0</td>\n",
       "      <td>100</td>\n",
       "      <td>中国</td>\n",
       "    </tr>\n",
       "    <tr>\n",
       "      <th>1</th>\n",
       "      <td>2</td>\n",
       "      <td>憨色</td>\n",
       "      <td>女</td>\n",
       "      <td>158.5</td>\n",
       "      <td>90</td>\n",
       "      <td>NaN</td>\n",
       "    </tr>\n",
       "    <tr>\n",
       "      <th>2</th>\n",
       "      <td>3</td>\n",
       "      <td>冷鸟</td>\n",
       "      <td>女</td>\n",
       "      <td>162.2</td>\n",
       "      <td>80</td>\n",
       "      <td>NaN</td>\n",
       "    </tr>\n",
       "    <tr>\n",
       "      <th>3</th>\n",
       "      <td>4</td>\n",
       "      <td>吴优</td>\n",
       "      <td>男</td>\n",
       "      <td>172.5</td>\n",
       "      <td>66</td>\n",
       "      <td>NaN</td>\n",
       "    </tr>\n",
       "  </tbody>\n",
       "</table>\n",
       "</div>"
      ],
      "text/plain": [
       "   Unnamed: 0  姓名 性别     身高   成绩   国家\n",
       "0           1  沃玛  女  160.0  100   中国\n",
       "1           2  憨色  女  158.5   90  NaN\n",
       "2           3  冷鸟  女  162.2   80  NaN\n",
       "3           4  吴优  男  172.5   66  NaN"
      ]
     },
     "execution_count": 22,
     "metadata": {},
     "output_type": "execute_result"
    }
   ],
   "source": [
    "df_3 = pd.read_csv(\"/Users/warma/Downloads/2024.09.16学习CSV文件1.csv\")\n",
    "df_3\n",
    "# 读取刚刚保存的csv文件，但发现第一列怪怪的\n",
    "# 因为无法识别第一列为索引，便将其作为第一列的数据\n",
    "#     且该列无列名，便自动添加列名 \"Unnamed: 0 \"\n",
    "#     to_csv默认保存索引是合理的，但索引有时并不是默认的位置索引，而是我们自定义的标签索引\n",
    "#         因此可以调整将设定的标签索引重新变为一列，恢复默认的位置索引"
   ]
  },
  {
   "cell_type": "code",
   "execution_count": 23,
   "id": "59358fd6-981c-4d74-b55b-8132d3a1fae3",
   "metadata": {},
   "outputs": [
    {
     "data": {
      "text/html": [
       "<div>\n",
       "<style scoped>\n",
       "    .dataframe tbody tr th:only-of-type {\n",
       "        vertical-align: middle;\n",
       "    }\n",
       "\n",
       "    .dataframe tbody tr th {\n",
       "        vertical-align: top;\n",
       "    }\n",
       "\n",
       "    .dataframe thead th {\n",
       "        text-align: right;\n",
       "    }\n",
       "</style>\n",
       "<table border=\"1\" class=\"dataframe\">\n",
       "  <thead>\n",
       "    <tr style=\"text-align: right;\">\n",
       "      <th></th>\n",
       "      <th>ID</th>\n",
       "      <th>姓名</th>\n",
       "      <th>性别</th>\n",
       "      <th>身高</th>\n",
       "      <th>成绩</th>\n",
       "      <th>国家</th>\n",
       "    </tr>\n",
       "  </thead>\n",
       "  <tbody>\n",
       "    <tr>\n",
       "      <th>0</th>\n",
       "      <td>1</td>\n",
       "      <td>沃玛</td>\n",
       "      <td>女</td>\n",
       "      <td>160.0</td>\n",
       "      <td>100</td>\n",
       "      <td>中国</td>\n",
       "    </tr>\n",
       "    <tr>\n",
       "      <th>1</th>\n",
       "      <td>2</td>\n",
       "      <td>憨色</td>\n",
       "      <td>女</td>\n",
       "      <td>158.5</td>\n",
       "      <td>90</td>\n",
       "      <td>NaN</td>\n",
       "    </tr>\n",
       "    <tr>\n",
       "      <th>2</th>\n",
       "      <td>3</td>\n",
       "      <td>冷鸟</td>\n",
       "      <td>女</td>\n",
       "      <td>162.2</td>\n",
       "      <td>80</td>\n",
       "      <td>NaN</td>\n",
       "    </tr>\n",
       "    <tr>\n",
       "      <th>3</th>\n",
       "      <td>4</td>\n",
       "      <td>吴优</td>\n",
       "      <td>男</td>\n",
       "      <td>172.5</td>\n",
       "      <td>66</td>\n",
       "      <td>NaN</td>\n",
       "    </tr>\n",
       "  </tbody>\n",
       "</table>\n",
       "</div>"
      ],
      "text/plain": [
       "   ID  姓名 性别     身高   成绩   国家\n",
       "0   1  沃玛  女  160.0  100   中国\n",
       "1   2  憨色  女  158.5   90  NaN\n",
       "2   3  冷鸟  女  162.2   80  NaN\n",
       "3   4  吴优  男  172.5   66  NaN"
      ]
     },
     "execution_count": 23,
     "metadata": {},
     "output_type": "execute_result"
    }
   ],
   "source": [
    "df_3.rename(columns={\"Unnamed: 0\":\"ID\"},inplace=True)\n",
    "df_3"
   ]
  },
  {
   "cell_type": "code",
   "execution_count": 24,
   "id": "839c5f9b-1b3d-4cac-84b3-79b9d4fd1d80",
   "metadata": {},
   "outputs": [
    {
     "data": {
      "text/html": [
       "<div>\n",
       "<style scoped>\n",
       "    .dataframe tbody tr th:only-of-type {\n",
       "        vertical-align: middle;\n",
       "    }\n",
       "\n",
       "    .dataframe tbody tr th {\n",
       "        vertical-align: top;\n",
       "    }\n",
       "\n",
       "    .dataframe thead th {\n",
       "        text-align: right;\n",
       "    }\n",
       "</style>\n",
       "<table border=\"1\" class=\"dataframe\">\n",
       "  <thead>\n",
       "    <tr style=\"text-align: right;\">\n",
       "      <th></th>\n",
       "      <th>姓名</th>\n",
       "      <th>性别</th>\n",
       "      <th>身高</th>\n",
       "      <th>成绩</th>\n",
       "      <th>国家</th>\n",
       "    </tr>\n",
       "  </thead>\n",
       "  <tbody>\n",
       "    <tr>\n",
       "      <th>01</th>\n",
       "      <td>沃玛</td>\n",
       "      <td>女</td>\n",
       "      <td>160.0</td>\n",
       "      <td>100</td>\n",
       "      <td>中国</td>\n",
       "    </tr>\n",
       "    <tr>\n",
       "      <th>02</th>\n",
       "      <td>憨色</td>\n",
       "      <td>女</td>\n",
       "      <td>158.5</td>\n",
       "      <td>90</td>\n",
       "      <td>None</td>\n",
       "    </tr>\n",
       "    <tr>\n",
       "      <th>03</th>\n",
       "      <td>冷鸟</td>\n",
       "      <td>女</td>\n",
       "      <td>162.2</td>\n",
       "      <td>80</td>\n",
       "      <td>None</td>\n",
       "    </tr>\n",
       "    <tr>\n",
       "      <th>04</th>\n",
       "      <td>吴优</td>\n",
       "      <td>男</td>\n",
       "      <td>172.5</td>\n",
       "      <td>66</td>\n",
       "      <td>None</td>\n",
       "    </tr>\n",
       "  </tbody>\n",
       "</table>\n",
       "</div>"
      ],
      "text/plain": [
       "    姓名 性别     身高   成绩    国家\n",
       "01  沃玛  女  160.0  100    中国\n",
       "02  憨色  女  158.5   90  None\n",
       "03  冷鸟  女  162.2   80  None\n",
       "04  吴优  男  172.5   66  None"
      ]
     },
     "execution_count": 24,
     "metadata": {},
     "output_type": "execute_result"
    }
   ],
   "source": [
    "df_2"
   ]
  },
  {
   "cell_type": "code",
   "execution_count": 25,
   "id": "0bea69ff-081e-473a-839a-71e30a784950",
   "metadata": {},
   "outputs": [
    {
     "data": {
      "text/html": [
       "<div>\n",
       "<style scoped>\n",
       "    .dataframe tbody tr th:only-of-type {\n",
       "        vertical-align: middle;\n",
       "    }\n",
       "\n",
       "    .dataframe tbody tr th {\n",
       "        vertical-align: top;\n",
       "    }\n",
       "\n",
       "    .dataframe thead th {\n",
       "        text-align: right;\n",
       "    }\n",
       "</style>\n",
       "<table border=\"1\" class=\"dataframe\">\n",
       "  <thead>\n",
       "    <tr style=\"text-align: right;\">\n",
       "      <th></th>\n",
       "      <th>姓名</th>\n",
       "      <th>性别</th>\n",
       "      <th>身高</th>\n",
       "      <th>成绩</th>\n",
       "      <th>国家</th>\n",
       "    </tr>\n",
       "  </thead>\n",
       "  <tbody>\n",
       "    <tr>\n",
       "      <th>0</th>\n",
       "      <td>沃玛</td>\n",
       "      <td>女</td>\n",
       "      <td>160.0</td>\n",
       "      <td>100</td>\n",
       "      <td>中国</td>\n",
       "    </tr>\n",
       "    <tr>\n",
       "      <th>1</th>\n",
       "      <td>憨色</td>\n",
       "      <td>女</td>\n",
       "      <td>158.5</td>\n",
       "      <td>90</td>\n",
       "      <td>NaN</td>\n",
       "    </tr>\n",
       "    <tr>\n",
       "      <th>2</th>\n",
       "      <td>冷鸟</td>\n",
       "      <td>女</td>\n",
       "      <td>162.2</td>\n",
       "      <td>80</td>\n",
       "      <td>NaN</td>\n",
       "    </tr>\n",
       "    <tr>\n",
       "      <th>3</th>\n",
       "      <td>吴优</td>\n",
       "      <td>男</td>\n",
       "      <td>172.5</td>\n",
       "      <td>66</td>\n",
       "      <td>NaN</td>\n",
       "    </tr>\n",
       "  </tbody>\n",
       "</table>\n",
       "</div>"
      ],
      "text/plain": [
       "   姓名 性别     身高   成绩   国家\n",
       "0  沃玛  女  160.0  100   中国\n",
       "1  憨色  女  158.5   90  NaN\n",
       "2  冷鸟  女  162.2   80  NaN\n",
       "3  吴优  男  172.5   66  NaN"
      ]
     },
     "execution_count": 25,
     "metadata": {},
     "output_type": "execute_result"
    }
   ],
   "source": [
    "df_2.to_csv(\"/Users/warma/Downloads/2024.09.16学习CSV文件2.csv\", index=False)    # 通过调用 index=False 便可不保存索引\n",
    "df_4 = pd.read_csv(\"/Users/warma/Downloads/2024.09.16学习CSV文件2.csv\")          # 读取时自动返回默认的位置索引\n",
    "df_4                                                                            # 一般索引是默认从0开始的默认索引时，需要调用index=False"
   ]
  }
 ],
 "metadata": {
  "kernelspec": {
   "display_name": "Python 3 (ipykernel)",
   "language": "python",
   "name": "python3"
  },
  "language_info": {
   "codemirror_mode": {
    "name": "ipython",
    "version": 3
   },
   "file_extension": ".py",
   "mimetype": "text/x-python",
   "name": "python",
   "nbconvert_exporter": "python",
   "pygments_lexer": "ipython3",
   "version": "3.12.1"
  }
 },
 "nbformat": 4,
 "nbformat_minor": 5
}
