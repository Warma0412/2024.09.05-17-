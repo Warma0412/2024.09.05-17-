{
 "cells": [
  {
   "cell_type": "markdown",
   "id": "f9d948a2-9e1d-408d-9906-645be712cc3e",
   "metadata": {},
   "source": [
    "#### 2024.9.10\n",
    "\n",
    "**今日学习：\n",
    "（48）找不到了（49）DataFrame介绍（50）小测试**"
   ]
  },
  {
   "cell_type": "code",
   "execution_count": 1,
   "id": "6f14afe1-eebb-4d45-b512-bde4b1b42918",
   "metadata": {},
   "outputs": [],
   "source": [
    "import pandas as pd"
   ]
  },
  {
   "cell_type": "markdown",
   "id": "0880747d-6c8b-44df-b9b0-63415a4d596b",
   "metadata": {},
   "source": [
    "一、Dataframe介绍\n",
    "\n",
    "**（1）DataFrame构成:**\n",
    "\n",
    "        Series是一组索引对应的一项数据，如用户的id是一个Series，用户的年龄是一个Series\n",
    "        那么由多个Series组成的数据结构，我们称之为DataFrame，也是我们最常用的数据结构\n",
    "            其中DataFrame看起来就像是一个表格，不仅有索引，也有列名\n",
    "            看起来就像是一个由Series组成的字典，每一个Series对应一个键名，如“id”、“年龄”···"
   ]
  },
  {
   "cell_type": "markdown",
   "id": "60a909e9-a10c-406e-831d-2533abb3bef4",
   "metadata": {},
   "source": [
    "**（2）创建DataFrame方法:**\n",
    "\n",
    "        将pd.DataFrame()的参数传入一个字典，key为各个Series对应的键名，value是各个Series变量"
   ]
  },
  {
   "cell_type": "code",
   "execution_count": 8,
   "id": "495b266e-3622-4b38-a9e6-88a3382cb8ff",
   "metadata": {},
   "outputs": [
    {
     "data": {
      "text/html": [
       "<div>\n",
       "<style scoped>\n",
       "    .dataframe tbody tr th:only-of-type {\n",
       "        vertical-align: middle;\n",
       "    }\n",
       "\n",
       "    .dataframe tbody tr th {\n",
       "        vertical-align: top;\n",
       "    }\n",
       "\n",
       "    .dataframe thead th {\n",
       "        text-align: right;\n",
       "    }\n",
       "</style>\n",
       "<table border=\"1\" class=\"dataframe\">\n",
       "  <thead>\n",
       "    <tr style=\"text-align: right;\">\n",
       "      <th></th>\n",
       "      <th>学号</th>\n",
       "      <th>班级</th>\n",
       "      <th>成绩</th>\n",
       "    </tr>\n",
       "  </thead>\n",
       "  <tbody>\n",
       "    <tr>\n",
       "      <th>0</th>\n",
       "      <td>01</td>\n",
       "      <td>二班</td>\n",
       "      <td>90</td>\n",
       "    </tr>\n",
       "    <tr>\n",
       "      <th>1</th>\n",
       "      <td>02</td>\n",
       "      <td>一班</td>\n",
       "      <td>76</td>\n",
       "    </tr>\n",
       "    <tr>\n",
       "      <th>2</th>\n",
       "      <td>03</td>\n",
       "      <td>三班</td>\n",
       "      <td>98</td>\n",
       "    </tr>\n",
       "    <tr>\n",
       "      <th>3</th>\n",
       "      <td>04</td>\n",
       "      <td>一班</td>\n",
       "      <td>60</td>\n",
       "    </tr>\n",
       "    <tr>\n",
       "      <th>4</th>\n",
       "      <td>05</td>\n",
       "      <td>二班</td>\n",
       "      <td>100</td>\n",
       "    </tr>\n",
       "  </tbody>\n",
       "</table>\n",
       "</div>"
      ],
      "text/plain": [
       "   学号  班级   成绩\n",
       "0  01  二班   90\n",
       "1  02  一班   76\n",
       "2  03  三班   98\n",
       "3  04  一班   60\n",
       "4  05  二班  100"
      ]
     },
     "execution_count": 8,
     "metadata": {},
     "output_type": "execute_result"
    }
   ],
   "source": [
    "s_id = pd.Series([\"01\", \"02\", \"03\", \"04\", \"05\"])\n",
    "s_class = pd.Series([\"二班\", \"一班\", \"三班\", \"一班\", \"二班\"])\n",
    "s_grade = pd.Series([90, 76, 98, 60, 100])\n",
    "\n",
    "df_1 = pd.DataFrame({\"学号\":s_id, \"班级\":s_class, \"成绩\":s_grade})\n",
    "df_1    # 自动生成一个方便查看的dataFrame列表，索引是 DaTaFrame自己的索引，列名是我们传入的 key，传入的值除了可以是 Series，也可以是普通的列表s = []"
   ]
  },
  {
   "cell_type": "markdown",
   "id": "e587f3b9-3856-4a96-9a40-5b7b15319ee9",
   "metadata": {},
   "source": [
    "        如果我们传入的Series有标签索索引的话，则DataFrame的索引也会变成对应的标签"
   ]
  },
  {
   "cell_type": "code",
   "execution_count": 10,
   "id": "6ebcc093-a4c7-4b72-bf1b-ac08b7537225",
   "metadata": {},
   "outputs": [
    {
     "data": {
      "text/html": [
       "<div>\n",
       "<style scoped>\n",
       "    .dataframe tbody tr th:only-of-type {\n",
       "        vertical-align: middle;\n",
       "    }\n",
       "\n",
       "    .dataframe tbody tr th {\n",
       "        vertical-align: top;\n",
       "    }\n",
       "\n",
       "    .dataframe thead th {\n",
       "        text-align: right;\n",
       "    }\n",
       "</style>\n",
       "<table border=\"1\" class=\"dataframe\">\n",
       "  <thead>\n",
       "    <tr style=\"text-align: right;\">\n",
       "      <th></th>\n",
       "      <th>学号</th>\n",
       "      <th>班级</th>\n",
       "      <th>成绩</th>\n",
       "    </tr>\n",
       "  </thead>\n",
       "  <tbody>\n",
       "    <tr>\n",
       "      <th>沃玛</th>\n",
       "      <td>01</td>\n",
       "      <td>二班</td>\n",
       "      <td>90</td>\n",
       "    </tr>\n",
       "    <tr>\n",
       "      <th>憨色</th>\n",
       "      <td>02</td>\n",
       "      <td>一班</td>\n",
       "      <td>76</td>\n",
       "    </tr>\n",
       "    <tr>\n",
       "      <th>冷鸟</th>\n",
       "      <td>03</td>\n",
       "      <td>三班</td>\n",
       "      <td>98</td>\n",
       "    </tr>\n",
       "    <tr>\n",
       "      <th>露西</th>\n",
       "      <td>04</td>\n",
       "      <td>一班</td>\n",
       "      <td>60</td>\n",
       "    </tr>\n",
       "    <tr>\n",
       "      <th>麻衣</th>\n",
       "      <td>05</td>\n",
       "      <td>二班</td>\n",
       "      <td>100</td>\n",
       "    </tr>\n",
       "  </tbody>\n",
       "</table>\n",
       "</div>"
      ],
      "text/plain": [
       "    学号  班级   成绩\n",
       "沃玛  01  二班   90\n",
       "憨色  02  一班   76\n",
       "冷鸟  03  三班   98\n",
       "露西  04  一班   60\n",
       "麻衣  05  二班  100"
      ]
     },
     "execution_count": 10,
     "metadata": {},
     "output_type": "execute_result"
    }
   ],
   "source": [
    "s_id = pd.Series([\"01\", \"02\", \"03\", \"04\", \"05\"],index=[\"沃玛\", \"憨色\", \"冷鸟\", \"露西\", \"麻衣\"])\n",
    "s_class = pd.Series([\"二班\", \"一班\", \"三班\", \"一班\", \"二班\"],index=[\"沃玛\", \"憨色\", \"冷鸟\", \"露西\", \"麻衣\"])\n",
    "s_grade = pd.Series([90, 76, 98, 60, 100],index=[\"沃玛\", \"憨色\", \"冷鸟\", \"露西\", \"麻衣\"])\n",
    "\n",
    "df_2 = pd.DataFrame({\"学号\":s_id, \"班级\":s_class, \"成绩\":s_grade})\n",
    "df_2"
   ]
  },
  {
   "cell_type": "markdown",
   "id": "15f457ad-5cad-4910-abbb-5897153b6953",
   "metadata": {},
   "source": [
    "        如果想一次性创建DataFrame，则可以传入一个嵌套字典"
   ]
  },
  {
   "cell_type": "code",
   "execution_count": 12,
   "id": "a0c0cc8c-260f-4806-b6f0-aaf7e31ec87c",
   "metadata": {},
   "outputs": [
    {
     "data": {
      "text/html": [
       "<div>\n",
       "<style scoped>\n",
       "    .dataframe tbody tr th:only-of-type {\n",
       "        vertical-align: middle;\n",
       "    }\n",
       "\n",
       "    .dataframe tbody tr th {\n",
       "        vertical-align: top;\n",
       "    }\n",
       "\n",
       "    .dataframe thead th {\n",
       "        text-align: right;\n",
       "    }\n",
       "</style>\n",
       "<table border=\"1\" class=\"dataframe\">\n",
       "  <thead>\n",
       "    <tr style=\"text-align: right;\">\n",
       "      <th></th>\n",
       "      <th>学号</th>\n",
       "      <th>班级</th>\n",
       "      <th>成绩</th>\n",
       "    </tr>\n",
       "  </thead>\n",
       "  <tbody>\n",
       "    <tr>\n",
       "      <th>小明</th>\n",
       "      <td>01</td>\n",
       "      <td>一班</td>\n",
       "      <td>66</td>\n",
       "    </tr>\n",
       "    <tr>\n",
       "      <th>小红</th>\n",
       "      <td>02</td>\n",
       "      <td>二班</td>\n",
       "      <td>100</td>\n",
       "    </tr>\n",
       "  </tbody>\n",
       "</table>\n",
       "</div>"
      ],
      "text/plain": [
       "    学号  班级   成绩\n",
       "小明  01  一班   66\n",
       "小红  02  二班  100"
      ]
     },
     "execution_count": 12,
     "metadata": {},
     "output_type": "execute_result"
    }
   ],
   "source": [
    "df_3 = pd.DataFrame({\"学号\":{\"小明\":\"01\", \"小红\":\"02\"},\n",
    "                     \"班级\":{\"小明\":\"一班\", \"小红\":\"二班\"},\n",
    "                     \"成绩\":{\"小明\":\"66\", \"小红\":\"100\"}})\n",
    "df_3    # DataFrame()中的参数本身是一个dict，其中每个dict中的value也是一个dict----即嵌套字典"
   ]
  },
  {
   "cell_type": "markdown",
   "id": "e83d79e7-f651-4a13-b54f-dfef26d3d8d0",
   "metadata": {},
   "source": [
    "**（3）获得DataFrame的索引和列名:**\n",
    "\n",
    "        .index获取 索引\n",
    "        .columns获取 列名\n",
    "        .values获取 值"
   ]
  },
  {
   "cell_type": "code",
   "execution_count": 15,
   "id": "e1ad818f-03aa-437f-a856-ce3372c78293",
   "metadata": {},
   "outputs": [
    {
     "name": "stdout",
     "output_type": "stream",
     "text": [
      "Index(['沃玛', '憨色', '冷鸟', '露西', '麻衣'], dtype='object')\n",
      "Index(['学号', '班级', '成绩'], dtype='object')\n",
      "[['01' '二班' 90]\n",
      " ['02' '一班' 76]\n",
      " ['03' '三班' 98]\n",
      " ['04' '一班' 60]\n",
      " ['05' '二班' 100]]\n"
     ]
    }
   ],
   "source": [
    "print(df_2.index)\n",
    "print(df_2.columns)\n",
    "print(df_2.values)"
   ]
  },
  {
   "cell_type": "markdown",
   "id": "96270cb3-169f-4b2c-aefc-40e45b3d5031",
   "metadata": {},
   "source": [
    "**（4）对Dataframe进行T转置:**\n",
    "\n",
    "        .T 会将返回的结果的行与列进行转置"
   ]
  },
  {
   "cell_type": "code",
   "execution_count": 17,
   "id": "3af65adf-9ac6-483a-ae07-7c8a683cf1fe",
   "metadata": {},
   "outputs": [
    {
     "data": {
      "text/html": [
       "<div>\n",
       "<style scoped>\n",
       "    .dataframe tbody tr th:only-of-type {\n",
       "        vertical-align: middle;\n",
       "    }\n",
       "\n",
       "    .dataframe tbody tr th {\n",
       "        vertical-align: top;\n",
       "    }\n",
       "\n",
       "    .dataframe thead th {\n",
       "        text-align: right;\n",
       "    }\n",
       "</style>\n",
       "<table border=\"1\" class=\"dataframe\">\n",
       "  <thead>\n",
       "    <tr style=\"text-align: right;\">\n",
       "      <th></th>\n",
       "      <th>沃玛</th>\n",
       "      <th>憨色</th>\n",
       "      <th>冷鸟</th>\n",
       "      <th>露西</th>\n",
       "      <th>麻衣</th>\n",
       "    </tr>\n",
       "  </thead>\n",
       "  <tbody>\n",
       "    <tr>\n",
       "      <th>学号</th>\n",
       "      <td>01</td>\n",
       "      <td>02</td>\n",
       "      <td>03</td>\n",
       "      <td>04</td>\n",
       "      <td>05</td>\n",
       "    </tr>\n",
       "    <tr>\n",
       "      <th>班级</th>\n",
       "      <td>二班</td>\n",
       "      <td>一班</td>\n",
       "      <td>三班</td>\n",
       "      <td>一班</td>\n",
       "      <td>二班</td>\n",
       "    </tr>\n",
       "    <tr>\n",
       "      <th>成绩</th>\n",
       "      <td>90</td>\n",
       "      <td>76</td>\n",
       "      <td>98</td>\n",
       "      <td>60</td>\n",
       "      <td>100</td>\n",
       "    </tr>\n",
       "  </tbody>\n",
       "</table>\n",
       "</div>"
      ],
      "text/plain": [
       "    沃玛  憨色  冷鸟  露西   麻衣\n",
       "学号  01  02  03  04   05\n",
       "班级  二班  一班  三班  一班   二班\n",
       "成绩  90  76  98  60  100"
      ]
     },
     "execution_count": 17,
     "metadata": {},
     "output_type": "execute_result"
    }
   ],
   "source": [
    "df_2.T"
   ]
  },
  {
   "cell_type": "markdown",
   "id": "36a0c3bd-5647-44d1-9dea-211e6c1e243c",
   "metadata": {},
   "source": [
    "**（5）提取列数据:**\n",
    "\n",
    "        df[\"列名\"] 即可提取对应key的值----借此提取的是列，但列也是一个Series，也会将原本DataFrame对应的索引提取出来"
   ]
  },
  {
   "cell_type": "code",
   "execution_count": 20,
   "id": "46656594-3659-4bc9-a236-391772beb66f",
   "metadata": {},
   "outputs": [
    {
     "data": {
      "text/plain": [
       "沃玛    二班\n",
       "憨色    一班\n",
       "冷鸟    三班\n",
       "露西    一班\n",
       "麻衣    二班\n",
       "Name: 班级, dtype: object"
      ]
     },
     "execution_count": 20,
     "metadata": {},
     "output_type": "execute_result"
    }
   ],
   "source": [
    "df_2[\"班级\"]    # 实际上和在python中使用dict[key]来提取后面的value是一样的"
   ]
  },
  {
   "cell_type": "code",
   "execution_count": 24,
   "id": "88e2f531-6816-4480-ab08-2d6c991a9967",
   "metadata": {},
   "outputs": [
    {
     "data": {
      "text/plain": [
       "沃玛    二班\n",
       "憨色    一班\n",
       "冷鸟    三班\n",
       "露西    一班\n",
       "麻衣    二班\n",
       "Name: 班级, dtype: object"
      ]
     },
     "execution_count": 24,
     "metadata": {},
     "output_type": "execute_result"
    }
   ],
   "source": [
    "df_2.班级    # 使用.列名 也是一样，因为每列 Series实际上也是 DataFrame的属性----但如果列名存在空格以及特殊符号时，则不能使用这个方法，则能使用上述[]方法"
   ]
  },
  {
   "cell_type": "markdown",
   "id": "0cf70e13-bf37-4cb0-8e1b-afa88ac4341c",
   "metadata": {},
   "source": [
    "        提取不止一列的数据，可使用df[[\"key_1\", \"key_2\"]]----实际提取的是一个DataFrame"
   ]
  },
  {
   "cell_type": "code",
   "execution_count": 28,
   "id": "d21a578d-4721-438a-897a-7cae0109c7a2",
   "metadata": {},
   "outputs": [
    {
     "data": {
      "text/html": [
       "<div>\n",
       "<style scoped>\n",
       "    .dataframe tbody tr th:only-of-type {\n",
       "        vertical-align: middle;\n",
       "    }\n",
       "\n",
       "    .dataframe tbody tr th {\n",
       "        vertical-align: top;\n",
       "    }\n",
       "\n",
       "    .dataframe thead th {\n",
       "        text-align: right;\n",
       "    }\n",
       "</style>\n",
       "<table border=\"1\" class=\"dataframe\">\n",
       "  <thead>\n",
       "    <tr style=\"text-align: right;\">\n",
       "      <th></th>\n",
       "      <th>学号</th>\n",
       "      <th>成绩</th>\n",
       "    </tr>\n",
       "  </thead>\n",
       "  <tbody>\n",
       "    <tr>\n",
       "      <th>沃玛</th>\n",
       "      <td>01</td>\n",
       "      <td>90</td>\n",
       "    </tr>\n",
       "    <tr>\n",
       "      <th>憨色</th>\n",
       "      <td>02</td>\n",
       "      <td>76</td>\n",
       "    </tr>\n",
       "    <tr>\n",
       "      <th>冷鸟</th>\n",
       "      <td>03</td>\n",
       "      <td>98</td>\n",
       "    </tr>\n",
       "    <tr>\n",
       "      <th>露西</th>\n",
       "      <td>04</td>\n",
       "      <td>60</td>\n",
       "    </tr>\n",
       "    <tr>\n",
       "      <th>麻衣</th>\n",
       "      <td>05</td>\n",
       "      <td>100</td>\n",
       "    </tr>\n",
       "  </tbody>\n",
       "</table>\n",
       "</div>"
      ],
      "text/plain": [
       "    学号   成绩\n",
       "沃玛  01   90\n",
       "憨色  02   76\n",
       "冷鸟  03   98\n",
       "露西  04   60\n",
       "麻衣  05  100"
      ]
     },
     "execution_count": 28,
     "metadata": {},
     "output_type": "execute_result"
    }
   ],
   "source": [
    "df_2[[\"学号\", \"成绩\"]]    # 其中 df[]中的 key也是一个列表，因此得再次使用一个 []"
   ]
  },
  {
   "cell_type": "markdown",
   "id": "5f0334cb-3821-4f1c-b261-3c51c1120d45",
   "metadata": {},
   "source": [
    "**（6）提取行数据:**\n",
    "\n",
    "        df.loc[\"索引名\"]     # 根据标签索引提取\n",
    "        df.iloc[\"索引名\"]    # 根据位置索引提取----巧记：i一般是数字，带i的就是用数字表示的位置"
   ]
  },
  {
   "cell_type": "code",
   "execution_count": 31,
   "id": "93886804-3acb-4549-b222-31a3623234e6",
   "metadata": {},
   "outputs": [
    {
     "name": "stdout",
     "output_type": "stream",
     "text": [
      "学号    01\n",
      "班级    二班\n",
      "成绩    90\n",
      "Name: 沃玛, dtype: object\n",
      "学号    01\n",
      "班级    二班\n",
      "成绩    90\n",
      "Name: 沃玛, dtype: object\n"
     ]
    }
   ],
   "source": [
    "print(df_2.loc[\"沃玛\"])    # 返回的结果是以 Series的形式返回的\n",
    "print(df_2.iloc[0])"
   ]
  },
  {
   "cell_type": "code",
   "execution_count": 40,
   "id": "d5e07b2a-61c2-4124-a2ed-22122b44f7da",
   "metadata": {},
   "outputs": [
    {
     "name": "stdout",
     "output_type": "stream",
     "text": [
      "    学号  班级  成绩\n",
      "沃玛  01  二班  90\n",
      "憨色  02  一班  76\n",
      "冷鸟  03  三班  98\n",
      "    学号  班级  成绩\n",
      "沃玛  01  二班  90\n",
      "憨色  02  一班  76\n"
     ]
    }
   ],
   "source": [
    "print(df_2.loc[\"沃玛\":\"冷鸟\"])    # 标签索引 提取切片，包括右边结束值\n",
    "print(df_2.iloc[0:2])            # 位置索引 提取切片，经典不包括右边结束值"
   ]
  },
  {
   "cell_type": "code",
   "execution_count": 45,
   "id": "242a058c-6b52-4583-b500-daae9de12eb3",
   "metadata": {},
   "outputs": [
    {
     "name": "stdout",
     "output_type": "stream",
     "text": [
      "    学号  班级  成绩\n",
      "沃玛  01  二班  90\n",
      "冷鸟  03  三班  98\n",
      "    学号  班级  成绩\n",
      "沃玛  01  二班  90\n",
      "冷鸟  03  三班  98\n"
     ]
    }
   ],
   "source": [
    "print(df_2.loc[[\"沃玛\", \"冷鸟\"]])    # 标签索引 提取特定行\n",
    "print(df_2.iloc[[0, 2]])            # 位置索引 提取特定行 ---- 与前面提取 df.[[]]一样，在[]中再放入一个[]"
   ]
  },
  {
   "cell_type": "markdown",
   "id": "aebb0e53-3b4e-4d3c-b7f0-ec46a7e80016",
   "metadata": {},
   "source": [
    "**（7）提取某个值:**\n",
    "\n",
    "        df.loc[\"索引\", \"列名\"]\n",
    "        df.iloc[索引位置, 列名位置]"
   ]
  },
  {
   "cell_type": "code",
   "execution_count": 51,
   "id": "36e93e62-0fbf-47cb-9668-f9b329f89bb5",
   "metadata": {},
   "outputs": [
    {
     "name": "stdout",
     "output_type": "stream",
     "text": [
      "90\n",
      "90\n"
     ]
    }
   ],
   "source": [
    "print(df_2.loc[\"沃玛\", \"成绩\"])\n",
    "print(df_2.iloc[0, 2])    # 注意：位置索引同样遵守从0开始计算"
   ]
  },
  {
   "cell_type": "code",
   "execution_count": 68,
   "id": "fa752ce1-5d75-411e-ac02-4b420145c829",
   "metadata": {},
   "outputs": [
    {
     "name": "stdout",
     "output_type": "stream",
     "text": [
      "    学号  班级   成绩\n",
      "冷鸟  03  三班   98\n",
      "露西  04  一班   60\n",
      "麻衣  05  二班  100\n",
      "    学号  班级\n",
      "冷鸟  03  三班\n",
      "露西  04  一班\n",
      "    学号   成绩\n",
      "冷鸟  03   98\n",
      "麻衣  05  100\n"
     ]
    }
   ],
   "source": [
    "print(df_2.loc[\"冷鸟\":\"麻衣\", \"学号\":\"成绩\"])          # 实际上是通过 切片 所选取的范围来提取数据\n",
    "print(df_2.iloc[2:4, 0:2])                          # 同样位置索引不包括 结束值\n",
    "\n",
    "print(df_2.loc[[\"冷鸟\", \"麻衣\"], [\"学号\", \"成绩\"]])    # 使用[]列表进行提取"
   ]
  },
  {
   "cell_type": "markdown",
   "id": "8d39bcdd-c6a1-45a4-be66-f8273688f618",
   "metadata": {},
   "source": [
    "        1.如果希望一个切片覆盖所有索引，即通过 : 进行提取，即默认从头到尾全部提取\n",
    "        2.如果希望跨行提取，则可通过位置索引.iloc[1, 3, 5, ···]进行提取"
   ]
  },
  {
   "cell_type": "markdown",
   "id": "fae004e6-dced-46a5-b91f-ac900aa6637c",
   "metadata": {},
   "source": [
    "**（8）条件筛选:**\n",
    "\n",
    "        DataFrame中一行是一个实例，一列是一个属性----和Series条件筛选基本一样"
   ]
  },
  {
   "cell_type": "code",
   "execution_count": 63,
   "id": "117a8d80-7e0a-40fa-8e35-c220bafd3306",
   "metadata": {},
   "outputs": [
    {
     "data": {
      "text/plain": [
       "沃玛     True\n",
       "憨色    False\n",
       "冷鸟     True\n",
       "露西    False\n",
       "麻衣     True\n",
       "Name: 成绩, dtype: bool"
      ]
     },
     "execution_count": 63,
     "metadata": {},
     "output_type": "execute_result"
    }
   ],
   "source": [
    "df_2[\"成绩\"] > 80    # 老样子，返回 Bool值的 Series"
   ]
  },
  {
   "cell_type": "code",
   "execution_count": 60,
   "id": "8be0ee4a-6415-4e35-8d62-899a728c1689",
   "metadata": {},
   "outputs": [
    {
     "data": {
      "text/html": [
       "<div>\n",
       "<style scoped>\n",
       "    .dataframe tbody tr th:only-of-type {\n",
       "        vertical-align: middle;\n",
       "    }\n",
       "\n",
       "    .dataframe tbody tr th {\n",
       "        vertical-align: top;\n",
       "    }\n",
       "\n",
       "    .dataframe thead th {\n",
       "        text-align: right;\n",
       "    }\n",
       "</style>\n",
       "<table border=\"1\" class=\"dataframe\">\n",
       "  <thead>\n",
       "    <tr style=\"text-align: right;\">\n",
       "      <th></th>\n",
       "      <th>学号</th>\n",
       "      <th>班级</th>\n",
       "      <th>成绩</th>\n",
       "    </tr>\n",
       "  </thead>\n",
       "  <tbody>\n",
       "    <tr>\n",
       "      <th>沃玛</th>\n",
       "      <td>01</td>\n",
       "      <td>二班</td>\n",
       "      <td>90</td>\n",
       "    </tr>\n",
       "    <tr>\n",
       "      <th>冷鸟</th>\n",
       "      <td>03</td>\n",
       "      <td>三班</td>\n",
       "      <td>98</td>\n",
       "    </tr>\n",
       "    <tr>\n",
       "      <th>麻衣</th>\n",
       "      <td>05</td>\n",
       "      <td>二班</td>\n",
       "      <td>100</td>\n",
       "    </tr>\n",
       "  </tbody>\n",
       "</table>\n",
       "</div>"
      ],
      "text/plain": [
       "    学号  班级   成绩\n",
       "沃玛  01  二班   90\n",
       "冷鸟  03  三班   98\n",
       "麻衣  05  二班  100"
      ]
     },
     "execution_count": 60,
     "metadata": {},
     "output_type": "execute_result"
    }
   ],
   "source": [
    "df_2[df_2[\"成绩\"] > 80]    # df_2[bool的 Series]"
   ]
  },
  {
   "cell_type": "code",
   "execution_count": 64,
   "id": "7ec62ec0-2b0e-438a-8d00-ad4c2930f417",
   "metadata": {},
   "outputs": [
    {
     "data": {
      "text/html": [
       "<div>\n",
       "<style scoped>\n",
       "    .dataframe tbody tr th:only-of-type {\n",
       "        vertical-align: middle;\n",
       "    }\n",
       "\n",
       "    .dataframe tbody tr th {\n",
       "        vertical-align: top;\n",
       "    }\n",
       "\n",
       "    .dataframe thead th {\n",
       "        text-align: right;\n",
       "    }\n",
       "</style>\n",
       "<table border=\"1\" class=\"dataframe\">\n",
       "  <thead>\n",
       "    <tr style=\"text-align: right;\">\n",
       "      <th></th>\n",
       "      <th>学号</th>\n",
       "      <th>班级</th>\n",
       "      <th>成绩</th>\n",
       "    </tr>\n",
       "  </thead>\n",
       "  <tbody>\n",
       "    <tr>\n",
       "      <th>沃玛</th>\n",
       "      <td>01</td>\n",
       "      <td>二班</td>\n",
       "      <td>90</td>\n",
       "    </tr>\n",
       "    <tr>\n",
       "      <th>麻衣</th>\n",
       "      <td>05</td>\n",
       "      <td>二班</td>\n",
       "      <td>100</td>\n",
       "    </tr>\n",
       "  </tbody>\n",
       "</table>\n",
       "</div>"
      ],
      "text/plain": [
       "    学号  班级   成绩\n",
       "沃玛  01  二班   90\n",
       "麻衣  05  二班  100"
      ]
     },
     "execution_count": 64,
     "metadata": {},
     "output_type": "execute_result"
    }
   ],
   "source": [
    "df_2[(df_2[\"成绩\"] > 80) & (df_2[\"班级\"] == \"二班\")]"
   ]
  },
  {
   "cell_type": "markdown",
   "id": "63efb91f-d02b-4e45-8ec5-d8d0c91c2bcb",
   "metadata": {},
   "source": [
    "**（9）获取前n行:**\n",
    "\n",
    "        .head(n)提取前n行----在数据很多很多时，可以通过查看开头几行数据，来了解数据包含的信息"
   ]
  },
  {
   "cell_type": "code",
   "execution_count": 66,
   "id": "23343d39-8068-4f27-8d71-098eafe166c6",
   "metadata": {},
   "outputs": [
    {
     "data": {
      "text/html": [
       "<div>\n",
       "<style scoped>\n",
       "    .dataframe tbody tr th:only-of-type {\n",
       "        vertical-align: middle;\n",
       "    }\n",
       "\n",
       "    .dataframe tbody tr th {\n",
       "        vertical-align: top;\n",
       "    }\n",
       "\n",
       "    .dataframe thead th {\n",
       "        text-align: right;\n",
       "    }\n",
       "</style>\n",
       "<table border=\"1\" class=\"dataframe\">\n",
       "  <thead>\n",
       "    <tr style=\"text-align: right;\">\n",
       "      <th></th>\n",
       "      <th>学号</th>\n",
       "      <th>班级</th>\n",
       "      <th>成绩</th>\n",
       "    </tr>\n",
       "  </thead>\n",
       "  <tbody>\n",
       "    <tr>\n",
       "      <th>沃玛</th>\n",
       "      <td>01</td>\n",
       "      <td>二班</td>\n",
       "      <td>90</td>\n",
       "    </tr>\n",
       "    <tr>\n",
       "      <th>憨色</th>\n",
       "      <td>02</td>\n",
       "      <td>一班</td>\n",
       "      <td>76</td>\n",
       "    </tr>\n",
       "    <tr>\n",
       "      <th>冷鸟</th>\n",
       "      <td>03</td>\n",
       "      <td>三班</td>\n",
       "      <td>98</td>\n",
       "    </tr>\n",
       "  </tbody>\n",
       "</table>\n",
       "</div>"
      ],
      "text/plain": [
       "    学号  班级  成绩\n",
       "沃玛  01  二班  90\n",
       "憨色  02  一班  76\n",
       "冷鸟  03  三班  98"
      ]
     },
     "execution_count": 66,
     "metadata": {},
     "output_type": "execute_result"
    }
   ],
   "source": [
    "df_2.head(3)    # 由于从0开始，且不包括结束行，即输入 n则提取 n"
   ]
  }
 ],
 "metadata": {
  "kernelspec": {
   "display_name": "Python 3 (ipykernel)",
   "language": "python",
   "name": "python3"
  },
  "language_info": {
   "codemirror_mode": {
    "name": "ipython",
    "version": 3
   },
   "file_extension": ".py",
   "mimetype": "text/x-python",
   "name": "python",
   "nbconvert_exporter": "python",
   "pygments_lexer": "ipython3",
   "version": "3.12.1"
  }
 },
 "nbformat": 4,
 "nbformat_minor": 5
}
