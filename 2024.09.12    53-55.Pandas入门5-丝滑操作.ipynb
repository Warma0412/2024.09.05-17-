{
 "cells": [
  {
   "cell_type": "markdown",
   "id": "dacf754c-2b01-4bb7-bc05-4a1dc89c3e5b",
   "metadata": {},
   "source": [
    "#### 2024.9.12\n",
    "\n",
    "**今日学习：\n",
    "（53）DataFrame丝滑操作（54）小测试（55）获取数据**"
   ]
  },
  {
   "cell_type": "code",
   "execution_count": 1,
   "id": "c923e4e6-a2b9-400b-ac1a-f94a5bece2d1",
   "metadata": {},
   "outputs": [],
   "source": [
    "import pandas as pd"
   ]
  },
  {
   "cell_type": "markdown",
   "id": "d9c5c288-8a7f-4b19-9763-95abb356eb24",
   "metadata": {},
   "source": [
    "#### 一、Dataframe丝滑操作\n",
    "\n",
    "**（1）常用方法:**\n",
    "\n",
    "        其中我们可以控制数据处理方向：axis=0即纵向操作----drop时axis=0，即将索引行上的数据一个个删除，处理纵轴上的数据；但在统计上直接处理纵轴数据\n",
    "                                 axis=1即横向操作----drop时axis=1，即将列名上的数据一个个删除，处理横轴上的数据；但在统计上直接处理横轴数据"
   ]
  },
  {
   "cell_type": "markdown",
   "id": "cc549927-7d5a-43fe-9a7f-f80ce7252b75",
   "metadata": {},
   "source": [
    "        先创建一个Dataframe数据"
   ]
  },
  {
   "cell_type": "code",
   "execution_count": 2,
   "id": "233467e8-c8b7-4efa-a41a-eb0f4fff1452",
   "metadata": {},
   "outputs": [
    {
     "data": {
      "text/html": [
       "<div>\n",
       "<style scoped>\n",
       "    .dataframe tbody tr th:only-of-type {\n",
       "        vertical-align: middle;\n",
       "    }\n",
       "\n",
       "    .dataframe tbody tr th {\n",
       "        vertical-align: top;\n",
       "    }\n",
       "\n",
       "    .dataframe thead th {\n",
       "        text-align: right;\n",
       "    }\n",
       "</style>\n",
       "<table border=\"1\" class=\"dataframe\">\n",
       "  <thead>\n",
       "    <tr style=\"text-align: right;\">\n",
       "      <th></th>\n",
       "      <th>a</th>\n",
       "      <th>b</th>\n",
       "      <th>c</th>\n",
       "      <th>d</th>\n",
       "    </tr>\n",
       "  </thead>\n",
       "  <tbody>\n",
       "    <tr>\n",
       "      <th>001</th>\n",
       "      <td>1</td>\n",
       "      <td>4</td>\n",
       "      <td>3</td>\n",
       "      <td>3</td>\n",
       "    </tr>\n",
       "    <tr>\n",
       "      <th>002</th>\n",
       "      <td>0</td>\n",
       "      <td>2</td>\n",
       "      <td>4</td>\n",
       "      <td>2</td>\n",
       "    </tr>\n",
       "    <tr>\n",
       "      <th>003</th>\n",
       "      <td>2</td>\n",
       "      <td>3</td>\n",
       "      <td>1</td>\n",
       "      <td>1</td>\n",
       "    </tr>\n",
       "    <tr>\n",
       "      <th>004</th>\n",
       "      <td>3</td>\n",
       "      <td>5</td>\n",
       "      <td>5</td>\n",
       "      <td>0</td>\n",
       "    </tr>\n",
       "  </tbody>\n",
       "</table>\n",
       "</div>"
      ],
      "text/plain": [
       "     a  b  c  d\n",
       "001  1  4  3  3\n",
       "002  0  2  4  2\n",
       "003  2  3  1  1\n",
       "004  3  5  5  0"
      ]
     },
     "execution_count": 2,
     "metadata": {},
     "output_type": "execute_result"
    }
   ],
   "source": [
    "s_a = pd.Series([1, 0, 2, 3], index=[\"001\", \"002\", \"003\", \"004\"])\n",
    "s_b = pd.Series([4, 2, 3, 5], index=[\"001\", \"002\", \"003\", \"004\"])\n",
    "s_c = pd.Series([3, 4, 1, 5], index=[\"001\", \"002\", \"003\", \"004\"])\n",
    "s_d = pd.Series([3, 2, 1, 0], index=[\"001\", \"002\", \"003\", \"004\"])\n",
    "\n",
    "df_1 = pd.DataFrame({\"a\":s_a, \"b\":s_b, \"c\":s_c, \"d\":s_d})\n",
    "df_1"
   ]
  },
  {
   "cell_type": "code",
   "execution_count": 3,
   "id": "4b69aca9-0936-45b7-8505-f6284ad0b6f0",
   "metadata": {},
   "outputs": [
    {
     "data": {
      "text/plain": [
       "a    1.50\n",
       "b    3.50\n",
       "c    3.25\n",
       "d    1.50\n",
       "dtype: float64"
      ]
     },
     "execution_count": 3,
     "metadata": {},
     "output_type": "execute_result"
    }
   ],
   "source": [
    "df_1.mean()    # 默认axis=0，对纵轴数据求平均，即a的平均值为1.5"
   ]
  },
  {
   "cell_type": "code",
   "execution_count": 4,
   "id": "76624278-31b1-406e-9ef5-082947c760de",
   "metadata": {},
   "outputs": [
    {
     "data": {
      "text/html": [
       "<div>\n",
       "<style scoped>\n",
       "    .dataframe tbody tr th:only-of-type {\n",
       "        vertical-align: middle;\n",
       "    }\n",
       "\n",
       "    .dataframe tbody tr th {\n",
       "        vertical-align: top;\n",
       "    }\n",
       "\n",
       "    .dataframe thead th {\n",
       "        text-align: right;\n",
       "    }\n",
       "</style>\n",
       "<table border=\"1\" class=\"dataframe\">\n",
       "  <thead>\n",
       "    <tr style=\"text-align: right;\">\n",
       "      <th></th>\n",
       "      <th>a</th>\n",
       "      <th>b</th>\n",
       "      <th>c</th>\n",
       "      <th>d</th>\n",
       "    </tr>\n",
       "  </thead>\n",
       "  <tbody>\n",
       "    <tr>\n",
       "      <th>001</th>\n",
       "      <td>1</td>\n",
       "      <td>4</td>\n",
       "      <td>3</td>\n",
       "      <td>3</td>\n",
       "    </tr>\n",
       "    <tr>\n",
       "      <th>002</th>\n",
       "      <td>0</td>\n",
       "      <td>2</td>\n",
       "      <td>4</td>\n",
       "      <td>2</td>\n",
       "    </tr>\n",
       "    <tr>\n",
       "      <th>003</th>\n",
       "      <td>2</td>\n",
       "      <td>3</td>\n",
       "      <td>1</td>\n",
       "      <td>1</td>\n",
       "    </tr>\n",
       "  </tbody>\n",
       "</table>\n",
       "</div>"
      ],
      "text/plain": [
       "     a  b  c  d\n",
       "001  1  4  3  3\n",
       "002  0  2  4  2\n",
       "003  2  3  1  1"
      ]
     },
     "execution_count": 4,
     "metadata": {},
     "output_type": "execute_result"
    }
   ],
   "source": [
    "df_1.drop([\"004\"])    # 默认axis=0，纵向处理数据，对\"004\"在纵轴上的abcd数据一个个删除，实质是删除\"005\"这个横轴数据"
   ]
  },
  {
   "cell_type": "code",
   "execution_count": 5,
   "id": "e685df3f-3029-4421-924e-8a36173147fe",
   "metadata": {},
   "outputs": [
    {
     "data": {
      "text/plain": [
       "001    2.75\n",
       "002    2.00\n",
       "003    1.75\n",
       "004    3.25\n",
       "dtype: float64"
      ]
     },
     "execution_count": 5,
     "metadata": {},
     "output_type": "execute_result"
    }
   ],
   "source": [
    "df_1.mean(axis=1)    # 设定axis=1，对横轴数据求平均，即\"001\"的平均值为2.75"
   ]
  },
  {
   "cell_type": "markdown",
   "id": "16fec4c6-b93d-4f87-ac2a-bc4555ca39de",
   "metadata": {},
   "source": [
    "        如果我们需要在求平均时，去除最高分和最低分，因此可以使用def和apply方法，一次性将def的函数应用在任意横纵数据上"
   ]
  },
  {
   "cell_type": "code",
   "execution_count": 6,
   "id": "fb7ea075-1422-4057-a766-7c4105b44a77",
   "metadata": {},
   "outputs": [
    {
     "data": {
      "text/plain": [
       "001    3.0\n",
       "002    2.0\n",
       "003    1.5\n",
       "004    4.0\n",
       "dtype: float64"
      ]
     },
     "execution_count": 6,
     "metadata": {},
     "output_type": "execute_result"
    }
   ],
   "source": [
    "def trim_mean(data):\n",
    "    data_len = len(data)\n",
    "    data_sum = data.sum()\n",
    "    data_max = data.max()\n",
    "    data_min = data.min()\n",
    "    return(data_sum - data_max - data_min)/(data_len - 2)\n",
    "\n",
    "df_1.apply(trim_mean, axis=1)    # 同样使用.apply();以及设定axis=1，即对数据进行横向处理，得到截尾后\"001\"···的平均值"
   ]
  },
  {
   "cell_type": "code",
   "execution_count": 7,
   "id": "fa03ce1d-c1cb-4631-9cd5-aa431dffbd2f",
   "metadata": {},
   "outputs": [
    {
     "data": {
      "text/plain": [
       "a    1.5\n",
       "b    3.5\n",
       "c    3.5\n",
       "d    1.5\n",
       "dtype: float64"
      ]
     },
     "execution_count": 7,
     "metadata": {},
     "output_type": "execute_result"
    }
   ],
   "source": [
    "df_1.apply(trim_mean)    # 默认axis=1，即对数据进行横向处理，得到截尾后abcd的平均值"
   ]
  },
  {
   "cell_type": "markdown",
   "id": "d514c4c8-a7c0-42f5-af89-f54ac1bf3729",
   "metadata": {},
   "source": [
    "**（2）applymap:**\n",
    "\n",
    "        除apply接收方法以外，还有applymap接收函数；\n",
    "            区别：传给apply的函数，会被运用在每一行or每一列上\n",
    "                 传给applymap的函数，会被运用在每一个元素上\n",
    "            注意：无论是apply还是applymap函数都不会改变原始DataFrame，只会返回处理后的结果，如果需要保存该案后的结果，仍需额外赋值="
   ]
  },
  {
   "cell_type": "code",
   "execution_count": 8,
   "id": "65cd5e5e-c772-44ec-a7d4-07448844bacc",
   "metadata": {},
   "outputs": [
    {
     "name": "stderr",
     "output_type": "stream",
     "text": [
      "/var/folders/nm/k6xd7m5j5_n5tkt_d9xcbflh0000gn/T/ipykernel_60053/2936447791.py:1: FutureWarning: DataFrame.applymap has been deprecated. Use DataFrame.map instead.\n",
      "  df_1.applymap(lambda x: x + 5)    # 警告DataFrame.applymap()函数已经不再推荐使用，但目前仍有效\n"
     ]
    },
    {
     "data": {
      "text/html": [
       "<div>\n",
       "<style scoped>\n",
       "    .dataframe tbody tr th:only-of-type {\n",
       "        vertical-align: middle;\n",
       "    }\n",
       "\n",
       "    .dataframe tbody tr th {\n",
       "        vertical-align: top;\n",
       "    }\n",
       "\n",
       "    .dataframe thead th {\n",
       "        text-align: right;\n",
       "    }\n",
       "</style>\n",
       "<table border=\"1\" class=\"dataframe\">\n",
       "  <thead>\n",
       "    <tr style=\"text-align: right;\">\n",
       "      <th></th>\n",
       "      <th>a</th>\n",
       "      <th>b</th>\n",
       "      <th>c</th>\n",
       "      <th>d</th>\n",
       "    </tr>\n",
       "  </thead>\n",
       "  <tbody>\n",
       "    <tr>\n",
       "      <th>001</th>\n",
       "      <td>6</td>\n",
       "      <td>9</td>\n",
       "      <td>8</td>\n",
       "      <td>8</td>\n",
       "    </tr>\n",
       "    <tr>\n",
       "      <th>002</th>\n",
       "      <td>5</td>\n",
       "      <td>7</td>\n",
       "      <td>9</td>\n",
       "      <td>7</td>\n",
       "    </tr>\n",
       "    <tr>\n",
       "      <th>003</th>\n",
       "      <td>7</td>\n",
       "      <td>8</td>\n",
       "      <td>6</td>\n",
       "      <td>6</td>\n",
       "    </tr>\n",
       "    <tr>\n",
       "      <th>004</th>\n",
       "      <td>8</td>\n",
       "      <td>10</td>\n",
       "      <td>10</td>\n",
       "      <td>5</td>\n",
       "    </tr>\n",
       "  </tbody>\n",
       "</table>\n",
       "</div>"
      ],
      "text/plain": [
       "     a   b   c  d\n",
       "001  6   9   8  8\n",
       "002  5   7   9  7\n",
       "003  7   8   6  6\n",
       "004  8  10  10  5"
      ]
     },
     "execution_count": 8,
     "metadata": {},
     "output_type": "execute_result"
    }
   ],
   "source": [
    "df_1.applymap(lambda x: x + 5)    # 警告DataFrame.applymap()函数已经不再推荐使用，但目前仍有效"
   ]
  },
  {
   "cell_type": "code",
   "execution_count": 9,
   "id": "9bd53800-c18b-41cf-b401-5154870eb6eb",
   "metadata": {},
   "outputs": [
    {
     "data": {
      "text/html": [
       "<div>\n",
       "<style scoped>\n",
       "    .dataframe tbody tr th:only-of-type {\n",
       "        vertical-align: middle;\n",
       "    }\n",
       "\n",
       "    .dataframe tbody tr th {\n",
       "        vertical-align: top;\n",
       "    }\n",
       "\n",
       "    .dataframe thead th {\n",
       "        text-align: right;\n",
       "    }\n",
       "</style>\n",
       "<table border=\"1\" class=\"dataframe\">\n",
       "  <thead>\n",
       "    <tr style=\"text-align: right;\">\n",
       "      <th></th>\n",
       "      <th>a</th>\n",
       "      <th>b</th>\n",
       "      <th>c</th>\n",
       "      <th>d</th>\n",
       "    </tr>\n",
       "  </thead>\n",
       "  <tbody>\n",
       "    <tr>\n",
       "      <th>001</th>\n",
       "      <td>6</td>\n",
       "      <td>9</td>\n",
       "      <td>8</td>\n",
       "      <td>8</td>\n",
       "    </tr>\n",
       "    <tr>\n",
       "      <th>002</th>\n",
       "      <td>5</td>\n",
       "      <td>7</td>\n",
       "      <td>9</td>\n",
       "      <td>7</td>\n",
       "    </tr>\n",
       "    <tr>\n",
       "      <th>003</th>\n",
       "      <td>7</td>\n",
       "      <td>8</td>\n",
       "      <td>6</td>\n",
       "      <td>6</td>\n",
       "    </tr>\n",
       "    <tr>\n",
       "      <th>004</th>\n",
       "      <td>8</td>\n",
       "      <td>10</td>\n",
       "      <td>10</td>\n",
       "      <td>5</td>\n",
       "    </tr>\n",
       "  </tbody>\n",
       "</table>\n",
       "</div>"
      ],
      "text/plain": [
       "     a   b   c  d\n",
       "001  6   9   8  8\n",
       "002  5   7   9  7\n",
       "003  7   8   6  6\n",
       "004  8  10  10  5"
      ]
     },
     "execution_count": 9,
     "metadata": {},
     "output_type": "execute_result"
    }
   ],
   "source": [
    "df_1.apply(lambda x: x + 5)    # 此处使用.apply()，对每一纵轴上的数据进行处理，效果也是一样的"
   ]
  },
  {
   "cell_type": "code",
   "execution_count": 10,
   "id": "cb929f26-bb7b-4d14-b939-8e81bd75740b",
   "metadata": {},
   "outputs": [
    {
     "data": {
      "text/html": [
       "<div>\n",
       "<style scoped>\n",
       "    .dataframe tbody tr th:only-of-type {\n",
       "        vertical-align: middle;\n",
       "    }\n",
       "\n",
       "    .dataframe tbody tr th {\n",
       "        vertical-align: top;\n",
       "    }\n",
       "\n",
       "    .dataframe thead th {\n",
       "        text-align: right;\n",
       "    }\n",
       "</style>\n",
       "<table border=\"1\" class=\"dataframe\">\n",
       "  <thead>\n",
       "    <tr style=\"text-align: right;\">\n",
       "      <th></th>\n",
       "      <th>a</th>\n",
       "      <th>b</th>\n",
       "      <th>c</th>\n",
       "      <th>d</th>\n",
       "    </tr>\n",
       "  </thead>\n",
       "  <tbody>\n",
       "    <tr>\n",
       "      <th>001</th>\n",
       "      <td>1</td>\n",
       "      <td>4</td>\n",
       "      <td>3</td>\n",
       "      <td>3</td>\n",
       "    </tr>\n",
       "    <tr>\n",
       "      <th>002</th>\n",
       "      <td>0</td>\n",
       "      <td>2</td>\n",
       "      <td>4</td>\n",
       "      <td>2</td>\n",
       "    </tr>\n",
       "    <tr>\n",
       "      <th>003</th>\n",
       "      <td>2</td>\n",
       "      <td>3</td>\n",
       "      <td>1</td>\n",
       "      <td>1</td>\n",
       "    </tr>\n",
       "    <tr>\n",
       "      <th>004</th>\n",
       "      <td>3</td>\n",
       "      <td>5</td>\n",
       "      <td>5</td>\n",
       "      <td>0</td>\n",
       "    </tr>\n",
       "  </tbody>\n",
       "</table>\n",
       "</div>"
      ],
      "text/plain": [
       "     a  b  c  d\n",
       "001  1  4  3  3\n",
       "002  0  2  4  2\n",
       "003  2  3  1  1\n",
       "004  3  5  5  0"
      ]
     },
     "execution_count": 10,
     "metadata": {},
     "output_type": "execute_result"
    }
   ],
   "source": [
    "df_1    # apply和applymap都不会改变原始 df_1"
   ]
  },
  {
   "cell_type": "code",
   "execution_count": 11,
   "id": "c4837602-d076-44ab-9812-9f792392ca70",
   "metadata": {},
   "outputs": [
    {
     "data": {
      "text/plain": [
       "a    1.50\n",
       "b    3.50\n",
       "c    3.25\n",
       "d    1.50\n",
       "dtype: float64"
      ]
     },
     "execution_count": 11,
     "metadata": {},
     "output_type": "execute_result"
    }
   ],
   "source": [
    "df_1.mean()"
   ]
  },
  {
   "cell_type": "code",
   "execution_count": 12,
   "id": "fa0eec5e-09db-414e-a3e7-2e3532e71ed1",
   "metadata": {},
   "outputs": [
    {
     "data": {
      "text/plain": [
       "a    6.50\n",
       "b    8.50\n",
       "c    8.25\n",
       "d    6.50\n",
       "dtype: float64"
      ]
     },
     "execution_count": 12,
     "metadata": {},
     "output_type": "execute_result"
    }
   ],
   "source": [
    "df_2 = df_1.apply(lambda x: x + 5)\n",
    "df_2.mean()    # df_2是对df_1每个元素加上5后的结果"
   ]
  },
  {
   "cell_type": "markdown",
   "id": "14ef609b-69c2-4ec2-a536-4129ca4371ca",
   "metadata": {
    "scrolled": true
   },
   "source": [
    "**（3）describe:**\n",
    "\n",
    "        类似Series中的describe()，一样得到统计数据----且会自动忽略非数字类型的数据"
   ]
  },
  {
   "cell_type": "code",
   "execution_count": 13,
   "id": "0b820eb9-6110-48cf-9aae-ab3f36c9ad3a",
   "metadata": {},
   "outputs": [
    {
     "data": {
      "text/html": [
       "<div>\n",
       "<style scoped>\n",
       "    .dataframe tbody tr th:only-of-type {\n",
       "        vertical-align: middle;\n",
       "    }\n",
       "\n",
       "    .dataframe tbody tr th {\n",
       "        vertical-align: top;\n",
       "    }\n",
       "\n",
       "    .dataframe thead th {\n",
       "        text-align: right;\n",
       "    }\n",
       "</style>\n",
       "<table border=\"1\" class=\"dataframe\">\n",
       "  <thead>\n",
       "    <tr style=\"text-align: right;\">\n",
       "      <th></th>\n",
       "      <th>a</th>\n",
       "      <th>b</th>\n",
       "      <th>c</th>\n",
       "      <th>d</th>\n",
       "    </tr>\n",
       "  </thead>\n",
       "  <tbody>\n",
       "    <tr>\n",
       "      <th>count</th>\n",
       "      <td>4.000000</td>\n",
       "      <td>4.000000</td>\n",
       "      <td>4.000000</td>\n",
       "      <td>4.000000</td>\n",
       "    </tr>\n",
       "    <tr>\n",
       "      <th>mean</th>\n",
       "      <td>1.500000</td>\n",
       "      <td>3.500000</td>\n",
       "      <td>3.250000</td>\n",
       "      <td>1.500000</td>\n",
       "    </tr>\n",
       "    <tr>\n",
       "      <th>std</th>\n",
       "      <td>1.290994</td>\n",
       "      <td>1.290994</td>\n",
       "      <td>1.707825</td>\n",
       "      <td>1.290994</td>\n",
       "    </tr>\n",
       "    <tr>\n",
       "      <th>min</th>\n",
       "      <td>0.000000</td>\n",
       "      <td>2.000000</td>\n",
       "      <td>1.000000</td>\n",
       "      <td>0.000000</td>\n",
       "    </tr>\n",
       "    <tr>\n",
       "      <th>25%</th>\n",
       "      <td>0.750000</td>\n",
       "      <td>2.750000</td>\n",
       "      <td>2.500000</td>\n",
       "      <td>0.750000</td>\n",
       "    </tr>\n",
       "    <tr>\n",
       "      <th>50%</th>\n",
       "      <td>1.500000</td>\n",
       "      <td>3.500000</td>\n",
       "      <td>3.500000</td>\n",
       "      <td>1.500000</td>\n",
       "    </tr>\n",
       "    <tr>\n",
       "      <th>75%</th>\n",
       "      <td>2.250000</td>\n",
       "      <td>4.250000</td>\n",
       "      <td>4.250000</td>\n",
       "      <td>2.250000</td>\n",
       "    </tr>\n",
       "    <tr>\n",
       "      <th>max</th>\n",
       "      <td>3.000000</td>\n",
       "      <td>5.000000</td>\n",
       "      <td>5.000000</td>\n",
       "      <td>3.000000</td>\n",
       "    </tr>\n",
       "  </tbody>\n",
       "</table>\n",
       "</div>"
      ],
      "text/plain": [
       "              a         b         c         d\n",
       "count  4.000000  4.000000  4.000000  4.000000\n",
       "mean   1.500000  3.500000  3.250000  1.500000\n",
       "std    1.290994  1.290994  1.707825  1.290994\n",
       "min    0.000000  2.000000  1.000000  0.000000\n",
       "25%    0.750000  2.750000  2.500000  0.750000\n",
       "50%    1.500000  3.500000  3.500000  1.500000\n",
       "75%    2.250000  4.250000  4.250000  2.250000\n",
       "max    3.000000  5.000000  5.000000  3.000000"
      ]
     },
     "execution_count": 13,
     "metadata": {},
     "output_type": "execute_result"
    }
   ],
   "source": [
    "df_1.describe()    # 得到各列的统计信息（如a列有4个数、平均值为1.5···）"
   ]
  },
  {
   "cell_type": "markdown",
   "id": "a007d9c0-2a91-4fc5-a54c-3e80b08199ed",
   "metadata": {},
   "source": [
    "        加餐：导出df_1中每行第二大的数据"
   ]
  },
  {
   "cell_type": "code",
   "execution_count": 14,
   "id": "28cbb321-1af8-42a4-8f54-0dca0b243484",
   "metadata": {},
   "outputs": [
    {
     "data": {
      "text/html": [
       "<div>\n",
       "<style scoped>\n",
       "    .dataframe tbody tr th:only-of-type {\n",
       "        vertical-align: middle;\n",
       "    }\n",
       "\n",
       "    .dataframe tbody tr th {\n",
       "        vertical-align: top;\n",
       "    }\n",
       "\n",
       "    .dataframe thead th {\n",
       "        text-align: right;\n",
       "    }\n",
       "</style>\n",
       "<table border=\"1\" class=\"dataframe\">\n",
       "  <thead>\n",
       "    <tr style=\"text-align: right;\">\n",
       "      <th></th>\n",
       "      <th>a</th>\n",
       "      <th>b</th>\n",
       "      <th>c</th>\n",
       "    </tr>\n",
       "  </thead>\n",
       "  <tbody>\n",
       "    <tr>\n",
       "      <th>001</th>\n",
       "      <td>1</td>\n",
       "      <td>4</td>\n",
       "      <td>3</td>\n",
       "    </tr>\n",
       "    <tr>\n",
       "      <th>002</th>\n",
       "      <td>0</td>\n",
       "      <td>2</td>\n",
       "      <td>4</td>\n",
       "    </tr>\n",
       "    <tr>\n",
       "      <th>003</th>\n",
       "      <td>2</td>\n",
       "      <td>3</td>\n",
       "      <td>1</td>\n",
       "    </tr>\n",
       "    <tr>\n",
       "      <th>004</th>\n",
       "      <td>3</td>\n",
       "      <td>5</td>\n",
       "      <td>5</td>\n",
       "    </tr>\n",
       "  </tbody>\n",
       "</table>\n",
       "</div>"
      ],
      "text/plain": [
       "     a  b  c\n",
       "001  1  4  3\n",
       "002  0  2  4\n",
       "003  2  3  1\n",
       "004  3  5  5"
      ]
     },
     "execution_count": 14,
     "metadata": {},
     "output_type": "execute_result"
    }
   ],
   "source": [
    "df_1.loc[:, \"a\":\"c\"]    # 这里的[:, \"a\":\"d\"]，第一个:是提取全部的行;第二个\"a\":\"c\"是提取从a到c列的数据"
   ]
  },
  {
   "cell_type": "code",
   "execution_count": 15,
   "id": "7753df31-4e98-42e7-b7a9-7ae730fbbbbe",
   "metadata": {},
   "outputs": [
    {
     "data": {
      "text/html": [
       "<div>\n",
       "<style scoped>\n",
       "    .dataframe tbody tr th:only-of-type {\n",
       "        vertical-align: middle;\n",
       "    }\n",
       "\n",
       "    .dataframe tbody tr th {\n",
       "        vertical-align: top;\n",
       "    }\n",
       "\n",
       "    .dataframe thead th {\n",
       "        text-align: right;\n",
       "    }\n",
       "</style>\n",
       "<table border=\"1\" class=\"dataframe\">\n",
       "  <thead>\n",
       "    <tr style=\"text-align: right;\">\n",
       "      <th></th>\n",
       "      <th>a</th>\n",
       "      <th>b</th>\n",
       "      <th>c</th>\n",
       "      <th>d</th>\n",
       "    </tr>\n",
       "  </thead>\n",
       "  <tbody>\n",
       "  </tbody>\n",
       "</table>\n",
       "</div>"
      ],
      "text/plain": [
       "Empty DataFrame\n",
       "Columns: [a, b, c, d]\n",
       "Index: []"
      ]
     },
     "execution_count": 15,
     "metadata": {},
     "output_type": "execute_result"
    }
   ],
   "source": [
    "df_1.loc[\"a\":\"c\"]    # 尝试执行 df_1.loc[\"a\":\"c\"] 时，并没有发生错误，而是返回了一个空的 DataFrame\n",
    "                     # 这是因为 “a” 到 “c” 并不是 DataFrame df_1 的索引标签,df_1 的索引标签实际上是 “001” 到 “004”"
   ]
  },
  {
   "cell_type": "code",
   "execution_count": 16,
   "id": "cb26151c-053c-43b9-b527-b1dfa34c5749",
   "metadata": {},
   "outputs": [
    {
     "data": {
      "text/html": [
       "<div>\n",
       "<style scoped>\n",
       "    .dataframe tbody tr th:only-of-type {\n",
       "        vertical-align: middle;\n",
       "    }\n",
       "\n",
       "    .dataframe tbody tr th {\n",
       "        vertical-align: top;\n",
       "    }\n",
       "\n",
       "    .dataframe thead th {\n",
       "        text-align: right;\n",
       "    }\n",
       "</style>\n",
       "<table border=\"1\" class=\"dataframe\">\n",
       "  <thead>\n",
       "    <tr style=\"text-align: right;\">\n",
       "      <th></th>\n",
       "      <th>a</th>\n",
       "      <th>b</th>\n",
       "      <th>c</th>\n",
       "      <th>d</th>\n",
       "    </tr>\n",
       "  </thead>\n",
       "  <tbody>\n",
       "    <tr>\n",
       "      <th>001</th>\n",
       "      <td>1</td>\n",
       "      <td>4</td>\n",
       "      <td>3</td>\n",
       "      <td>3</td>\n",
       "    </tr>\n",
       "    <tr>\n",
       "      <th>002</th>\n",
       "      <td>0</td>\n",
       "      <td>2</td>\n",
       "      <td>4</td>\n",
       "      <td>2</td>\n",
       "    </tr>\n",
       "    <tr>\n",
       "      <th>003</th>\n",
       "      <td>2</td>\n",
       "      <td>3</td>\n",
       "      <td>1</td>\n",
       "      <td>1</td>\n",
       "    </tr>\n",
       "    <tr>\n",
       "      <th>004</th>\n",
       "      <td>3</td>\n",
       "      <td>5</td>\n",
       "      <td>5</td>\n",
       "      <td>0</td>\n",
       "    </tr>\n",
       "  </tbody>\n",
       "</table>\n",
       "</div>"
      ],
      "text/plain": [
       "     a  b  c  d\n",
       "001  1  4  3  3\n",
       "002  0  2  4  2\n",
       "003  2  3  1  1\n",
       "004  3  5  5  0"
      ]
     },
     "execution_count": 16,
     "metadata": {},
     "output_type": "execute_result"
    }
   ],
   "source": [
    "df_1"
   ]
  },
  {
   "cell_type": "code",
   "execution_count": 17,
   "id": "3723490a-1839-4662-baf9-d18f6414b609",
   "metadata": {},
   "outputs": [
    {
     "data": {
      "text/plain": [
       "a    2\n",
       "b    4\n",
       "c    4\n",
       "dtype: int64"
      ]
     },
     "execution_count": 17,
     "metadata": {},
     "output_type": "execute_result"
    }
   ],
   "source": [
    "df_1.loc[:, \"a\":\"c\"].apply(lambda x: sorted(x)[-2])    # 对数据进行sorted排序处理后，提取倒数第二个数据"
   ]
  },
  {
   "cell_type": "markdown",
   "id": "fc669089-7e48-4b0b-a42d-4b919b2419b6",
   "metadata": {},
   "source": [
    "**（4）.astype(\" \"):**\n",
    "\n",
    "        当使用describe时，如果DataFrame中的数据类型不是int而是object，则即使数字看起来是int，但describe时也会出现错误\n",
    "        此时就要使用df[\"列名\"] = df[\"列名\"].astype(\"int\")"
   ]
  },
  {
   "cell_type": "markdown",
   "id": "bb8cb23e-9ade-496a-a649-1ca32d7ded51",
   "metadata": {},
   "source": [
    "========================================================================"
   ]
  },
  {
   "cell_type": "markdown",
   "id": "be14bff5-9974-456e-b3e2-d7b30a294573",
   "metadata": {},
   "source": [
    "#### 二、获取数据\n",
    "\n",
    "**（1）数据分析流程:**\n",
    "\n",
    "        数据获取-读取数据-评估数据-清洗数据-整理数据-分析数据-可视化数据"
   ]
  },
  {
   "cell_type": "markdown",
   "id": "4f47d022-270f-420a-b155-aa068d382ad5",
   "metadata": {},
   "source": [
    "**（2）数据分类:**\n",
    "\n",
    "        私密数据：如公司内部数据\n",
    "        公开数据：通过直接下载、爬虫、公开API获取等\n",
    "                 API定义了两个程序之间的服务合约，包括 发送相应的客户端&发送请求的客户端（双方如何通过请求与响应进行通讯的）\n",
    "                 使用爬虫时，发送请求后，我们获得的是网页源代码，其本身是用来给浏览器渲染的，我们为了从中寻找数据，需要自己再去解析网页源码\n",
    "                     但如果对方直接提供给我们API，便能按照对方规定好的服务合约，根据规则发送请求，直接获取想要的数据，无需解析源码\n",
    "                         即一个网站如果提供了API时，通过API而不是爬虫去获取数据肯定是更高效的方法"
   ]
  }
 ],
 "metadata": {
  "kernelspec": {
   "display_name": "Python 3 (ipykernel)",
   "language": "python",
   "name": "python3"
  },
  "language_info": {
   "codemirror_mode": {
    "name": "ipython",
    "version": 3
   },
   "file_extension": ".py",
   "mimetype": "text/x-python",
   "name": "python",
   "nbconvert_exporter": "python",
   "pygments_lexer": "ipython3",
   "version": "3.12.1"
  }
 },
 "nbformat": 4,
 "nbformat_minor": 5
}
