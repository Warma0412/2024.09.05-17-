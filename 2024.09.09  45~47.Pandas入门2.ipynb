{
 "cells": [
  {
   "cell_type": "markdown",
   "id": "26cd9524-1417-4edd-ad54-c433a3cf9e88",
   "metadata": {},
   "source": [
    "#### 2024.9.9\n",
    "\n",
    "**今日学习：\n",
    "（45）小测试、（46）Series操作数据（47）小测试**"
   ]
  },
  {
   "cell_type": "code",
   "execution_count": 1,
   "id": "64ad7fd1-25c5-4e2b-b942-941ce687ecb5",
   "metadata": {},
   "outputs": [],
   "source": [
    "import pandas as pd"
   ]
  },
  {
   "cell_type": "markdown",
   "id": "a3cc0d62-1cc5-427f-a052-4c2ba4137c9e",
   "metadata": {},
   "source": [
    "一、Series操作数据\n",
    "\n",
    "**（1）索引对齐-计算:**\n",
    "\n",
    "        Series中的计算会自动根据索引对齐，只有当某个索引同时出现在两个Series里时，才会返回结果，否则会返回NaN\n",
    "        如果你想给缺失的值一个默认值时，可以用方法而不是符号去做这些操作.add( , fill_value = )"
   ]
  },
  {
   "cell_type": "code",
   "execution_count": 2,
   "id": "c748ae65-afdb-46d1-a65c-ae58498b94a4",
   "metadata": {},
   "outputs": [],
   "source": [
    "s1 = pd.Series([1, 2, 3, 4, 5],index = [5, 4, 3, 2, 1])\n",
    "s2 = pd.Series([-1, -3, -2, -4, -5],index = [5, 3, 4, 2, 1])"
   ]
  },
  {
   "cell_type": "code",
   "execution_count": 3,
   "id": "58d5e376-0ce5-4bc0-ad16-e528beb5232c",
   "metadata": {},
   "outputs": [
    {
     "data": {
      "text/plain": [
       "1    0\n",
       "2    0\n",
       "3    0\n",
       "4    0\n",
       "5    0\n",
       "dtype: int64"
      ]
     },
     "execution_count": 3,
     "metadata": {},
     "output_type": "execute_result"
    }
   ],
   "source": [
    "s1 + s2    # 可以看到，当定义标签索引时，加减乘除等数据处理仍优先以标签索引为准"
   ]
  },
  {
   "cell_type": "code",
   "execution_count": 4,
   "id": "404a3da2-bec5-4a9f-8638-bc43bb438aff",
   "metadata": {},
   "outputs": [],
   "source": [
    "s3 = pd.Series([1, 2, 3, 4, 5, 6, 7],index = [7, 6, 5, 4, 3, 2, 1])\n",
    "s4 = pd.Series([-1, -2, -3, -4, -5, -6],index = [5, 4, 3, 2, 1, 0])"
   ]
  },
  {
   "cell_type": "code",
   "execution_count": 5,
   "id": "0c18710b-3e4f-44b3-836f-83b0082cd6c2",
   "metadata": {},
   "outputs": [
    {
     "data": {
      "text/plain": [
       "0    NaN\n",
       "1    2.0\n",
       "2    2.0\n",
       "3    2.0\n",
       "4    2.0\n",
       "5    2.0\n",
       "6    NaN\n",
       "7    NaN\n",
       "dtype: float64"
      ]
     },
     "execution_count": 5,
     "metadata": {},
     "output_type": "execute_result"
    }
   ],
   "source": [
    "s3 + s4    # 如果某个索引只存在于其中一个Series，则会返回 NaN，表示not a number，说明无法得到计算值"
   ]
  },
  {
   "cell_type": "code",
   "execution_count": 6,
   "id": "23738fe3-7c67-4fd0-ab11-79b20aa2315c",
   "metadata": {},
   "outputs": [
    {
     "data": {
      "text/plain": [
       "0   -6.0\n",
       "1    2.0\n",
       "2    2.0\n",
       "3    2.0\n",
       "4    2.0\n",
       "5    2.0\n",
       "6    2.0\n",
       "7    1.0\n",
       "dtype: float64"
      ]
     },
     "execution_count": 6,
     "metadata": {},
     "output_type": "execute_result"
    }
   ],
   "source": [
    "s3.add(s4, fill_value = 0)    # 用符号无法额外传参，但方法可以----此处用.add()可以传入fill_value = 0，即将两边 Series单独索引设定默认值"
   ]
  },
  {
   "cell_type": "code",
   "execution_count": 7,
   "id": "d583a27c-1c6b-4280-b464-29a82c9c1ce1",
   "metadata": {},
   "outputs": [
    {
     "name": "stdout",
     "output_type": "stream",
     "text": [
      "0     6.0\n",
      "1    12.0\n",
      "2    10.0\n",
      "3     8.0\n",
      "4     6.0\n",
      "5     4.0\n",
      "6     2.0\n",
      "7     1.0\n",
      "dtype: float64\n",
      "0    -6.0\n",
      "1   -35.0\n",
      "2   -24.0\n",
      "3   -15.0\n",
      "4    -8.0\n",
      "5    -3.0\n",
      "6     2.0\n",
      "7     1.0\n",
      "dtype: float64\n",
      "0   -0.166667\n",
      "1   -1.400000\n",
      "2   -1.500000\n",
      "3   -1.666667\n",
      "4   -2.000000\n",
      "5   -3.000000\n",
      "6    2.000000\n",
      "7    1.000000\n",
      "dtype: float64\n"
     ]
    }
   ],
   "source": [
    "print(s3.sub(s4, fill_value = 0))    # sub()减法\n",
    "print(s3.mul(s4, fill_value = 1))    # mul()乘法\n",
    "print(s3.div(s4, fill_value = 1))    # div()除法"
   ]
  },
  {
   "cell_type": "code",
   "execution_count": 8,
   "id": "3962ac80-53e0-4527-8216-a05aa1023eff",
   "metadata": {},
   "outputs": [
    {
     "name": "stdout",
     "output_type": "stream",
     "text": [
      "7\n",
      "1\n",
      "4.0\n",
      "28\n"
     ]
    }
   ],
   "source": [
    "print(s3.max())    # 同样，这四个统计方法仍与 array一样使用\n",
    "print(s3.min())\n",
    "print(s3.mean())\n",
    "print(s3.sum())"
   ]
  },
  {
   "cell_type": "markdown",
   "id": "6ed714df-72d7-4f1f-a4ee-d80077c7a892",
   "metadata": {},
   "source": [
    "**（2）describe方法:**\n",
    "\n",
    "        Series中的.describe()是array中没有的，可以返回很多关于这个Series的统计信息"
   ]
  },
  {
   "cell_type": "code",
   "execution_count": 9,
   "id": "371d1952-78fd-4d9c-984b-1c8e89cbe29c",
   "metadata": {},
   "outputs": [
    {
     "data": {
      "text/plain": [
       "count    7.000000\n",
       "mean     4.000000\n",
       "std      2.160247\n",
       "min      1.000000\n",
       "25%      2.500000\n",
       "50%      4.000000\n",
       "75%      5.500000\n",
       "max      7.000000\n",
       "dtype: float64"
      ]
     },
     "execution_count": 9,
     "metadata": {},
     "output_type": "execute_result"
    }
   ],
   "source": [
    "s3.describe()"
   ]
  },
  {
   "cell_type": "markdown",
   "id": "426a780f-592e-4246-8c6b-4dff16afb486",
   "metadata": {},
   "source": [
    "**（3）对元素分别操作:**\n",
    "\n",
    "        同NumPy数组array中，也可以使用s1 * 3对Series中的每个元素进行操作\n",
    "            但如果我们希望每个成绩数据对应的等级，在python中我们可以使用def get_grade_from_score(score):if-elif-elif-else定义分数对应的等级\n",
    "                可以通过使用apply方法，接收函数作为参数，然后调用时把Series中的各个元素作为函数的参数，返回到Series中的元素即调用函数后的结果"
   ]
  },
  {
   "cell_type": "code",
   "execution_count": 20,
   "id": "9e7e8dab-f75b-4eb2-be7f-b3c2a90f8d02",
   "metadata": {},
   "outputs": [
    {
     "data": {
      "text/plain": [
       "5     3\n",
       "4     6\n",
       "3     9\n",
       "2    12\n",
       "1    15\n",
       "dtype: int64"
      ]
     },
     "execution_count": 20,
     "metadata": {},
     "output_type": "execute_result"
    }
   ],
   "source": [
    "s1 * 3            # 直接对返回值，不保存"
   ]
  },
  {
   "cell_type": "code",
   "execution_count": 19,
   "id": "8fa92e18-6fde-4a02-9a3d-ee13e6c7d118",
   "metadata": {},
   "outputs": [
    {
     "data": {
      "text/plain": [
       "5     3\n",
       "4     6\n",
       "3     9\n",
       "2    12\n",
       "1    15\n",
       "dtype: int64"
      ]
     },
     "execution_count": 19,
     "metadata": {},
     "output_type": "execute_result"
    }
   ],
   "source": [
    "s1mul3 = s1 * 3    # 保存值\n",
    "s1mul3"
   ]
  },
  {
   "cell_type": "code",
   "execution_count": 11,
   "id": "c5ca12ac-67c4-45e0-990d-4beca720b0f3",
   "metadata": {},
   "outputs": [],
   "source": [
    "scores = pd.Series({\"沃玛\":100, \"憨色\":88, \"冷鸟\":66})"
   ]
  },
  {
   "cell_type": "code",
   "execution_count": 26,
   "id": "216883c7-6426-4094-b62f-91c1fcc3577d",
   "metadata": {},
   "outputs": [
    {
     "name": "stdout",
     "output_type": "stream",
     "text": [
      "沃玛    100\n",
      "憨色     88\n",
      "冷鸟     66\n",
      "dtype: int64\n",
      "沃玛    A\n",
      "憨色    B\n",
      "冷鸟    D\n",
      "dtype: object\n"
     ]
    }
   ],
   "source": [
    "def get_grade_from_score(score):               # score是函数定义中的参数名称，命名不影响\n",
    "    if score >= 90:\n",
    "        return \"A\"                             # 函数执行到 return 语句时，它会立即停止，并且返回 return 后面指定的值给函数的调用者\n",
    "    elif score >= 80:\n",
    "        return \"B\"\n",
    "    elif score >= 70:\n",
    "        return \"C\"\n",
    "    elif score >= 60:\n",
    "        return \"D\"\n",
    "    else:\n",
    "        return \"E\"\n",
    "\n",
    "\n",
    "grades = scores.apply(get_grade_from_score)    # .apply()方法并不改变scores，会将scores中的每一个元素作为函数的参数传入\n",
    "\n",
    "print(scores)\n",
    "\n",
    "print(grades)                                  # object 类型主要用于字符串，但它实际上可以包含任何类型的 Python 对象"
   ]
  },
  {
   "cell_type": "code",
   "execution_count": 22,
   "id": "b7754ba7-8444-42c3-bd39-6e79b2b362d7",
   "metadata": {},
   "outputs": [
    {
     "data": {
      "text/plain": [
       "沃玛    10000\n",
       "憨色     7744\n",
       "冷鸟     4356\n",
       "dtype: int64"
      ]
     },
     "execution_count": 22,
     "metadata": {},
     "output_type": "execute_result"
    }
   ],
   "source": [
    "squares = scores.apply(lambda x : x*x)    # 在函数构造比较简单的时候，还可以使用匿名函数 lambda(参数 ： 返回值)----lambda函数一次性使用，十分方便\n",
    "squares"
   ]
  }
 ],
 "metadata": {
  "kernelspec": {
   "display_name": "Python 3 (ipykernel)",
   "language": "python",
   "name": "python3"
  },
  "language_info": {
   "codemirror_mode": {
    "name": "ipython",
    "version": 3
   },
   "file_extension": ".py",
   "mimetype": "text/x-python",
   "name": "python",
   "nbconvert_exporter": "python",
   "pygments_lexer": "ipython3",
   "version": "3.12.1"
  }
 },
 "nbformat": 4,
 "nbformat_minor": 5
}
