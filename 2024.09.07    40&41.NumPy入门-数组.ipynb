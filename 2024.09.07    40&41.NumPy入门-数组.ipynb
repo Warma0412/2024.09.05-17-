{
 "cells": [
  {
   "cell_type": "markdown",
   "id": "ac72b1df-0be5-4157-9dd9-dc26de6e19bc",
   "metadata": {},
   "source": [
    "#### 2024.9.7\n",
    "\n",
    "**今日学习：\n",
    "(40)NumPy入门**"
   ]
  },
  {
   "cell_type": "code",
   "execution_count": 1,
   "id": "e378d5f8-cc99-4ed8-874f-7b705a440f37",
   "metadata": {},
   "outputs": [],
   "source": [
    "import numpy as np"
   ]
  },
  {
   "cell_type": "markdown",
   "id": "e6008c78-efe8-43b6-93d3-58092b443759",
   "metadata": {},
   "source": [
    "一、NumPy入门-数组\n",
    "\n",
    "**（1）介绍:**\n",
    "\n",
    "         全称numerical python，专门针对计算使用，是很多数据或科学相关python包的基础，包括pandas\n",
    "\n",
    "         其中最核心的数据结构叫 ND array ，意思是n维数组\n",
    "\n",
    "             如一维数组：[1, 2, 3, 4, 5]；类似python中的列表list，但array数组中的数据类型必须统一，而list则无此要求\n",
    "\n",
    "                因此效率快是数据处理方面选择NumPy的首要原因；以及NumPy也提供了很多专门做运算的函数"
   ]
  },
  {
   "cell_type": "markdown",
   "id": "95f9511d-e2e5-40c3-806f-f295e33795da",
   "metadata": {},
   "source": [
    "**（2）创建数组:**\n",
    "\n",
    "       array = np.array([])"
   ]
  },
  {
   "cell_type": "code",
   "execution_count": 2,
   "id": "5de20ece-25cc-43ed-a5f5-683bae4dbf25",
   "metadata": {},
   "outputs": [
    {
     "data": {
      "text/plain": [
       "array([1, 2, 3])"
      ]
     },
     "execution_count": 2,
     "metadata": {},
     "output_type": "execute_result"
    }
   ],
   "source": [
    "array_1 = np.array([1, 2, 3])    # 创建一维数组\n",
    "array_1                          # 记住jupyter notebook是交互式，返回array_1的值无需print()"
   ]
  },
  {
   "cell_type": "code",
   "execution_count": 3,
   "id": "8e1643af-4c5c-4c0f-b0b8-6e47e226854b",
   "metadata": {},
   "outputs": [
    {
     "data": {
      "text/plain": [
       "array([[1, 2, 3],\n",
       "       [4, 5, 6]])"
      ]
     },
     "execution_count": 3,
     "metadata": {},
     "output_type": "execute_result"
    }
   ],
   "source": [
    "array_2 = np.array([[1, 2, 3], [4, 5, 6]])    # 创建二维数组，实质是一个嵌套列表，即列表中的每一个元素都是一个列表\n",
    "array_2"
   ]
  },
  {
   "cell_type": "code",
   "execution_count": 4,
   "id": "3ba869c3-ada3-4600-a5fa-58cf81d599d2",
   "metadata": {},
   "outputs": [
    {
     "data": {
      "text/plain": [
       "array(['1', 'warma', 'True'], dtype='<U21')"
      ]
     },
     "execution_count": 4,
     "metadata": {},
     "output_type": "execute_result"
    }
   ],
   "source": [
    "array_3 = np.array([1, \"warma\", True])    # 如果传入的元素数据类型不一致，numpy便会强制将其转换为同一类型\n",
    "array_3                                   # 在这里便将int和bool数据类型都转换为了str字符串类型"
   ]
  },
  {
   "cell_type": "markdown",
   "id": "7315861f-a7ed-43dc-81e8-e1e97bfb3ed4",
   "metadata": {},
   "source": [
    "**（3）数组属性:**\n",
    "\n",
    "        print(array_1.ndim) \n",
    "        print(array_1.shape) \n",
    "        print(array_1.size)    \n",
    "        print(array_1.dtype)"
   ]
  },
  {
   "cell_type": "code",
   "execution_count": 5,
   "id": "dcc05ef0-3cf9-4755-b1d4-956a2a7d60b4",
   "metadata": {},
   "outputs": [
    {
     "name": "stdout",
     "output_type": "stream",
     "text": [
      "1\n",
      "2\n"
     ]
    }
   ],
   "source": [
    "print(array_1.ndim)    # .ndim会返回给我们数组的维度\n",
    "print(array_2.ndim)"
   ]
  },
  {
   "cell_type": "code",
   "execution_count": 6,
   "id": "189ba58d-5634-4ab3-8167-41b3fa033730",
   "metadata": {},
   "outputs": [
    {
     "name": "stdout",
     "output_type": "stream",
     "text": [
      "(3,)\n",
      "(2, 3)\n"
     ]
    }
   ],
   "source": [
    "print(array_1.shape)    # .shape会返回一个元组，表示各个维度的元素个数\n",
    "print(array_2.shape)    # 针对这个二维数组，返回(2, 3)，即表示第一个维度上有两个元素，第二个维度有三个元素（即有两行数据，每行数据三个元素）"
   ]
  },
  {
   "cell_type": "code",
   "execution_count": 7,
   "id": "634a91d8-7e4b-4ea7-a59a-cc44f0105f91",
   "metadata": {},
   "outputs": [
    {
     "name": "stdout",
     "output_type": "stream",
     "text": [
      "3\n",
      "6\n"
     ]
    }
   ],
   "source": [
    "print(array_1.size)    # .size会返回给我们数组里元素的总个数\n",
    "print(array_2.size)    # 针对array_2，一共6个元素"
   ]
  },
  {
   "cell_type": "code",
   "execution_count": 8,
   "id": "ab4a6c9a-29c8-4fb2-b439-8a171bd41384",
   "metadata": {},
   "outputs": [
    {
     "name": "stdout",
     "output_type": "stream",
     "text": [
      "int64\n",
      "int64\n"
     ]
    }
   ],
   "source": [
    "print(array_1.dtype)    # .dtype会返回给我们数组元素的类型，如int64，其中int表示整数类型，64表示64位比特长度\n",
    "print(array_2.dtype)"
   ]
  },
  {
   "cell_type": "markdown",
   "id": "bebb440e-ebbe-4138-a927-e17afa12ee76",
   "metadata": {},
   "source": [
    "**（4）批量创建数组:**\n",
    "\n",
    "       array = np.zeros(3)\n",
    "       array = np.ones(5)\n",
    "       array = np.arange(0, 6, 2)"
   ]
  },
  {
   "cell_type": "code",
   "execution_count": 9,
   "id": "f2d57849-2871-4c46-a44a-9078156761ec",
   "metadata": {},
   "outputs": [
    {
     "data": {
      "text/plain": [
       "array([0., 0., 0.])"
      ]
     },
     "execution_count": 9,
     "metadata": {},
     "output_type": "execute_result"
    }
   ],
   "source": [
    "np.zeros(3)    # 创建3个元素为0的数组；其中返回的数字都是浮点数"
   ]
  },
  {
   "cell_type": "code",
   "execution_count": 10,
   "id": "d3a51fe2-80eb-4074-8467-a551b1c673a4",
   "metadata": {},
   "outputs": [
    {
     "data": {
      "text/plain": [
       "array([1., 1., 1., 1., 1.])"
      ]
     },
     "execution_count": 10,
     "metadata": {},
     "output_type": "execute_result"
    }
   ],
   "source": [
    "np.ones(5)    # 创建5个元素为1的数组"
   ]
  },
  {
   "cell_type": "code",
   "execution_count": 11,
   "id": "53c3e2c9-6ab9-4e08-8ff8-fb390f78c171",
   "metadata": {},
   "outputs": [
    {
     "data": {
      "text/plain": [
       "array([0, 2, 4])"
      ]
     },
     "execution_count": 11,
     "metadata": {},
     "output_type": "execute_result"
    }
   ],
   "source": [
    "np.arange(0, 6, 2)    # 类似python中的range()方法，从0开始，到5，步长为2，即针对array的range()方法"
   ]
  },
  {
   "cell_type": "markdown",
   "id": "85357a74-a8d6-4597-8554-2aaf97887400",
   "metadata": {},
   "source": [
    "========================================================"
   ]
  },
  {
   "cell_type": "markdown",
   "id": "99ae715c-856e-4113-8ea3-9371e7ff7da5",
   "metadata": {},
   "source": [
    "二、NumPy入门-数组练习（无题库）"
   ]
  }
 ],
 "metadata": {
  "kernelspec": {
   "display_name": "Python 3 (ipykernel)",
   "language": "python",
   "name": "python3"
  },
  "language_info": {
   "codemirror_mode": {
    "name": "ipython",
    "version": 3
   },
   "file_extension": ".py",
   "mimetype": "text/x-python",
   "name": "python",
   "nbconvert_exporter": "python",
   "pygments_lexer": "ipython3",
   "version": "3.12.1"
  }
 },
 "nbformat": 4,
 "nbformat_minor": 5
}
