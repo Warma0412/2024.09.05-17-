{
 "cells": [
  {
   "cell_type": "markdown",
   "id": "120d9d42-c4b0-4a93-9177-140489a442d8",
   "metadata": {},
   "source": [
    "#### 2024.9.15\n",
    "\n",
    "**今日学习：\n",
    "（62）清洗数据·前提（63）清洗数据·索引&列名（64）清洗数据·乱数据**"
   ]
  },
  {
   "cell_type": "markdown",
   "id": "b897dbfc-f452-4e3a-9d84-4d7ece7b3dff",
   "metadata": {},
   "source": [
    "ps：之前漏了（62）清洗数据·前提，学习后发现只是一个基础介绍，在此并不进行笔记记录"
   ]
  },
  {
   "cell_type": "code",
   "execution_count": 1,
   "id": "e49b4b6f-4413-41c7-9252-fa3faa9da5f2",
   "metadata": {},
   "outputs": [],
   "source": [
    "import pandas as pd"
   ]
  },
  {
   "cell_type": "markdown",
   "id": "5e2518ea-5ba8-46a6-b0de-b1534ff43d83",
   "metadata": {},
   "source": [
    "#### 一、清洗数据.索引&列名\n",
    "\n",
    "**（1）手动清洗·索引&列名:**\n",
    "\n",
    "        如果在读取数据后发现数据的索引or列名存在混乱时，可以使用DataFrame的rename方法\n",
    "                重命名索引：df.rename(index={···})\n",
    "                重命名列名：df.rename(columns={···})"
   ]
  },
  {
   "cell_type": "code",
   "execution_count": 2,
   "id": "7a684075-1c46-40d0-9d83-66baaeefda6f",
   "metadata": {},
   "outputs": [
    {
     "data": {
      "text/html": [
       "<div>\n",
       "<style scoped>\n",
       "    .dataframe tbody tr th:only-of-type {\n",
       "        vertical-align: middle;\n",
       "    }\n",
       "\n",
       "    .dataframe tbody tr th {\n",
       "        vertical-align: top;\n",
       "    }\n",
       "\n",
       "    .dataframe thead th {\n",
       "        text-align: right;\n",
       "    }\n",
       "</style>\n",
       "<table border=\"1\" class=\"dataframe\">\n",
       "  <thead>\n",
       "    <tr style=\"text-align: right;\">\n",
       "      <th></th>\n",
       "      <th>姓名</th>\n",
       "      <th>性别</th>\n",
       "      <th>身高</th>\n",
       "      <th>成绩</th>\n",
       "    </tr>\n",
       "  </thead>\n",
       "  <tbody>\n",
       "    <tr>\n",
       "      <th>01</th>\n",
       "      <td>沃玛</td>\n",
       "      <td>女</td>\n",
       "      <td>160.0</td>\n",
       "      <td>100</td>\n",
       "    </tr>\n",
       "    <tr>\n",
       "      <th>002</th>\n",
       "      <td>憨色</td>\n",
       "      <td>女</td>\n",
       "      <td>158.5</td>\n",
       "      <td>90</td>\n",
       "    </tr>\n",
       "    <tr>\n",
       "      <th>03</th>\n",
       "      <td>冷鸟</td>\n",
       "      <td>女</td>\n",
       "      <td>162.2</td>\n",
       "      <td>80</td>\n",
       "    </tr>\n",
       "    <tr>\n",
       "      <th>0004</th>\n",
       "      <td>吴优</td>\n",
       "      <td>男</td>\n",
       "      <td>172.5</td>\n",
       "      <td>66</td>\n",
       "    </tr>\n",
       "  </tbody>\n",
       "</table>\n",
       "</div>"
      ],
      "text/plain": [
       "      姓名 性别     身高   成绩\n",
       "01    沃玛  女  160.0  100\n",
       "002   憨色  女  158.5   90\n",
       "03    冷鸟  女  162.2   80\n",
       "0004  吴优  男  172.5   66"
      ]
     },
     "execution_count": 2,
     "metadata": {},
     "output_type": "execute_result"
    }
   ],
   "source": [
    "s_name = pd.Series([\"沃玛\", \"憨色\", \"冷鸟\", \"吴优\"], index=[\"01\", \"002\", \"03\", \"0004\"])\n",
    "s_sex = pd.Series([\"女\", \"女\", \"女\", \"男\"], index=[\"01\", \"002\", \"03\", \"0004\"])\n",
    "s_height = pd.Series([160.0, 158.5, 162.2, 172.5], index=[\"01\", \"002\", \"03\", \"0004\"])\n",
    "s_grade = pd.Series([100, 90, 80, 66], index=[\"01\", \"002\", \"03\", \"0004\"])\n",
    "\n",
    "df_1 = pd.DataFrame({\"姓名\":s_name, \"性别\":s_sex, \"身高\":s_height, \"成绩\":s_grade})\n",
    "df_1"
   ]
  },
  {
   "cell_type": "code",
   "execution_count": 3,
   "id": "59bdd76f-0dc8-43a1-86c3-e1c0a69882ee",
   "metadata": {},
   "outputs": [
    {
     "data": {
      "text/html": [
       "<div>\n",
       "<style scoped>\n",
       "    .dataframe tbody tr th:only-of-type {\n",
       "        vertical-align: middle;\n",
       "    }\n",
       "\n",
       "    .dataframe tbody tr th {\n",
       "        vertical-align: top;\n",
       "    }\n",
       "\n",
       "    .dataframe thead th {\n",
       "        text-align: right;\n",
       "    }\n",
       "</style>\n",
       "<table border=\"1\" class=\"dataframe\">\n",
       "  <thead>\n",
       "    <tr style=\"text-align: right;\">\n",
       "      <th></th>\n",
       "      <th>姓名</th>\n",
       "      <th>性别</th>\n",
       "      <th>身高</th>\n",
       "      <th>成绩</th>\n",
       "    </tr>\n",
       "  </thead>\n",
       "  <tbody>\n",
       "    <tr>\n",
       "      <th>01</th>\n",
       "      <td>沃玛</td>\n",
       "      <td>女</td>\n",
       "      <td>160.0</td>\n",
       "      <td>100</td>\n",
       "    </tr>\n",
       "    <tr>\n",
       "      <th>02</th>\n",
       "      <td>憨色</td>\n",
       "      <td>女</td>\n",
       "      <td>158.5</td>\n",
       "      <td>90</td>\n",
       "    </tr>\n",
       "    <tr>\n",
       "      <th>03</th>\n",
       "      <td>冷鸟</td>\n",
       "      <td>女</td>\n",
       "      <td>162.2</td>\n",
       "      <td>80</td>\n",
       "    </tr>\n",
       "    <tr>\n",
       "      <th>04</th>\n",
       "      <td>吴优</td>\n",
       "      <td>男</td>\n",
       "      <td>172.5</td>\n",
       "      <td>66</td>\n",
       "    </tr>\n",
       "  </tbody>\n",
       "</table>\n",
       "</div>"
      ],
      "text/plain": [
       "    姓名 性别     身高   成绩\n",
       "01  沃玛  女  160.0  100\n",
       "02  憨色  女  158.5   90\n",
       "03  冷鸟  女  162.2   80\n",
       "04  吴优  男  172.5   66"
      ]
     },
     "execution_count": 3,
     "metadata": {},
     "output_type": "execute_result"
    }
   ],
   "source": [
    "df_1.rename(index={\"002\":\"02\",\"0004\":\"04\"})    # 花括号{}中分别放入 需要修改&修改后的值"
   ]
  },
  {
   "cell_type": "code",
   "execution_count": 4,
   "id": "5726f2b9-60d6-46b4-b9e5-aed2a91ec73c",
   "metadata": {},
   "outputs": [
    {
     "data": {
      "text/html": [
       "<div>\n",
       "<style scoped>\n",
       "    .dataframe tbody tr th:only-of-type {\n",
       "        vertical-align: middle;\n",
       "    }\n",
       "\n",
       "    .dataframe tbody tr th {\n",
       "        vertical-align: top;\n",
       "    }\n",
       "\n",
       "    .dataframe thead th {\n",
       "        text-align: right;\n",
       "    }\n",
       "</style>\n",
       "<table border=\"1\" class=\"dataframe\">\n",
       "  <thead>\n",
       "    <tr style=\"text-align: right;\">\n",
       "      <th></th>\n",
       "      <th>姓名</th>\n",
       "      <th>性别</th>\n",
       "      <th>身高</th>\n",
       "      <th>成绩</th>\n",
       "    </tr>\n",
       "  </thead>\n",
       "  <tbody>\n",
       "    <tr>\n",
       "      <th>01</th>\n",
       "      <td>沃玛</td>\n",
       "      <td>女</td>\n",
       "      <td>160.0</td>\n",
       "      <td>100</td>\n",
       "    </tr>\n",
       "    <tr>\n",
       "      <th>002</th>\n",
       "      <td>憨色</td>\n",
       "      <td>女</td>\n",
       "      <td>158.5</td>\n",
       "      <td>90</td>\n",
       "    </tr>\n",
       "    <tr>\n",
       "      <th>03</th>\n",
       "      <td>冷鸟</td>\n",
       "      <td>女</td>\n",
       "      <td>162.2</td>\n",
       "      <td>80</td>\n",
       "    </tr>\n",
       "    <tr>\n",
       "      <th>0004</th>\n",
       "      <td>吴优</td>\n",
       "      <td>男</td>\n",
       "      <td>172.5</td>\n",
       "      <td>66</td>\n",
       "    </tr>\n",
       "  </tbody>\n",
       "</table>\n",
       "</div>"
      ],
      "text/plain": [
       "      姓名 性别     身高   成绩\n",
       "01    沃玛  女  160.0  100\n",
       "002   憨色  女  158.5   90\n",
       "03    冷鸟  女  162.2   80\n",
       "0004  吴优  男  172.5   66"
      ]
     },
     "execution_count": 4,
     "metadata": {},
     "output_type": "execute_result"
    }
   ],
   "source": [
    "df_1    # 即使rename后，原始df_1的序列并未修改，需要自己调用 =\n",
    "        # columns用法也是一致"
   ]
  },
  {
   "cell_type": "markdown",
   "id": "1a953d26-a77a-4f65-961a-7ff9cac20db2",
   "metadata": {},
   "source": [
    "**（2）自动清洗·索引&列名:**\n",
    "\n",
    "        如果需要清洗的索引&列名很多，手动一个个输入清洗很麻烦，可以将字典{}换成 函数or方法\n",
    "                该函数&方法就是将索引or列名作为参数：大写所有名称：str.upper----str是Series自带的一个属性\n",
    "                                                       具体关于其他str方法可在pandas官网进行查看"
   ]
  },
  {
   "cell_type": "code",
   "execution_count": 5,
   "id": "11560523-2e06-42ce-88bb-a812d2392ff1",
   "metadata": {},
   "outputs": [
    {
     "data": {
      "text/html": [
       "<div>\n",
       "<style scoped>\n",
       "    .dataframe tbody tr th:only-of-type {\n",
       "        vertical-align: middle;\n",
       "    }\n",
       "\n",
       "    .dataframe tbody tr th {\n",
       "        vertical-align: top;\n",
       "    }\n",
       "\n",
       "    .dataframe thead th {\n",
       "        text-align: right;\n",
       "    }\n",
       "</style>\n",
       "<table border=\"1\" class=\"dataframe\">\n",
       "  <thead>\n",
       "    <tr style=\"text-align: right;\">\n",
       "      <th></th>\n",
       "      <th>姓名</th>\n",
       "      <th>性别</th>\n",
       "      <th>身高</th>\n",
       "      <th>成绩</th>\n",
       "    </tr>\n",
       "  </thead>\n",
       "  <tbody>\n",
       "    <tr>\n",
       "      <th>01</th>\n",
       "      <td>沃玛</td>\n",
       "      <td>女</td>\n",
       "      <td>160.0</td>\n",
       "      <td>100</td>\n",
       "    </tr>\n",
       "    <tr>\n",
       "      <th>002</th>\n",
       "      <td>憨色</td>\n",
       "      <td>女</td>\n",
       "      <td>158.5</td>\n",
       "      <td>90</td>\n",
       "    </tr>\n",
       "    <tr>\n",
       "      <th>03</th>\n",
       "      <td>冷鸟</td>\n",
       "      <td>女</td>\n",
       "      <td>162.2</td>\n",
       "      <td>80</td>\n",
       "    </tr>\n",
       "    <tr>\n",
       "      <th>0004</th>\n",
       "      <td>吴优</td>\n",
       "      <td>男</td>\n",
       "      <td>172.5</td>\n",
       "      <td>66</td>\n",
       "    </tr>\n",
       "  </tbody>\n",
       "</table>\n",
       "</div>"
      ],
      "text/plain": [
       "      姓名 性别     身高   成绩\n",
       "01    沃玛  女  160.0  100\n",
       "002   憨色  女  158.5   90\n",
       "03    冷鸟  女  162.2   80\n",
       "0004  吴优  男  172.5   66"
      ]
     },
     "execution_count": 5,
     "metadata": {},
     "output_type": "execute_result"
    }
   ],
   "source": [
    "df_1.rename(columns=str.upper)    # 调用后将列名进行大写"
   ]
  },
  {
   "cell_type": "markdown",
   "id": "95d09c0d-fe72-4adc-a764-41cc3044721e",
   "metadata": {},
   "source": [
    "**（3）将某列设为索引:**\n",
    "\n",
    "        如果需要将其中一列的值替换索引，可以使用.set_index()方法\n",
    "                修改索引为列名后，如果想修改回默认索引，则可以使用.reset_index()方法"
   ]
  },
  {
   "cell_type": "code",
   "execution_count": 6,
   "id": "e3c9f29b-c563-4246-93ac-9944b08c234f",
   "metadata": {},
   "outputs": [
    {
     "data": {
      "text/html": [
       "<div>\n",
       "<style scoped>\n",
       "    .dataframe tbody tr th:only-of-type {\n",
       "        vertical-align: middle;\n",
       "    }\n",
       "\n",
       "    .dataframe tbody tr th {\n",
       "        vertical-align: top;\n",
       "    }\n",
       "\n",
       "    .dataframe thead th {\n",
       "        text-align: right;\n",
       "    }\n",
       "</style>\n",
       "<table border=\"1\" class=\"dataframe\">\n",
       "  <thead>\n",
       "    <tr style=\"text-align: right;\">\n",
       "      <th></th>\n",
       "      <th>性别</th>\n",
       "      <th>身高</th>\n",
       "      <th>成绩</th>\n",
       "    </tr>\n",
       "    <tr>\n",
       "      <th>姓名</th>\n",
       "      <th></th>\n",
       "      <th></th>\n",
       "      <th></th>\n",
       "    </tr>\n",
       "  </thead>\n",
       "  <tbody>\n",
       "    <tr>\n",
       "      <th>沃玛</th>\n",
       "      <td>女</td>\n",
       "      <td>160.0</td>\n",
       "      <td>100</td>\n",
       "    </tr>\n",
       "    <tr>\n",
       "      <th>憨色</th>\n",
       "      <td>女</td>\n",
       "      <td>158.5</td>\n",
       "      <td>90</td>\n",
       "    </tr>\n",
       "    <tr>\n",
       "      <th>冷鸟</th>\n",
       "      <td>女</td>\n",
       "      <td>162.2</td>\n",
       "      <td>80</td>\n",
       "    </tr>\n",
       "    <tr>\n",
       "      <th>吴优</th>\n",
       "      <td>男</td>\n",
       "      <td>172.5</td>\n",
       "      <td>66</td>\n",
       "    </tr>\n",
       "  </tbody>\n",
       "</table>\n",
       "</div>"
      ],
      "text/plain": [
       "   性别     身高   成绩\n",
       "姓名               \n",
       "沃玛  女  160.0  100\n",
       "憨色  女  158.5   90\n",
       "冷鸟  女  162.2   80\n",
       "吴优  男  172.5   66"
      ]
     },
     "execution_count": 6,
     "metadata": {},
     "output_type": "execute_result"
    }
   ],
   "source": [
    "df_2 = df_1.set_index(\"姓名\")\n",
    "df_2"
   ]
  },
  {
   "cell_type": "code",
   "execution_count": 7,
   "id": "8e3280b0-6136-494e-a262-4b1da7fc4327",
   "metadata": {},
   "outputs": [
    {
     "data": {
      "text/html": [
       "<div>\n",
       "<style scoped>\n",
       "    .dataframe tbody tr th:only-of-type {\n",
       "        vertical-align: middle;\n",
       "    }\n",
       "\n",
       "    .dataframe tbody tr th {\n",
       "        vertical-align: top;\n",
       "    }\n",
       "\n",
       "    .dataframe thead th {\n",
       "        text-align: right;\n",
       "    }\n",
       "</style>\n",
       "<table border=\"1\" class=\"dataframe\">\n",
       "  <thead>\n",
       "    <tr style=\"text-align: right;\">\n",
       "      <th></th>\n",
       "      <th>姓名</th>\n",
       "      <th>性别</th>\n",
       "      <th>身高</th>\n",
       "      <th>成绩</th>\n",
       "    </tr>\n",
       "  </thead>\n",
       "  <tbody>\n",
       "    <tr>\n",
       "      <th>0</th>\n",
       "      <td>沃玛</td>\n",
       "      <td>女</td>\n",
       "      <td>160.0</td>\n",
       "      <td>100</td>\n",
       "    </tr>\n",
       "    <tr>\n",
       "      <th>1</th>\n",
       "      <td>憨色</td>\n",
       "      <td>女</td>\n",
       "      <td>158.5</td>\n",
       "      <td>90</td>\n",
       "    </tr>\n",
       "    <tr>\n",
       "      <th>2</th>\n",
       "      <td>冷鸟</td>\n",
       "      <td>女</td>\n",
       "      <td>162.2</td>\n",
       "      <td>80</td>\n",
       "    </tr>\n",
       "    <tr>\n",
       "      <th>3</th>\n",
       "      <td>吴优</td>\n",
       "      <td>男</td>\n",
       "      <td>172.5</td>\n",
       "      <td>66</td>\n",
       "    </tr>\n",
       "  </tbody>\n",
       "</table>\n",
       "</div>"
      ],
      "text/plain": [
       "   姓名 性别     身高   成绩\n",
       "0  沃玛  女  160.0  100\n",
       "1  憨色  女  158.5   90\n",
       "2  冷鸟  女  162.2   80\n",
       "3  吴优  男  172.5   66"
      ]
     },
     "execution_count": 7,
     "metadata": {},
     "output_type": "execute_result"
    }
   ],
   "source": [
    "df_2.reset_index()    # 修改回默认索引"
   ]
  },
  {
   "cell_type": "markdown",
   "id": "1faf9bf2-a9af-4080-acd7-37f60dbba54d",
   "metadata": {},
   "source": [
    "**(4）将索引&列名重新排序:**\n",
    "\n",
    "        调用df.sort_index()可以对索引or列名进行排序\n",
    "                默认axis=0，是沿着索引纵向操作，即对索引进行排序；指定axis=1，是对列名排序"
   ]
  },
  {
   "cell_type": "code",
   "execution_count": 8,
   "id": "ce64502e-f736-4d58-a3d4-7ceafed51a88",
   "metadata": {},
   "outputs": [
    {
     "data": {
      "text/html": [
       "<div>\n",
       "<style scoped>\n",
       "    .dataframe tbody tr th:only-of-type {\n",
       "        vertical-align: middle;\n",
       "    }\n",
       "\n",
       "    .dataframe tbody tr th {\n",
       "        vertical-align: top;\n",
       "    }\n",
       "\n",
       "    .dataframe thead th {\n",
       "        text-align: right;\n",
       "    }\n",
       "</style>\n",
       "<table border=\"1\" class=\"dataframe\">\n",
       "  <thead>\n",
       "    <tr style=\"text-align: right;\">\n",
       "      <th></th>\n",
       "      <th>姓名</th>\n",
       "      <th>性别</th>\n",
       "      <th>身高</th>\n",
       "      <th>成绩</th>\n",
       "    </tr>\n",
       "  </thead>\n",
       "  <tbody>\n",
       "    <tr>\n",
       "      <th>0004</th>\n",
       "      <td>吴优</td>\n",
       "      <td>男</td>\n",
       "      <td>172.5</td>\n",
       "      <td>66</td>\n",
       "    </tr>\n",
       "    <tr>\n",
       "      <th>002</th>\n",
       "      <td>憨色</td>\n",
       "      <td>女</td>\n",
       "      <td>158.5</td>\n",
       "      <td>90</td>\n",
       "    </tr>\n",
       "    <tr>\n",
       "      <th>01</th>\n",
       "      <td>沃玛</td>\n",
       "      <td>女</td>\n",
       "      <td>160.0</td>\n",
       "      <td>100</td>\n",
       "    </tr>\n",
       "    <tr>\n",
       "      <th>03</th>\n",
       "      <td>冷鸟</td>\n",
       "      <td>女</td>\n",
       "      <td>162.2</td>\n",
       "      <td>80</td>\n",
       "    </tr>\n",
       "  </tbody>\n",
       "</table>\n",
       "</div>"
      ],
      "text/plain": [
       "      姓名 性别     身高   成绩\n",
       "0004  吴优  男  172.5   66\n",
       "002   憨色  女  158.5   90\n",
       "01    沃玛  女  160.0  100\n",
       "03    冷鸟  女  162.2   80"
      ]
     },
     "execution_count": 8,
     "metadata": {},
     "output_type": "execute_result"
    }
   ],
   "source": [
    "df_1.sort_index()    # 注意：该调用同样不会改变原始DataFrame"
   ]
  },
  {
   "cell_type": "code",
   "execution_count": 9,
   "id": "a703e4b5-2284-43a6-9db5-20f77dd98fd7",
   "metadata": {},
   "outputs": [
    {
     "data": {
      "text/html": [
       "<div>\n",
       "<style scoped>\n",
       "    .dataframe tbody tr th:only-of-type {\n",
       "        vertical-align: middle;\n",
       "    }\n",
       "\n",
       "    .dataframe tbody tr th {\n",
       "        vertical-align: top;\n",
       "    }\n",
       "\n",
       "    .dataframe thead th {\n",
       "        text-align: right;\n",
       "    }\n",
       "</style>\n",
       "<table border=\"1\" class=\"dataframe\">\n",
       "  <thead>\n",
       "    <tr style=\"text-align: right;\">\n",
       "      <th></th>\n",
       "      <th>姓名</th>\n",
       "      <th>性别</th>\n",
       "      <th>身高</th>\n",
       "      <th>成绩</th>\n",
       "    </tr>\n",
       "  </thead>\n",
       "  <tbody>\n",
       "    <tr>\n",
       "      <th>0004</th>\n",
       "      <td>吴优</td>\n",
       "      <td>男</td>\n",
       "      <td>172.5</td>\n",
       "      <td>66</td>\n",
       "    </tr>\n",
       "    <tr>\n",
       "      <th>002</th>\n",
       "      <td>憨色</td>\n",
       "      <td>女</td>\n",
       "      <td>158.5</td>\n",
       "      <td>90</td>\n",
       "    </tr>\n",
       "    <tr>\n",
       "      <th>01</th>\n",
       "      <td>沃玛</td>\n",
       "      <td>女</td>\n",
       "      <td>160.0</td>\n",
       "      <td>100</td>\n",
       "    </tr>\n",
       "    <tr>\n",
       "      <th>03</th>\n",
       "      <td>冷鸟</td>\n",
       "      <td>女</td>\n",
       "      <td>162.2</td>\n",
       "      <td>80</td>\n",
       "    </tr>\n",
       "  </tbody>\n",
       "</table>\n",
       "</div>"
      ],
      "text/plain": [
       "      姓名 性别     身高   成绩\n",
       "0004  吴优  男  172.5   66\n",
       "002   憨色  女  158.5   90\n",
       "01    沃玛  女  160.0  100\n",
       "03    冷鸟  女  162.2   80"
      ]
     },
     "execution_count": 9,
     "metadata": {},
     "output_type": "execute_result"
    }
   ],
   "source": [
    "df_1.sort_index(inplace=True)    # 如果想修改原始DataFrame，不仅可以通过赋值=，也可以添加参数 inplace=True\n",
    "df_1 "
   ]
  },
  {
   "cell_type": "markdown",
   "id": "675cef8a-e15f-4b2a-a953-b442c3fe2af1",
   "metadata": {},
   "source": [
    "=============================================================================="
   ]
  },
  {
   "cell_type": "markdown",
   "id": "f0b2bc14-f41b-4731-8f81-5c929736bd2f",
   "metadata": {},
   "source": [
    "#### 二、清洗数据·乱数据\n",
    "\n",
    "**（1）清洗数据内容·乱:**\n",
    "\n",
    "        根据数据的结构划分为 乱数据&整洁数据\n",
    "                1.转置数据结构：df.T\n",
    "                2.拆分列（多个属性构成一列）：str.split(\"拆分值\")----同python中的.split()方法一样，根据指定分隔符拆分内容\n",
    "                3.将不同列组合成一列：str.cat()"
   ]
  },
  {
   "cell_type": "code",
   "execution_count": 10,
   "id": "f174f5ef-5926-4075-9efe-8c977a481d2c",
   "metadata": {},
   "outputs": [
    {
     "data": {
      "text/html": [
       "<div>\n",
       "<style scoped>\n",
       "    .dataframe tbody tr th:only-of-type {\n",
       "        vertical-align: middle;\n",
       "    }\n",
       "\n",
       "    .dataframe tbody tr th {\n",
       "        vertical-align: top;\n",
       "    }\n",
       "\n",
       "    .dataframe thead th {\n",
       "        text-align: right;\n",
       "    }\n",
       "</style>\n",
       "<table border=\"1\" class=\"dataframe\">\n",
       "  <thead>\n",
       "    <tr style=\"text-align: right;\">\n",
       "      <th></th>\n",
       "      <th>姓名</th>\n",
       "      <th>性别</th>\n",
       "      <th>身高</th>\n",
       "      <th>成绩</th>\n",
       "    </tr>\n",
       "  </thead>\n",
       "  <tbody>\n",
       "    <tr>\n",
       "      <th>01</th>\n",
       "      <td>沃/玛</td>\n",
       "      <td>女</td>\n",
       "      <td>160.0</td>\n",
       "      <td>100</td>\n",
       "    </tr>\n",
       "    <tr>\n",
       "      <th>02</th>\n",
       "      <td>憨/色</td>\n",
       "      <td>女</td>\n",
       "      <td>158.5</td>\n",
       "      <td>90</td>\n",
       "    </tr>\n",
       "    <tr>\n",
       "      <th>03</th>\n",
       "      <td>冷/鸟</td>\n",
       "      <td>女</td>\n",
       "      <td>162.2</td>\n",
       "      <td>80</td>\n",
       "    </tr>\n",
       "    <tr>\n",
       "      <th>04</th>\n",
       "      <td>吴/优</td>\n",
       "      <td>男</td>\n",
       "      <td>172.5</td>\n",
       "      <td>66</td>\n",
       "    </tr>\n",
       "  </tbody>\n",
       "</table>\n",
       "</div>"
      ],
      "text/plain": [
       "     姓名 性别     身高   成绩\n",
       "01  沃/玛  女  160.0  100\n",
       "02  憨/色  女  158.5   90\n",
       "03  冷/鸟  女  162.2   80\n",
       "04  吴/优  男  172.5   66"
      ]
     },
     "execution_count": 10,
     "metadata": {},
     "output_type": "execute_result"
    }
   ],
   "source": [
    "s_name = pd.Series([\"沃/玛\", \"憨/色\", \"冷/鸟\", \"吴/优\"], index=[\"01\", \"02\", \"03\", \"04\"])\n",
    "s_sex = pd.Series([\"女\", \"女\", \"女\", \"男\"], index=[\"01\", \"02\", \"03\", \"04\"])\n",
    "s_height = pd.Series([160.0, 158.5, 162.2, 172.5], index=[\"01\", \"02\", \"03\", \"04\"])\n",
    "s_grade = pd.Series([100, 90, 80, 66], index=[\"01\", \"02\", \"03\", \"04\"])\n",
    "\n",
    "df_3 = pd.DataFrame({\"姓名\":s_name, \"性别\":s_sex, \"身高\":s_height, \"成绩\":s_grade})\n",
    "df_3"
   ]
  },
  {
   "cell_type": "code",
   "execution_count": 11,
   "id": "14cb2ce6-c028-4a84-8ab1-71e5295b7ee9",
   "metadata": {},
   "outputs": [
    {
     "data": {
      "text/plain": [
       "01    [沃, 玛]\n",
       "02    [憨, 色]\n",
       "03    [冷, 鸟]\n",
       "04    [吴, 优]\n",
       "Name: 姓名, dtype: object"
      ]
     },
     "execution_count": 11,
     "metadata": {},
     "output_type": "execute_result"
    }
   ],
   "source": [
    "df_3[\"姓名\"].str.split(\"/\")    # 即根据 \"/\"分隔符对姓名列进行拆分----但这样只能表达将值拆分为一个[]的效果，并非达到拆分为两列的效果"
   ]
  },
  {
   "cell_type": "code",
   "execution_count": 12,
   "id": "2f70872b-0c5e-4c31-827c-5998288a3b0d",
   "metadata": {},
   "outputs": [
    {
     "data": {
      "text/html": [
       "<div>\n",
       "<style scoped>\n",
       "    .dataframe tbody tr th:only-of-type {\n",
       "        vertical-align: middle;\n",
       "    }\n",
       "\n",
       "    .dataframe tbody tr th {\n",
       "        vertical-align: top;\n",
       "    }\n",
       "\n",
       "    .dataframe thead th {\n",
       "        text-align: right;\n",
       "    }\n",
       "</style>\n",
       "<table border=\"1\" class=\"dataframe\">\n",
       "  <thead>\n",
       "    <tr style=\"text-align: right;\">\n",
       "      <th></th>\n",
       "      <th>0</th>\n",
       "      <th>1</th>\n",
       "    </tr>\n",
       "  </thead>\n",
       "  <tbody>\n",
       "    <tr>\n",
       "      <th>01</th>\n",
       "      <td>沃</td>\n",
       "      <td>玛</td>\n",
       "    </tr>\n",
       "    <tr>\n",
       "      <th>02</th>\n",
       "      <td>憨</td>\n",
       "      <td>色</td>\n",
       "    </tr>\n",
       "    <tr>\n",
       "      <th>03</th>\n",
       "      <td>冷</td>\n",
       "      <td>鸟</td>\n",
       "    </tr>\n",
       "    <tr>\n",
       "      <th>04</th>\n",
       "      <td>吴</td>\n",
       "      <td>优</td>\n",
       "    </tr>\n",
       "  </tbody>\n",
       "</table>\n",
       "</div>"
      ],
      "text/plain": [
       "    0  1\n",
       "01  沃  玛\n",
       "02  憨  色\n",
       "03  冷  鸟\n",
       "04  吴  优"
      ]
     },
     "execution_count": 12,
     "metadata": {},
     "output_type": "execute_result"
    }
   ],
   "source": [
    "df_3[\"姓名\"].str.split(\"/\",expand=True)    # 如果想要根据分隔符将一列数据拆分为两列，需要传入参数 expand=True ，表示将拆分后的值表示为两个Series"
   ]
  },
  {
   "cell_type": "code",
   "execution_count": 13,
   "id": "898dd854-a859-45ff-b483-74196636a818",
   "metadata": {},
   "outputs": [
    {
     "data": {
      "text/html": [
       "<div>\n",
       "<style scoped>\n",
       "    .dataframe tbody tr th:only-of-type {\n",
       "        vertical-align: middle;\n",
       "    }\n",
       "\n",
       "    .dataframe tbody tr th {\n",
       "        vertical-align: top;\n",
       "    }\n",
       "\n",
       "    .dataframe thead th {\n",
       "        text-align: right;\n",
       "    }\n",
       "</style>\n",
       "<table border=\"1\" class=\"dataframe\">\n",
       "  <thead>\n",
       "    <tr style=\"text-align: right;\">\n",
       "      <th></th>\n",
       "      <th>姓名</th>\n",
       "      <th>性别</th>\n",
       "      <th>身高</th>\n",
       "      <th>成绩</th>\n",
       "      <th>姓</th>\n",
       "      <th>名</th>\n",
       "    </tr>\n",
       "  </thead>\n",
       "  <tbody>\n",
       "    <tr>\n",
       "      <th>01</th>\n",
       "      <td>沃/玛</td>\n",
       "      <td>女</td>\n",
       "      <td>160.0</td>\n",
       "      <td>100</td>\n",
       "      <td>沃</td>\n",
       "      <td>玛</td>\n",
       "    </tr>\n",
       "    <tr>\n",
       "      <th>02</th>\n",
       "      <td>憨/色</td>\n",
       "      <td>女</td>\n",
       "      <td>158.5</td>\n",
       "      <td>90</td>\n",
       "      <td>憨</td>\n",
       "      <td>色</td>\n",
       "    </tr>\n",
       "    <tr>\n",
       "      <th>03</th>\n",
       "      <td>冷/鸟</td>\n",
       "      <td>女</td>\n",
       "      <td>162.2</td>\n",
       "      <td>80</td>\n",
       "      <td>冷</td>\n",
       "      <td>鸟</td>\n",
       "    </tr>\n",
       "    <tr>\n",
       "      <th>04</th>\n",
       "      <td>吴/优</td>\n",
       "      <td>男</td>\n",
       "      <td>172.5</td>\n",
       "      <td>66</td>\n",
       "      <td>吴</td>\n",
       "      <td>优</td>\n",
       "    </tr>\n",
       "  </tbody>\n",
       "</table>\n",
       "</div>"
      ],
      "text/plain": [
       "     姓名 性别     身高   成绩  姓  名\n",
       "01  沃/玛  女  160.0  100  沃  玛\n",
       "02  憨/色  女  158.5   90  憨  色\n",
       "03  冷/鸟  女  162.2   80  冷  鸟\n",
       "04  吴/优  男  172.5   66  吴  优"
      ]
     },
     "execution_count": 13,
     "metadata": {},
     "output_type": "execute_result"
    }
   ],
   "source": [
    "df_3[[\"姓\", \"名\"]] = df_3[\"姓名\"].str.split(\"/\",expand=True)    # 赋值后添加了两列指定的 Series----但如果指定的列名存在即为更新列\n",
    "df_3                                                           # 但此时老Series并未被删除"
   ]
  },
  {
   "cell_type": "code",
   "execution_count": 14,
   "id": "e98af780-234d-4ad7-8319-692c8070abca",
   "metadata": {},
   "outputs": [
    {
     "data": {
      "text/html": [
       "<div>\n",
       "<style scoped>\n",
       "    .dataframe tbody tr th:only-of-type {\n",
       "        vertical-align: middle;\n",
       "    }\n",
       "\n",
       "    .dataframe tbody tr th {\n",
       "        vertical-align: top;\n",
       "    }\n",
       "\n",
       "    .dataframe thead th {\n",
       "        text-align: right;\n",
       "    }\n",
       "</style>\n",
       "<table border=\"1\" class=\"dataframe\">\n",
       "  <thead>\n",
       "    <tr style=\"text-align: right;\">\n",
       "      <th></th>\n",
       "      <th>性别</th>\n",
       "      <th>身高</th>\n",
       "      <th>成绩</th>\n",
       "      <th>姓</th>\n",
       "      <th>名</th>\n",
       "    </tr>\n",
       "  </thead>\n",
       "  <tbody>\n",
       "    <tr>\n",
       "      <th>01</th>\n",
       "      <td>女</td>\n",
       "      <td>160.0</td>\n",
       "      <td>100</td>\n",
       "      <td>沃</td>\n",
       "      <td>玛</td>\n",
       "    </tr>\n",
       "    <tr>\n",
       "      <th>02</th>\n",
       "      <td>女</td>\n",
       "      <td>158.5</td>\n",
       "      <td>90</td>\n",
       "      <td>憨</td>\n",
       "      <td>色</td>\n",
       "    </tr>\n",
       "    <tr>\n",
       "      <th>03</th>\n",
       "      <td>女</td>\n",
       "      <td>162.2</td>\n",
       "      <td>80</td>\n",
       "      <td>冷</td>\n",
       "      <td>鸟</td>\n",
       "    </tr>\n",
       "    <tr>\n",
       "      <th>04</th>\n",
       "      <td>男</td>\n",
       "      <td>172.5</td>\n",
       "      <td>66</td>\n",
       "      <td>吴</td>\n",
       "      <td>优</td>\n",
       "    </tr>\n",
       "  </tbody>\n",
       "</table>\n",
       "</div>"
      ],
      "text/plain": [
       "   性别     身高   成绩  姓  名\n",
       "01  女  160.0  100  沃  玛\n",
       "02  女  158.5   90  憨  色\n",
       "03  女  162.2   80  冷  鸟\n",
       "04  男  172.5   66  吴  优"
      ]
     },
     "execution_count": 14,
     "metadata": {},
     "output_type": "execute_result"
    }
   ],
   "source": [
    "df_3 = df_3.drop(\"姓名\", axis=1)    # 删除列 \"姓名\"，由于\"姓名\"是列名，因此还需要指定axis=1\n",
    "df_3"
   ]
  },
  {
   "cell_type": "code",
   "execution_count": 15,
   "id": "c97e9281-13af-4b5f-8f85-2c431be195f0",
   "metadata": {},
   "outputs": [
    {
     "data": {
      "text/plain": [
       "01    沃玛\n",
       "02    憨色\n",
       "03    冷鸟\n",
       "04    吴优\n",
       "Name: 姓, dtype: object"
      ]
     },
     "execution_count": 15,
     "metadata": {},
     "output_type": "execute_result"
    }
   ],
   "source": [
    "df_3[\"姓\"].str.cat(df_3[\"名\"])    # 使用str.cat()拼接不同列"
   ]
  },
  {
   "cell_type": "code",
   "execution_count": 16,
   "id": "b432a01f-4c9a-4472-87f4-3e9d123ef447",
   "metadata": {},
   "outputs": [
    {
     "data": {
      "text/plain": [
       "01    沃-玛\n",
       "02    憨-色\n",
       "03    冷-鸟\n",
       "04    吴-优\n",
       "Name: 姓, dtype: object"
      ]
     },
     "execution_count": 16,
     "metadata": {},
     "output_type": "execute_result"
    }
   ],
   "source": [
    "df_3[\"姓\"].str.cat(df_3[\"名\"],sep=\"-\")    # 还可以调用 sep=\"-\"，用来指定拼接值时的分隔符"
   ]
  },
  {
   "cell_type": "markdown",
   "id": "1e1e36ba-57ca-45df-af42-70dd3784425a",
   "metadata": {},
   "source": [
    "**（2）将宽数据转换为长数据:**\n",
    "\n",
    "        实质是将一部分列名的值转换为变量的值，如将DGP·Q1、DGP·Q2、DGP·Q3、DGP·Q4转换为GDP为列名，Q1234分别为其值\n",
    "                可以调用pd.melt()方法：pd.melt(df_1, id_vars=[\"保留列名1\", \"保留列名2\"],\n",
    "                                            var_name=\"转换后的列名\",  value_name=\"数值列名\")"
   ]
  },
  {
   "cell_type": "code",
   "execution_count": 17,
   "id": "79f8b0b4-3074-4104-9e3d-0692f0cf683e",
   "metadata": {},
   "outputs": [],
   "source": [
    "# pd.melt(df_GDP, id_vars=[\"国家 \", \"年份 \"],\n",
    "#        var_name=\"GDP\",  value_name=\"数值\") "
   ]
  },
  {
   "cell_type": "markdown",
   "id": "859d5301-d2e3-4e24-bb0d-eb2411e61b87",
   "metadata": {},
   "source": [
    "        由于没有具体df数据，看起来有些奇怪"
   ]
  },
  {
   "cell_type": "markdown",
   "id": "751745e5-6b62-494c-858a-c5edc27e1408",
   "metadata": {},
   "source": [
    "**（3）对行进行拆分:**\n",
    "\n",
    "        如某列的值为是一个列表，而不是独立的值，可以调用.explode(\"列名\")方法将该列中的元素转换为单独一行的DataFrame"
   ]
  },
  {
   "cell_type": "code",
   "execution_count": 18,
   "id": "749d06b8-0fb5-459a-8ecb-a0c98140d138",
   "metadata": {},
   "outputs": [
    {
     "data": {
      "text/html": [
       "<div>\n",
       "<style scoped>\n",
       "    .dataframe tbody tr th:only-of-type {\n",
       "        vertical-align: middle;\n",
       "    }\n",
       "\n",
       "    .dataframe tbody tr th {\n",
       "        vertical-align: top;\n",
       "    }\n",
       "\n",
       "    .dataframe thead th {\n",
       "        text-align: right;\n",
       "    }\n",
       "</style>\n",
       "<table border=\"1\" class=\"dataframe\">\n",
       "  <thead>\n",
       "    <tr style=\"text-align: right;\">\n",
       "      <th></th>\n",
       "      <th>姓名</th>\n",
       "      <th>课程</th>\n",
       "    </tr>\n",
       "  </thead>\n",
       "  <tbody>\n",
       "    <tr>\n",
       "      <th>01</th>\n",
       "      <td>沃玛</td>\n",
       "      <td>[数学, 英语]</td>\n",
       "    </tr>\n",
       "    <tr>\n",
       "      <th>02</th>\n",
       "      <td>憨色</td>\n",
       "      <td>[英语]</td>\n",
       "    </tr>\n",
       "    <tr>\n",
       "      <th>03</th>\n",
       "      <td>冷鸟</td>\n",
       "      <td>[数学, 音乐]</td>\n",
       "    </tr>\n",
       "    <tr>\n",
       "      <th>04</th>\n",
       "      <td>吴优</td>\n",
       "      <td>[体育, 英语, 语文]</td>\n",
       "    </tr>\n",
       "  </tbody>\n",
       "</table>\n",
       "</div>"
      ],
      "text/plain": [
       "    姓名            课程\n",
       "01  沃玛      [数学, 英语]\n",
       "02  憨色          [英语]\n",
       "03  冷鸟      [数学, 音乐]\n",
       "04  吴优  [体育, 英语, 语文]"
      ]
     },
     "execution_count": 18,
     "metadata": {},
     "output_type": "execute_result"
    }
   ],
   "source": [
    "s_name = pd.Series([\"沃玛\", \"憨色\", \"冷鸟\", \"吴优\"], index=[\"01\", \"02\", \"03\", \"04\"])\n",
    "s_class = pd.Series([[\"数学\", \"英语\"], [\"英语\"], [\"数学\", \"音乐\"], [\"体育\", \"英语\", \"语文\"]], index=[\"01\", \"02\", \"03\", \"04\"])\n",
    "\n",
    "df_4 = pd.DataFrame({\"姓名\":s_name, \"课程\":s_class})\n",
    "df_4"
   ]
  },
  {
   "cell_type": "code",
   "execution_count": 19,
   "id": "f91eaa3f-1dd8-4a1d-b9de-3ab962c970e7",
   "metadata": {},
   "outputs": [
    {
     "data": {
      "text/html": [
       "<div>\n",
       "<style scoped>\n",
       "    .dataframe tbody tr th:only-of-type {\n",
       "        vertical-align: middle;\n",
       "    }\n",
       "\n",
       "    .dataframe tbody tr th {\n",
       "        vertical-align: top;\n",
       "    }\n",
       "\n",
       "    .dataframe thead th {\n",
       "        text-align: right;\n",
       "    }\n",
       "</style>\n",
       "<table border=\"1\" class=\"dataframe\">\n",
       "  <thead>\n",
       "    <tr style=\"text-align: right;\">\n",
       "      <th></th>\n",
       "      <th>姓名</th>\n",
       "      <th>课程</th>\n",
       "    </tr>\n",
       "  </thead>\n",
       "  <tbody>\n",
       "    <tr>\n",
       "      <th>01</th>\n",
       "      <td>沃玛</td>\n",
       "      <td>数学</td>\n",
       "    </tr>\n",
       "    <tr>\n",
       "      <th>01</th>\n",
       "      <td>沃玛</td>\n",
       "      <td>英语</td>\n",
       "    </tr>\n",
       "    <tr>\n",
       "      <th>02</th>\n",
       "      <td>憨色</td>\n",
       "      <td>英语</td>\n",
       "    </tr>\n",
       "    <tr>\n",
       "      <th>03</th>\n",
       "      <td>冷鸟</td>\n",
       "      <td>数学</td>\n",
       "    </tr>\n",
       "    <tr>\n",
       "      <th>03</th>\n",
       "      <td>冷鸟</td>\n",
       "      <td>音乐</td>\n",
       "    </tr>\n",
       "    <tr>\n",
       "      <th>04</th>\n",
       "      <td>吴优</td>\n",
       "      <td>体育</td>\n",
       "    </tr>\n",
       "    <tr>\n",
       "      <th>04</th>\n",
       "      <td>吴优</td>\n",
       "      <td>英语</td>\n",
       "    </tr>\n",
       "    <tr>\n",
       "      <th>04</th>\n",
       "      <td>吴优</td>\n",
       "      <td>语文</td>\n",
       "    </tr>\n",
       "  </tbody>\n",
       "</table>\n",
       "</div>"
      ],
      "text/plain": [
       "    姓名  课程\n",
       "01  沃玛  数学\n",
       "01  沃玛  英语\n",
       "02  憨色  英语\n",
       "03  冷鸟  数学\n",
       "03  冷鸟  音乐\n",
       "04  吴优  体育\n",
       "04  吴优  英语\n",
       "04  吴优  语文"
      ]
     },
     "execution_count": 19,
     "metadata": {},
     "output_type": "execute_result"
    }
   ],
   "source": [
    "df_4.explode(\"课程\")    # 将\"课程\"中的每个元素转换为单独的一行"
   ]
  },
  {
   "cell_type": "markdown",
   "id": "039488d0-71db-48de-b944-b98aba7fbe24",
   "metadata": {},
   "source": [
    " **（4）对行or列进行删除:**\n",
    "\n",
    "        使用.drop()方法，不指定axis时，默认对序列进行操作\n",
    "                同样可以指定一个[]删除多个行or列，如df_4.drop([\"02\",\"04\"])"
   ]
  },
  {
   "cell_type": "code",
   "execution_count": 20,
   "id": "ebfa480d-ef51-4a71-84a0-9c6f3e4daeba",
   "metadata": {},
   "outputs": [
    {
     "data": {
      "text/html": [
       "<div>\n",
       "<style scoped>\n",
       "    .dataframe tbody tr th:only-of-type {\n",
       "        vertical-align: middle;\n",
       "    }\n",
       "\n",
       "    .dataframe tbody tr th {\n",
       "        vertical-align: top;\n",
       "    }\n",
       "\n",
       "    .dataframe thead th {\n",
       "        text-align: right;\n",
       "    }\n",
       "</style>\n",
       "<table border=\"1\" class=\"dataframe\">\n",
       "  <thead>\n",
       "    <tr style=\"text-align: right;\">\n",
       "      <th></th>\n",
       "      <th>姓名</th>\n",
       "      <th>课程</th>\n",
       "    </tr>\n",
       "  </thead>\n",
       "  <tbody>\n",
       "    <tr>\n",
       "      <th>01</th>\n",
       "      <td>沃玛</td>\n",
       "      <td>[数学, 英语]</td>\n",
       "    </tr>\n",
       "    <tr>\n",
       "      <th>03</th>\n",
       "      <td>冷鸟</td>\n",
       "      <td>[数学, 音乐]</td>\n",
       "    </tr>\n",
       "    <tr>\n",
       "      <th>04</th>\n",
       "      <td>吴优</td>\n",
       "      <td>[体育, 英语, 语文]</td>\n",
       "    </tr>\n",
       "  </tbody>\n",
       "</table>\n",
       "</div>"
      ],
      "text/plain": [
       "    姓名            课程\n",
       "01  沃玛      [数学, 英语]\n",
       "03  冷鸟      [数学, 音乐]\n",
       "04  吴优  [体育, 英语, 语文]"
      ]
     },
     "execution_count": 20,
     "metadata": {},
     "output_type": "execute_result"
    }
   ],
   "source": [
    "df_4.drop(\"02\")    # 删除序列为 \"02\"的行"
   ]
  },
  {
   "cell_type": "code",
   "execution_count": 21,
   "id": "26ae7fcf-432d-4473-b9f8-f8d0fa10eae4",
   "metadata": {},
   "outputs": [
    {
     "data": {
      "text/html": [
       "<div>\n",
       "<style scoped>\n",
       "    .dataframe tbody tr th:only-of-type {\n",
       "        vertical-align: middle;\n",
       "    }\n",
       "\n",
       "    .dataframe tbody tr th {\n",
       "        vertical-align: top;\n",
       "    }\n",
       "\n",
       "    .dataframe thead th {\n",
       "        text-align: right;\n",
       "    }\n",
       "</style>\n",
       "<table border=\"1\" class=\"dataframe\">\n",
       "  <thead>\n",
       "    <tr style=\"text-align: right;\">\n",
       "      <th></th>\n",
       "      <th>课程</th>\n",
       "    </tr>\n",
       "  </thead>\n",
       "  <tbody>\n",
       "    <tr>\n",
       "      <th>01</th>\n",
       "      <td>[数学, 英语]</td>\n",
       "    </tr>\n",
       "    <tr>\n",
       "      <th>02</th>\n",
       "      <td>[英语]</td>\n",
       "    </tr>\n",
       "    <tr>\n",
       "      <th>03</th>\n",
       "      <td>[数学, 音乐]</td>\n",
       "    </tr>\n",
       "    <tr>\n",
       "      <th>04</th>\n",
       "      <td>[体育, 英语, 语文]</td>\n",
       "    </tr>\n",
       "  </tbody>\n",
       "</table>\n",
       "</div>"
      ],
      "text/plain": [
       "              课程\n",
       "01      [数学, 英语]\n",
       "02          [英语]\n",
       "03      [数学, 音乐]\n",
       "04  [体育, 英语, 语文]"
      ]
     },
     "execution_count": 21,
     "metadata": {},
     "output_type": "execute_result"
    }
   ],
   "source": [
    "df_4.drop(\"姓名\", axis=1)    # 指定axis=1，删除列"
   ]
  },
  {
   "cell_type": "code",
   "execution_count": 22,
   "id": "d6e20917-305c-419c-b048-26af0c4c8d30",
   "metadata": {},
   "outputs": [
    {
     "data": {
      "text/html": [
       "<div>\n",
       "<style scoped>\n",
       "    .dataframe tbody tr th:only-of-type {\n",
       "        vertical-align: middle;\n",
       "    }\n",
       "\n",
       "    .dataframe tbody tr th {\n",
       "        vertical-align: top;\n",
       "    }\n",
       "\n",
       "    .dataframe thead th {\n",
       "        text-align: right;\n",
       "    }\n",
       "</style>\n",
       "<table border=\"1\" class=\"dataframe\">\n",
       "  <thead>\n",
       "    <tr style=\"text-align: right;\">\n",
       "      <th></th>\n",
       "      <th>姓名</th>\n",
       "      <th>课程</th>\n",
       "    </tr>\n",
       "  </thead>\n",
       "  <tbody>\n",
       "    <tr>\n",
       "      <th>01</th>\n",
       "      <td>沃玛</td>\n",
       "      <td>[数学, 英语]</td>\n",
       "    </tr>\n",
       "    <tr>\n",
       "      <th>03</th>\n",
       "      <td>冷鸟</td>\n",
       "      <td>[数学, 音乐]</td>\n",
       "    </tr>\n",
       "  </tbody>\n",
       "</table>\n",
       "</div>"
      ],
      "text/plain": [
       "    姓名        课程\n",
       "01  沃玛  [数学, 英语]\n",
       "03  冷鸟  [数学, 音乐]"
      ]
     },
     "execution_count": 22,
     "metadata": {},
     "output_type": "execute_result"
    }
   ],
   "source": [
    "df_4.drop([\"02\",\"04\"])    # 传入[]删除多行or列"
   ]
  }
 ],
 "metadata": {
  "kernelspec": {
   "display_name": "Python 3 (ipykernel)",
   "language": "python",
   "name": "python3"
  },
  "language_info": {
   "codemirror_mode": {
    "name": "ipython",
    "version": 3
   },
   "file_extension": ".py",
   "mimetype": "text/x-python",
   "name": "python",
   "nbconvert_exporter": "python",
   "pygments_lexer": "ipython3",
   "version": "3.12.1"
  }
 },
 "nbformat": 4,
 "nbformat_minor": 5
}
